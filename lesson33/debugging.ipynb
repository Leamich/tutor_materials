{
  "cells": [
    {
      "cell_type": "markdown",
      "metadata": {
        "collapsed": false,
        "jupyter": {
          "outputs_hidden": false
        },
        "id": "3uhSFjEO_jTD"
      },
      "source": [
        "# Полезные практики отладки кода\n",
        "\n",
        "*Леонтьев Михаил, 2025*"
      ]
    },
    {
      "cell_type": "markdown",
      "source": [
        "Часто проверка и чтение кода является не менее (а то и более) значимой, чем, собственно, его написание. Для этого существует несколько полезных техник:\n",
        "\n",
        "1. **print-debugging**. Использование вывода переменных в процессе выполнения кода. Помогает отследить, как работает код.\n",
        "\n",
        "2. **assert** (проверка препозиции). Специальная конструкция языка для проверки условий. Если ```assert False```, то выдаст ошибку ```AssertionError```.\n",
        "\n",
        "3. **Проверка крайних случаев**. Скорее идея проверять различные пограничные случаи: максимальные и минимальные допустимые значения, отрицательные числа, пустые массивы, целочисленное деление.\n",
        "\n",
        "4. **saninty-check**. Тоже идея проверки кода на \"разумность\". Проверка, что значения в целом соответствуют ожидаемым в этой задаче (проверить, что тип переменной правильный, что массив ответов непустой, что мы правильно генерируем перестановки, что мы правильно считали данные)."
      ],
      "metadata": {
        "id": "MhoGG4apI5Kp"
      }
    },
    {
      "cell_type": "markdown",
      "source": [
        "# Примеры"
      ],
      "metadata": {
        "id": "V-_6oWYPFPEi"
      }
    },
    {
      "cell_type": "markdown",
      "source": [
        "## Пример 1. Исключения и assert"
      ],
      "metadata": {
        "id": "1LjXedf3M510"
      }
    },
    {
      "cell_type": "code",
      "source": [
        "def get_average(a):\n",
        "    \"\"\"\n",
        "    Получить среднее чисел в массиве.\n",
        "    Принимает на вход непустой массив чисел.\n",
        "    Возвращает float - среднее чисел в массиве\n",
        "    \"\"\"\n",
        "\n",
        "    assert (type(a) == list) or (type(a) == tuple)\n",
        "    assert len(a) > 0, \"ОШИБКА len(a)=0\"\n",
        "\n",
        "    # при len(a)=0, будет ошибка\n",
        "    return sum(a) / len(a)"
      ],
      "metadata": {
        "id": "9nn6GPrMMBfl"
      },
      "execution_count": 9,
      "outputs": []
    },
    {
      "cell_type": "code",
      "source": [
        "assert get_average([1, 2, 3]) == 2"
      ],
      "metadata": {
        "id": "E8crvLi9Mkf4"
      },
      "execution_count": 10,
      "outputs": []
    },
    {
      "cell_type": "code",
      "source": [
        "print(get_average([]))"
      ],
      "metadata": {
        "colab": {
          "base_uri": "https://localhost:8080/",
          "height": 263
        },
        "id": "PyVvCCe2Mp-Y",
        "outputId": "0cc1991f-e4a5-4d79-f9d7-86eb86d0e786"
      },
      "execution_count": 11,
      "outputs": [
        {
          "output_type": "error",
          "ename": "AssertionError",
          "evalue": "ОШИБКА len(a)=0",
          "traceback": [
            "\u001b[0;31m---------------------------------------------------------------------------\u001b[0m",
            "\u001b[0;31mAssertionError\u001b[0m                            Traceback (most recent call last)",
            "\u001b[0;32m<ipython-input-11-a6bcfa339c57>\u001b[0m in \u001b[0;36m<cell line: 0>\u001b[0;34m()\u001b[0m\n\u001b[0;32m----> 1\u001b[0;31m \u001b[0mprint\u001b[0m\u001b[0;34m(\u001b[0m\u001b[0mget_average\u001b[0m\u001b[0;34m(\u001b[0m\u001b[0;34m[\u001b[0m\u001b[0;34m]\u001b[0m\u001b[0;34m)\u001b[0m\u001b[0;34m)\u001b[0m\u001b[0;34m\u001b[0m\u001b[0;34m\u001b[0m\u001b[0m\n\u001b[0m",
            "\u001b[0;32m<ipython-input-9-9db1c27a40e7>\u001b[0m in \u001b[0;36mget_average\u001b[0;34m(a)\u001b[0m\n\u001b[1;32m      7\u001b[0m \u001b[0;34m\u001b[0m\u001b[0m\n\u001b[1;32m      8\u001b[0m     \u001b[0;32massert\u001b[0m \u001b[0;34m(\u001b[0m\u001b[0mtype\u001b[0m\u001b[0;34m(\u001b[0m\u001b[0ma\u001b[0m\u001b[0;34m)\u001b[0m \u001b[0;34m==\u001b[0m \u001b[0mlist\u001b[0m\u001b[0;34m)\u001b[0m \u001b[0;32mor\u001b[0m \u001b[0;34m(\u001b[0m\u001b[0mtype\u001b[0m\u001b[0;34m(\u001b[0m\u001b[0ma\u001b[0m\u001b[0;34m)\u001b[0m \u001b[0;34m==\u001b[0m \u001b[0mtuple\u001b[0m\u001b[0;34m)\u001b[0m\u001b[0;34m\u001b[0m\u001b[0;34m\u001b[0m\u001b[0m\n\u001b[0;32m----> 9\u001b[0;31m     \u001b[0;32massert\u001b[0m \u001b[0mlen\u001b[0m\u001b[0;34m(\u001b[0m\u001b[0ma\u001b[0m\u001b[0;34m)\u001b[0m \u001b[0;34m>\u001b[0m \u001b[0;36m0\u001b[0m\u001b[0;34m,\u001b[0m \u001b[0;34m\"ОШИБКА len(a)=0\"\u001b[0m\u001b[0;34m\u001b[0m\u001b[0;34m\u001b[0m\u001b[0m\n\u001b[0m\u001b[1;32m     10\u001b[0m \u001b[0;34m\u001b[0m\u001b[0m\n\u001b[1;32m     11\u001b[0m     \u001b[0;31m# при len(a)=0, будет ошибка\u001b[0m\u001b[0;34m\u001b[0m\u001b[0;34m\u001b[0m\u001b[0m\n",
            "\u001b[0;31mAssertionError\u001b[0m: ОШИБКА len(a)=0"
          ]
        }
      ]
    },
    {
      "cell_type": "code",
      "source": [
        "print(get_average(7))"
      ],
      "metadata": {
        "colab": {
          "base_uri": "https://localhost:8080/",
          "height": 263
        },
        "id": "Vu_JwVXEMreg",
        "outputId": "6913d88c-d770-4685-f775-962830fba5f5"
      },
      "execution_count": 14,
      "outputs": [
        {
          "output_type": "error",
          "ename": "AssertionError",
          "evalue": "",
          "traceback": [
            "\u001b[0;31m---------------------------------------------------------------------------\u001b[0m",
            "\u001b[0;31mAssertionError\u001b[0m                            Traceback (most recent call last)",
            "\u001b[0;32m<ipython-input-14-53973c5203f8>\u001b[0m in \u001b[0;36m<cell line: 0>\u001b[0;34m()\u001b[0m\n\u001b[0;32m----> 1\u001b[0;31m \u001b[0mprint\u001b[0m\u001b[0;34m(\u001b[0m\u001b[0mget_average\u001b[0m\u001b[0;34m(\u001b[0m\u001b[0;36m7\u001b[0m\u001b[0;34m)\u001b[0m\u001b[0;34m)\u001b[0m\u001b[0;34m\u001b[0m\u001b[0;34m\u001b[0m\u001b[0m\n\u001b[0m",
            "\u001b[0;32m<ipython-input-9-9db1c27a40e7>\u001b[0m in \u001b[0;36mget_average\u001b[0;34m(a)\u001b[0m\n\u001b[1;32m      6\u001b[0m     \"\"\"\n\u001b[1;32m      7\u001b[0m \u001b[0;34m\u001b[0m\u001b[0m\n\u001b[0;32m----> 8\u001b[0;31m     \u001b[0;32massert\u001b[0m \u001b[0;34m(\u001b[0m\u001b[0mtype\u001b[0m\u001b[0;34m(\u001b[0m\u001b[0ma\u001b[0m\u001b[0;34m)\u001b[0m \u001b[0;34m==\u001b[0m \u001b[0mlist\u001b[0m\u001b[0;34m)\u001b[0m \u001b[0;32mor\u001b[0m \u001b[0;34m(\u001b[0m\u001b[0mtype\u001b[0m\u001b[0;34m(\u001b[0m\u001b[0ma\u001b[0m\u001b[0;34m)\u001b[0m \u001b[0;34m==\u001b[0m \u001b[0mtuple\u001b[0m\u001b[0;34m)\u001b[0m\u001b[0;34m\u001b[0m\u001b[0;34m\u001b[0m\u001b[0m\n\u001b[0m\u001b[1;32m      9\u001b[0m     \u001b[0;32massert\u001b[0m \u001b[0mlen\u001b[0m\u001b[0;34m(\u001b[0m\u001b[0ma\u001b[0m\u001b[0;34m)\u001b[0m \u001b[0;34m>\u001b[0m \u001b[0;36m0\u001b[0m\u001b[0;34m,\u001b[0m \u001b[0;34m\"ОШИБКА len(a)=0\"\u001b[0m\u001b[0;34m\u001b[0m\u001b[0;34m\u001b[0m\u001b[0m\n\u001b[1;32m     10\u001b[0m \u001b[0;34m\u001b[0m\u001b[0m\n",
            "\u001b[0;31mAssertionError\u001b[0m: "
          ]
        }
      ]
    },
    {
      "cell_type": "code",
      "source": [
        "print(get_average([1, 2, \"3\"]))"
      ],
      "metadata": {
        "colab": {
          "base_uri": "https://localhost:8080/",
          "height": 228
        },
        "id": "zyu1cQMDMs2v",
        "outputId": "f7405574-306a-4d10-ac4e-091b9adfc2fc"
      },
      "execution_count": 15,
      "outputs": [
        {
          "output_type": "error",
          "ename": "TypeError",
          "evalue": "unsupported operand type(s) for +: 'int' and 'str'",
          "traceback": [
            "\u001b[0;31m---------------------------------------------------------------------------\u001b[0m",
            "\u001b[0;31mTypeError\u001b[0m                                 Traceback (most recent call last)",
            "\u001b[0;32m<ipython-input-15-991c557fd749>\u001b[0m in \u001b[0;36m<cell line: 0>\u001b[0;34m()\u001b[0m\n\u001b[0;32m----> 1\u001b[0;31m \u001b[0mprint\u001b[0m\u001b[0;34m(\u001b[0m\u001b[0mget_average\u001b[0m\u001b[0;34m(\u001b[0m\u001b[0;34m[\u001b[0m\u001b[0;36m1\u001b[0m\u001b[0;34m,\u001b[0m \u001b[0;36m2\u001b[0m\u001b[0;34m,\u001b[0m \u001b[0;34m\"3\"\u001b[0m\u001b[0;34m]\u001b[0m\u001b[0;34m)\u001b[0m\u001b[0;34m)\u001b[0m\u001b[0;34m\u001b[0m\u001b[0;34m\u001b[0m\u001b[0m\n\u001b[0m",
            "\u001b[0;32m<ipython-input-9-9db1c27a40e7>\u001b[0m in \u001b[0;36mget_average\u001b[0;34m(a)\u001b[0m\n\u001b[1;32m     10\u001b[0m \u001b[0;34m\u001b[0m\u001b[0m\n\u001b[1;32m     11\u001b[0m     \u001b[0;31m# при len(a)=0, будет ошибка\u001b[0m\u001b[0;34m\u001b[0m\u001b[0;34m\u001b[0m\u001b[0m\n\u001b[0;32m---> 12\u001b[0;31m     \u001b[0;32mreturn\u001b[0m \u001b[0msum\u001b[0m\u001b[0;34m(\u001b[0m\u001b[0ma\u001b[0m\u001b[0;34m)\u001b[0m \u001b[0;34m/\u001b[0m \u001b[0mlen\u001b[0m\u001b[0;34m(\u001b[0m\u001b[0ma\u001b[0m\u001b[0;34m)\u001b[0m\u001b[0;34m\u001b[0m\u001b[0;34m\u001b[0m\u001b[0m\n\u001b[0m",
            "\u001b[0;31mTypeError\u001b[0m: unsupported operand type(s) for +: 'int' and 'str'"
          ]
        }
      ]
    },
    {
      "cell_type": "markdown",
      "source": [
        "## Пример 2. Крайний случай\n",
        "\n",
        "В файле содержится последовательность целых чисел. Элементы последовательности могут принимать целые значения от -10000 до 10000 включительно. Определите и запишите в ответе сначала количество пар элементов последовательности, сумма которых четна. Затем – максимальное число в паре среди всех таких пар. Числа должны идти через пробел. В данной задаче под парой подразумевается два идущих подряд элемента последовательности. Например, для последовательности -204, -37, 14, 1, -2, -16 ответом будет пара чисел: 1 и -2."
      ],
      "metadata": {
        "id": "QrGIVlOiHQ4q"
      }
    },
    {
      "cell_type": "code",
      "source": [
        "a = [-204, -37, 14, 1, -2, -16]\n",
        "maxim = 0\n",
        "count = 0\n",
        "for i in range(len(a) - 1):\n",
        "    if (a[i] + a[i + 1]) % 2 == 0:\n",
        "        count += 1\n",
        "        maxim = max(a[i], a[i + 1], maxim)\n",
        "print(count, maxim)"
      ],
      "metadata": {
        "colab": {
          "base_uri": "https://localhost:8080/"
        },
        "id": "MrU17ZkZIqw4",
        "outputId": "cf137372-db9e-4138-8b90-069f9f82ff5b"
      },
      "execution_count": null,
      "outputs": [
        {
          "output_type": "stream",
          "name": "stdout",
          "text": [
            "1 0\n"
          ]
        }
      ]
    },
    {
      "cell_type": "code",
      "source": [
        "a = [-204, -37, 14, 1, -2, -16]\n",
        "print(f\"DEBUG: Исходный массив a = {a}\")  # Отладка\n",
        "\n",
        "maxim = 0 # заменить на что-то очень маленькое\n",
        "count = 0\n",
        "for i in range(len(a) - 1):\n",
        "    print(f\"DEBUG: i = {i}, a[i] = {a[i]}, a[i+1] = {a[i+1]}\")  # Отладка\n",
        "\n",
        "    if (a[i] + a[i + 1]) % 2 == 0:\n",
        "        count += 1\n",
        "        prev_max = maxim\n",
        "        maxim = max(a[i], a[i + 1], maxim)\n",
        "        print(f\"DEBUG: count = {count}, prev_max = {prev_max}, new_max = {maxim}\")  # Отладка\n",
        "\n",
        "print(count, maxim)\n"
      ],
      "metadata": {
        "colab": {
          "base_uri": "https://localhost:8080/"
        },
        "id": "ua67uPmaHUU0",
        "outputId": "f931da96-43a6-42e6-bfbb-deeae9985a52"
      },
      "execution_count": 19,
      "outputs": [
        {
          "output_type": "stream",
          "name": "stdout",
          "text": [
            "DEBUG: Исходный массив a = [-204, -37, 14, 1, -2, -16]\n",
            "DEBUG: i = 0, a[i] = -204, a[i+1] = -37\n",
            "DEBUG: i = 1, a[i] = -37, a[i+1] = 14\n",
            "DEBUG: i = 2, a[i] = 14, a[i+1] = 1\n",
            "DEBUG: i = 3, a[i] = 1, a[i+1] = -2\n",
            "DEBUG: i = 4, a[i] = -2, a[i+1] = -16\n",
            "DEBUG: count = 1, prev_max = 0, new_max = 0\n",
            "1 0\n"
          ]
        }
      ]
    },
    {
      "cell_type": "markdown",
      "source": [
        "## Пример 3. sanity-check\n",
        "\n",
        "Все 4-буквенные слова, в составе которых могут быть буквы Н, Р, Д, О, записаны в определённом порядке и пронумерованы, начиная с 1. Ниже приведено начало списка.\n",
        "\n",
        "1. НННН\n",
        "\n",
        "2. НННР\n",
        "\n",
        "3. НННД\n",
        "\n",
        "4. НННО\n",
        "\n",
        "5. ННРН\n",
        "\n",
        "...  \n",
        "\n",
        "Под каким номером в списке идёт слово “ДРОН”?"
      ],
      "metadata": {
        "id": "qs2Y01szNPXk"
      }
    },
    {
      "cell_type": "code",
      "source": [
        "from itertools import product\n",
        "\n",
        "A = \"НРДО\"\n",
        "arr = product(A, repeat=4)\n",
        "\n",
        "i = 1\n",
        "for w in arr:\n",
        "    # sanity check\n",
        "    if i <= 5:\n",
        "        print(i, w)\n",
        "\n",
        "    if \"\".join(w) == \"ДРОН\":\n",
        "        print(i, w)\n",
        "\n",
        "    i += 1"
      ],
      "metadata": {
        "id": "D1rUSViwNu1Y",
        "outputId": "0da5dabe-1d66-4644-db11-e1921172cf30",
        "colab": {
          "base_uri": "https://localhost:8080/"
        }
      },
      "execution_count": 37,
      "outputs": [
        {
          "output_type": "stream",
          "name": "stdout",
          "text": [
            "1 ('Н', 'Н', 'Н', 'Н')\n",
            "2 ('Н', 'Н', 'Н', 'Р')\n",
            "3 ('Н', 'Н', 'Н', 'Д')\n",
            "4 ('Н', 'Н', 'Н', 'О')\n",
            "5 ('Н', 'Н', 'Р', 'Н')\n",
            "157 ('Д', 'Р', 'О', 'Н')\n"
          ]
        }
      ]
    },
    {
      "cell_type": "markdown",
      "source": [
        "## Пример 4, идейный print-debugging\n",
        "\n",
        "Дед Мороз раз в год создает склад подарков для детей. Однако кол-во свободных мест для подарков на складе, куда он помещает все свои подарки может оказаться меньше, чем суммарное кол-во подарков. Известно, сколько подарков получит каждый конкретный ребенок. По заданной информации о кол-ве подарков для каждого ребенка и свободных местах на складе определите максимальное кол-во детей, чьи подарки поместятся на склад, а также максимальное кол-во подарков, который получит конкретный ребенок, при условии, что на складе максимальное кол-во подарков. В ответе сначало запишите кол-во детей, а затем, без разделительных знаков, запишите кол-во подарков.\n",
        "\n",
        "На вход программе подается два числа: N - кол-во свободных мест для подарков и M - кол-во детей, а затем M чисел, где каждое число - кол-во подарков для ребенка.\n",
        "\n",
        "В ответ запишите результат выполнения программы для таких входных данных:\n",
        "\n",
        "```\n",
        "120 6\n",
        "20\n",
        "10\n",
        "30\n",
        "25\n",
        "45\n",
        "35\n",
        "```\n"
      ],
      "metadata": {
        "id": "eqkxJ_QgB8Ue"
      }
    },
    {
      "cell_type": "code",
      "source": [
        "n, m = 120, 6\n",
        "a = [20, 10, 30, 25, 45, 35]\n",
        "a = sorted(a)\n",
        "summa = 0\n",
        "maxim = n\n",
        "i = 0\n",
        "while summa < maxim:\n",
        "    summa += a[i]\n",
        "    i += 1\n",
        "j = i\n",
        "i -= 1\n",
        "summa -= a[i]\n",
        "diff = maxim - summa\n",
        "ans = 0\n",
        "for i in range(i + 1, m):\n",
        "    if a[i] > ans and a[i] <= diff:\n",
        "        ans = a[i]\n",
        "print(j, ans, summa)"
      ],
      "metadata": {
        "colab": {
          "base_uri": "https://localhost:8080/"
        },
        "id": "GeRFqmXA_46X",
        "outputId": "8deba908-7b35-4e65-b6fc-5d149565fa37"
      },
      "execution_count": 38,
      "outputs": [
        {
          "output_type": "stream",
          "name": "stdout",
          "text": [
            "5 0 85\n"
          ]
        }
      ]
    },
    {
      "cell_type": "code",
      "source": [
        "n, m = 120, 6\n",
        "a = [20, 10, 30, 25, 45, 35]\n",
        "a = sorted(a)\n",
        "print(f\"DEBUG: sort a = {a}\")\n",
        "summa = 0\n",
        "maxim = n\n",
        "i = 0\n",
        "while summa < maxim:\n",
        "    print(f\"DEBUG: i = {i}, summa = {summa}, maxim = {maxim}\")  # Отладка\n",
        "    summa += a[i]\n",
        "    i += 1\n",
        "j = i\n",
        "i -= 1\n",
        "summa -= a[i]\n",
        "diff = maxim - summa\n",
        "ans = 0\n",
        "print(f\"DEBUG: j = {j}, i = {i}, summa = {summa}, diff = {diff}\")  # Отладка\n",
        "for i in range(i + 1, m):\n",
        "    print(f\"DEBUG: i = {i}, a[i] = {a[i]}, ans = {ans}\")  # Отладка\n",
        "    if a[i] > ans and a[i] <= diff:\n",
        "        ans = a[i]\n",
        "print(j, ans, summa + ans)"
      ],
      "metadata": {
        "colab": {
          "base_uri": "https://localhost:8080/"
        },
        "id": "8xg7TtqWCpO5",
        "outputId": "376362ee-8a06-49dc-ea6f-7ad53c47fb8c"
      },
      "execution_count": 44,
      "outputs": [
        {
          "output_type": "stream",
          "name": "stdout",
          "text": [
            "DEBUG: sort a = [10, 20, 25, 30, 35, 45]\n",
            "DEBUG: i = 0, summa = 0, maxim = 120\n",
            "DEBUG: i = 1, summa = 10, maxim = 120\n",
            "DEBUG: i = 2, summa = 30, maxim = 120\n",
            "DEBUG: i = 3, summa = 55, maxim = 120\n",
            "DEBUG: i = 4, summa = 85, maxim = 120\n",
            "DEBUG: j = 5, i = 4, summa = 85, diff = 35\n",
            "DEBUG: i = 5, a[i] = 45, ans = 0\n",
            "5 0 85\n"
          ]
        }
      ]
    },
    {
      "cell_type": "code",
      "source": [],
      "metadata": {
        "id": "-I1PgSaAIbY4"
      },
      "execution_count": null,
      "outputs": []
    }
  ],
  "metadata": {
    "kernelspec": {
      "display_name": "Python 3 (ipykernel)",
      "language": "python",
      "name": "python3"
    },
    "language_info": {
      "codemirror_mode": {
        "name": "ipython",
        "version": 3
      },
      "file_extension": ".py",
      "mimetype": "text/x-python",
      "name": "python",
      "nbconvert_exporter": "python",
      "pygments_lexer": "ipython3",
      "version": "3.12.4"
    },
    "colab": {
      "provenance": []
    }
  },
  "nbformat": 4,
  "nbformat_minor": 0
}