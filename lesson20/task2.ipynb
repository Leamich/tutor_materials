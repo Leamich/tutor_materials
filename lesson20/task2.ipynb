{
 "cells": [
  {
   "cell_type": "markdown",
   "id": "c5373b08",
   "metadata": {
    "slideshow": {
     "slide_type": "slide"
    }
   },
   "source": [
    "# Задание 2. Таблицы истинности\n",
    "\n",
    "*Леонтьев Михаил, 2024*"
   ]
  },
  {
   "cell_type": "markdown",
   "id": "7dbc1630",
   "metadata": {
    "slideshow": {
     "slide_type": "slide"
    }
   },
   "source": [
    "## Соответствие Python и логических функций"
   ]
  },
  {
   "cell_type": "markdown",
   "id": "fff577de",
   "metadata": {},
   "source": [
    "![](https://thumb.tildacdn.com/tild3333-6336-4231-b965-623465346139/-/format/webp/image.png)"
   ]
  },
  {
   "cell_type": "markdown",
   "id": "8a9574ad",
   "metadata": {
    "slideshow": {
     "slide_type": "slide"
    }
   },
   "source": [
    "## Примеры"
   ]
  },
  {
   "cell_type": "markdown",
   "id": "d5370823",
   "metadata": {
    "slideshow": {
     "slide_type": "subslide"
    }
   },
   "source": [
    "### Пример 1\n",
    "\n",
    "![](https://ucarecdn.com/2533d9e6-2dc4-4bb7-a6ea-db09bab12fe1/)"
   ]
  },
  {
   "cell_type": "code",
   "execution_count": 2,
   "id": "807ef7c0",
   "metadata": {},
   "outputs": [
    {
     "name": "stdout",
     "output_type": "stream",
     "text": [
      "x y z F\n",
      "0 1 1 0\n",
      "1 0 0 0\n",
      "1 1 0 0\n"
     ]
    }
   ],
   "source": [
    "from itertools import product\n",
    "\n",
    "\n",
    "def f(x, y, z):\n",
    "    return (x or y) <= (z == x)\n",
    "\n",
    "print(\"x y z F\")\n",
    "for x, y, z in product(range(2), repeat=3):\n",
    "    F = f(x, y, z)\n",
    "    if not F:\n",
    "        print(x, y, z, int(F))"
   ]
  },
  {
   "cell_type": "markdown",
   "id": "eb56de46",
   "metadata": {
    "slideshow": {
     "slide_type": "subslide"
    }
   },
   "source": [
    "### Пример 2\n",
    "\n",
    "![](https://ucarecdn.com/95a0458c-24e0-4ce9-9117-0baa9178111e/)"
   ]
  },
  {
   "cell_type": "code",
   "execution_count": 3,
   "id": "2b6d70dc",
   "metadata": {},
   "outputs": [
    {
     "name": "stdout",
     "output_type": "stream",
     "text": [
      "x y z F\n",
      "1 0 0 0\n",
      "1 1 0 0\n"
     ]
    }
   ],
   "source": [
    "from itertools import product\n",
    "\n",
    "\n",
    "def f(x, y, z):\n",
    "    return (x == z) or (x <= (y and z))\n",
    "\n",
    "print(\"x y z F\")\n",
    "for x, y, z in product(range(2), repeat=3):\n",
    "    F = f(x, y, z)\n",
    "    if not F:\n",
    "        print(x, y, z, int(F))"
   ]
  },
  {
   "cell_type": "markdown",
   "id": "15cbe38a",
   "metadata": {
    "slideshow": {
     "slide_type": "subslide"
    }
   },
   "source": [
    "### Пример 3\n",
    "\n",
    "![](https://ucarecdn.com/98d4f889-e1d9-4a3c-a543-ffa459318dd4/)"
   ]
  },
  {
   "cell_type": "code",
   "execution_count": 4,
   "id": "091f71cd",
   "metadata": {},
   "outputs": [
    {
     "name": "stdout",
     "output_type": "stream",
     "text": [
      "x y z w F\n",
      "0 0 1 1 0\n",
      "0 1 0 1 0\n",
      "1 1 0 1 0\n"
     ]
    }
   ],
   "source": [
    "from itertools import product\n",
    "\n",
    "\n",
    "def f(x, y, z, w):\n",
    "    return (x and not y) or (y == z) or not w\n",
    "\n",
    "print(\"x y z w F\")\n",
    "for x, y, z, w in product(range(2), repeat=4):\n",
    "    F = f(x, y, z, w)\n",
    "    if not F:\n",
    "        print(x, y, z, w, int(F))"
   ]
  }
 ],
 "metadata": {
  "celltoolbar": "Слайд-шоу",
  "kernelspec": {
   "display_name": "Python 3 (ipykernel)",
   "language": "python",
   "name": "python3"
  },
  "language_info": {
   "codemirror_mode": {
    "name": "ipython",
    "version": 3
   },
   "file_extension": ".py",
   "mimetype": "text/x-python",
   "name": "python",
   "nbconvert_exporter": "python",
   "pygments_lexer": "ipython3",
   "version": "3.11.5"
  },
  "rise": {
   "enable_chalkboard": true,
   "scroll": true
  }
 },
 "nbformat": 4,
 "nbformat_minor": 5
}
