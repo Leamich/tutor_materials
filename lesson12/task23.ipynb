{
 "cells": [
  {
   "cell_type": "markdown",
   "id": "c5373b08",
   "metadata": {
    "slideshow": {
     "slide_type": "slide"
    }
   },
   "source": [
    "# Задание 23. Рекурсия\n",
    "\n",
    "*Леонтьев Михаил, 2024*"
   ]
  },
  {
   "cell_type": "markdown",
   "id": "8a9574ad",
   "metadata": {
    "slideshow": {
     "slide_type": "slide"
    }
   },
   "source": [
    "## Примеры"
   ]
  },
  {
   "cell_type": "markdown",
   "id": "d5370823",
   "metadata": {
    "slideshow": {
     "slide_type": "subslide"
    }
   },
   "source": [
    "### Пример 1\n",
    "\n",
    "Исполнитель Тренер преобразует число на экране. У исполнителя есть две команды, которым присвоены номера:\n",
    "\n",
    "1. Прибавить 1\n",
    "2. Прибавить 2\n",
    "\n",
    "Первая команда увеличивает число на экране на 1, вторая увеличивает его на 2. Программа для исполнителя Тренер – это последовательность команд.\n",
    "Сколько существует программ, для которых при исходном числе 1 результатом является число 12?"
   ]
  },
  {
   "cell_type": "code",
   "execution_count": 1,
   "id": "807ef7c0",
   "metadata": {},
   "outputs": [
    {
     "name": "stdout",
     "output_type": "stream",
     "text": [
      "144\n"
     ]
    }
   ],
   "source": [
    "# сколько программ x->y\n",
    "def f(x, y):\n",
    "    # если программа x->x, то существует только один способ\n",
    "    if x == y:\n",
    "        return 1\n",
    "    # так как программа только увеличивает\n",
    "    if x > y:\n",
    "        return 0\n",
    "    return f(x + 1, y) + f(x + 2, y)\n",
    "\n",
    "\n",
    "print(f(1, 12))"
   ]
  },
  {
   "cell_type": "markdown",
   "id": "6767a25c",
   "metadata": {
    "slideshow": {
     "slide_type": "subslide"
    }
   },
   "source": [
    "### Пример 2\n",
    "\n",
    "Исполнитель РазДва преобразует число на экране.\n",
    "У исполнителя есть две команды, которым присвоены номера:\n",
    "\n",
    "1. Прибавить 1\n",
    "2. Умножить на 2\n",
    "\n",
    "Первая команда увеличивает число на экране на 1, вторая умножает его на 2. Программа для исполнителя РазДва — это последовательность команд.\n",
    "\n",
    "Сколько существует программ, для которых при исходном числе 3 результатом является число 37 и при этом траектория вычислений содержит число 18?"
   ]
  },
  {
   "cell_type": "code",
   "execution_count": 2,
   "id": "2fda18c7",
   "metadata": {},
   "outputs": [
    {
     "name": "stdout",
     "output_type": "stream",
     "text": [
      "28\n"
     ]
    }
   ],
   "source": [
    "# сколько программ x->y\n",
    "def f(x, y):\n",
    "    # если программа x->x, то существует только один способ\n",
    "    if x == y:\n",
    "        return 1\n",
    "    # так как программа только увеличивает\n",
    "    if x > y:\n",
    "        return 0\n",
    "    return f(x + 1, y) + f(x * 2, y)\n",
    "\n",
    "\n",
    "print(f(3, 18) * f(18, 37))"
   ]
  },
  {
   "cell_type": "markdown",
   "id": "af949205",
   "metadata": {
    "slideshow": {
     "slide_type": "subslide"
    }
   },
   "source": [
    "### Пример 3\n",
    "\n",
    "Исполнитель РазДваТри преобразует число на экране. У исполнителя есть три команды, которым присвоены номера:\n",
    "\n",
    "1. Прибавить 1\n",
    "2. Умножить на 2\n",
    "3. Прибавить 3\n",
    "\n",
    "Первая команда увеличивает число на экране на 1, вторая умножает его на 2, третья увеличивает на 3. \n",
    "Программа для исполнителя РазДваТри — это последовательность команд.\n",
    "\n",
    "Сколько существует программ, которые преобразуют исходное число 2 в число 14 и при этом траектория вычислений не содержит чисел 5 и 10? "
   ]
  },
  {
   "cell_type": "code",
   "execution_count": 3,
   "id": "7b91736a",
   "metadata": {},
   "outputs": [
    {
     "name": "stdout",
     "output_type": "stream",
     "text": [
      "26\n"
     ]
    }
   ],
   "source": [
    "# сколько программ x->y\n",
    "def f(x, y):\n",
    "    # если программа x->x, то существует только один способ\n",
    "    if x == y:\n",
    "        return 1\n",
    "    # так как программа только увеличивает\n",
    "    if x > y or x == 5 or x == 10:\n",
    "        return 0\n",
    "    return f(x + 1, y) + f(x * 2, y) + f(x + 3, y)\n",
    "\n",
    "\n",
    "print(f(2, 14))"
   ]
  }
 ],
 "metadata": {
  "celltoolbar": "Слайд-шоу",
  "kernelspec": {
   "display_name": "Python 3 (ipykernel)",
   "language": "python",
   "name": "python3"
  },
  "language_info": {
   "codemirror_mode": {
    "name": "ipython",
    "version": 3
   },
   "file_extension": ".py",
   "mimetype": "text/x-python",
   "name": "python",
   "nbconvert_exporter": "python",
   "pygments_lexer": "ipython3",
   "version": "3.11.5"
  },
  "rise": {
   "enable_chalkboard": true,
   "scroll": true
  }
 },
 "nbformat": 4,
 "nbformat_minor": 5
}
