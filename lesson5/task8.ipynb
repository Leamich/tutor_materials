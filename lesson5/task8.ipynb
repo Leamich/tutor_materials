{
  "cells": [
    {
      "cell_type": "markdown",
      "id": "7eb0de42",
      "metadata": {
        "id": "7eb0de42"
      },
      "source": [
        "# Задание 8. Подсчёт слов\n",
        "\n",
        "*Леонтьев Михаил*"
      ]
    },
    {
      "cell_type": "markdown",
      "id": "bedc0db9",
      "metadata": {
        "id": "bedc0db9"
      },
      "source": [
        "## permutations\n",
        "\n",
        "Эта функция позволяет перебирать все перестановки из заданной последовательности"
      ]
    },
    {
      "cell_type": "code",
      "execution_count": null,
      "id": "3f3b775a",
      "metadata": {
        "id": "3f3b775a",
        "outputId": "dbab0ef7-8044-4d49-956a-819d8b155de4"
      },
      "outputs": [
        {
          "name": "stdout",
          "output_type": "stream",
          "text": [
            "('A', 'B', 'C')\n",
            "('A', 'C', 'B')\n",
            "('B', 'A', 'C')\n",
            "('B', 'C', 'A')\n",
            "('C', 'A', 'B')\n",
            "('C', 'B', 'A')\n"
          ]
        }
      ],
      "source": [
        "from itertools import permutations\n",
        "\n",
        "# все перестановки слова ABC\n",
        "print(*permutations(\"ABC\"), sep=\"\\n\")"
      ]
    },
    {
      "cell_type": "code",
      "execution_count": null,
      "id": "7a1f78de",
      "metadata": {
        "id": "7a1f78de",
        "outputId": "f71290a3-6abf-40cd-fc2b-85605b39801e"
      },
      "outputs": [
        {
          "name": "stdout",
          "output_type": "stream",
          "text": [
            "('A', 'B')\n",
            "('A', 'C')\n",
            "('B', 'A')\n",
            "('B', 'C')\n",
            "('C', 'A')\n",
            "('C', 'B')\n"
          ]
        }
      ],
      "source": [
        "# все перестановки длины 2\n",
        "print(*permutations(\"ABC\", r=2), sep=\"\\n\")"
      ]
    },
    {
      "cell_type": "code",
      "execution_count": null,
      "id": "7f6e56d0",
      "metadata": {
        "id": "7f6e56d0",
        "outputId": "04b08cd6-eb6a-4ba4-d18c-fdaca58c2276"
      },
      "outputs": [
        {
          "name": "stdout",
          "output_type": "stream",
          "text": [
            "('A', 'A', 'A')\n",
            "('A', 'A', 'A')\n",
            "('A', 'A', 'A')\n",
            "('A', 'A', 'A')\n",
            "('A', 'A', 'A')\n",
            "('A', 'A', 'A')\n"
          ]
        }
      ],
      "source": [
        "# заметим, что если в строке есть повторяющиеся символы\n",
        "# то и в результате будут повторяющиеся слова\n",
        "print(*permutations(\"AAA\"), sep=\"\\n\")"
      ]
    },
    {
      "cell_type": "markdown",
      "id": "d21be537",
      "metadata": {
        "id": "d21be537"
      },
      "source": [
        "## Примеры"
      ]
    },
    {
      "cell_type": "markdown",
      "id": "57d0e337",
      "metadata": {
        "id": "57d0e337"
      },
      "source": [
        "### Пример 1\n",
        "\n",
        "Ксюша составляет слова, меняя местами буквы в слове МИМИКРИЯ. Сколько различных слов, включая исходное, может составить Ксюша?"
      ]
    },
    {
      "cell_type": "code",
      "execution_count": null,
      "id": "952d5851",
      "metadata": {
        "id": "952d5851",
        "outputId": "21dc8112-bfd2-46b1-8495-847eb0de5b20"
      },
      "outputs": [
        {
          "name": "stdout",
          "output_type": "stream",
          "text": [
            "3360\n"
          ]
        }
      ],
      "source": [
        "# говорим, что будем использовать\n",
        "from itertools import permutations\n",
        "\n",
        "# создаём счётчик для количества перестановок\n",
        "cnt = set(permutations(\"МИМИКРИЯ\"))\n",
        "\n",
        "# нас спрашивают кол-во уникальных\n",
        "res = len(cnt)\n",
        "print(res)"
      ]
    },
    {
      "cell_type": "markdown",
      "id": "ca75ad4e",
      "metadata": {
        "id": "ca75ad4e"
      },
      "source": [
        "### Пример 2\n",
        "\n",
        "Настя составляет шестибуквенные слова из букв Т, Ь, Ю, Р, И, Н, Г, причём мягкий знак не может стоять в начале слова и после гласной. Все буквы слова различны. Сколько таких слов может составить Настя?"
      ]
    },
    {
      "cell_type": "code",
      "execution_count": null,
      "id": "887c780b",
      "metadata": {
        "id": "887c780b",
        "outputId": "449688a4-8d14-47b7-bf69-d6c6be72f97b"
      },
      "outputs": [
        {
          "name": "stdout",
          "output_type": "stream",
          "text": [
            "3120\n"
          ]
        }
      ],
      "source": [
        "# говорим, что будем использовать\n",
        "from itertools import permutations\n",
        "\n",
        "# генерируем все возможные перестановки (т.к. в задаче сказано, что все буквы различны,\n",
        "# иначе мы должны были бы считать сочетания). Слова 6-буквенные, поэтому r=6\n",
        "a = sorted(permutations(\"ТЬЮРИНГ\", r=6))\n",
        "\n",
        "b = []\n",
        "for i in range(len(a)):\n",
        "    # если Ь стоит в начале слова - пропускаем\n",
        "    if a[i][0] == \"Ь\":\n",
        "        continue\n",
        "\n",
        "    # нам легче работать с a[i] как со строкой\n",
        "    a[i] = \"\".join(a[i])\n",
        "\n",
        "    # для всех гласных просто смотрим, не стоит ли за ними Ь\n",
        "    if (\"ЮЬ\" in a[i]) or (\"ИЬ\" in a[i]):\n",
        "        continue\n",
        "\n",
        "    b.append(a[i])\n",
        "\n",
        "print(len(b))"
      ]
    },
    {
      "cell_type": "markdown",
      "id": "f6a491b9",
      "metadata": {
        "id": "f6a491b9"
      },
      "source": [
        "### Пример 3\n",
        "\n",
        "Вероника составляет слова, меняя местами буквы в слове КЛАБХАУС так, что любые две соседние буквы различны между собой. Сколько слов, включая исходное, может составить Вероника?"
      ]
    },
    {
      "cell_type": "code",
      "source": [
        "from itertools import permutations\n",
        "\n",
        "words = set(permutations(\"КЛАБХАУС\"))\n",
        "\n",
        "b = list() # то же самое, что []\n",
        "\n",
        "for w in words:\n",
        "    w = \"\".join(w)\n",
        "    if \"АА\" in w:\n",
        "        continue\n",
        "    b.append(w)\n",
        "\n",
        "print(len(b))"
      ],
      "metadata": {
        "id": "VNF8DbKE4lLQ",
        "outputId": "ba80e178-ef78-4ca2-a525-9cd17d56a59b",
        "colab": {
          "base_uri": "https://localhost:8080/"
        }
      },
      "id": "VNF8DbKE4lLQ",
      "execution_count": 7,
      "outputs": [
        {
          "output_type": "stream",
          "name": "stdout",
          "text": [
            "15120\n"
          ]
        }
      ]
    },
    {
      "cell_type": "code",
      "execution_count": null,
      "id": "ef4bbca1",
      "metadata": {
        "id": "ef4bbca1",
        "outputId": "b3acd9a3-1f29-40f1-8ee7-259e7d93374c"
      },
      "outputs": [
        {
          "name": "stdout",
          "output_type": "stream",
          "text": [
            "15120\n"
          ]
        }
      ],
      "source": [
        "# говорим, что будем использовать\n",
        "from itertools import permutations\n",
        "\n",
        "# генерируем все возможные перестановки\n",
        "a = sorted(permutations(\"КЛАБХАУС\"))\n",
        "\n",
        "b = []\n",
        "for i in range(len(a)):\n",
        "    # создадим флаг, который будет показывать, что слово нам подходит\n",
        "    # (т.е. что все соседние буквы различны)\n",
        "    flag = True\n",
        "\n",
        "    # проверяем все пары (j, j + 1)\n",
        "    # поэтому вычитаем единицу (у последнего элемента нет следующего)\n",
        "    for j in range(len(a[i]) - 1):\n",
        "        if a[i][j] == a[i][j + 1]:\n",
        "            # если два соседних элемента совпали, то условие флага уже не выполняется\n",
        "            flag = False\n",
        "            break\n",
        "    # если слово соответствует условию\n",
        "    if flag:\n",
        "        b.append(a[i])\n",
        "\n",
        "# так как буквы повторяются, посчитаем кол-во уникальных\n",
        "cnt = set(b)\n",
        "print(len(cnt))"
      ]
    },
    {
      "cell_type": "markdown",
      "id": "61f3ef07",
      "metadata": {
        "id": "61f3ef07"
      },
      "source": [
        "### Пример 4\n",
        "\n",
        "Света составляет шестибуквенные слова из букв С, О, Л, Н, Ц, Е, причём буква О встречается в слове не более 2 раз, а буква Ц — ровно 1 раз. Буквы могут повторяться. Сколько таких слов может составить Света?"
      ]
    },
    {
      "cell_type": "code",
      "execution_count": null,
      "id": "68fdc45b",
      "metadata": {
        "id": "68fdc45b",
        "outputId": "29167788-f96c-4c4d-92f7-e468ef257704"
      },
      "outputs": [
        {
          "name": "stdout",
          "output_type": "stream",
          "text": [
            "17664\n"
          ]
        }
      ],
      "source": [
        "from itertools import product\n",
        "from collections import Counter\n",
        "\n",
        "a = list(product(\"СОЛНЦЕ\", repeat=6))\n",
        "\n",
        "b = []\n",
        "for i in range(len(a)):\n",
        "    # a[i]\n",
        "    cnt = Counter(a[i])\n",
        "\n",
        "    if (cnt[\"О\"] <= 2) and (cnt[\"Ц\"] == 1):\n",
        "        b.append(a[i])\n",
        "\n",
        "print(len(b))"
      ]
    },
    {
      "cell_type": "code",
      "execution_count": null,
      "id": "90e3bb4b",
      "metadata": {
        "id": "90e3bb4b",
        "outputId": "707b3f15-d173-433e-e915-51f5b195ad9c"
      },
      "outputs": [
        {
          "name": "stdout",
          "output_type": "stream",
          "text": [
            "17664\n"
          ]
        }
      ],
      "source": [
        "# говорим, что будем использовать\n",
        "from itertools import product\n",
        "\n",
        "# генерируем все возможные сочетания длины 6\n",
        "a = sorted(product(\"СОЛНЦЕ\", repeat=6))\n",
        "\n",
        "b = []\n",
        "for i in range(len(a)):\n",
        "    # у списков есть функция .count()\n",
        "    if (a[i].count(\"О\") <= 2) and (a[i].count(\"Ц\") == 1):\n",
        "        b.append(a[i])\n",
        "\n",
        "print(len(b))"
      ]
    },
    {
      "cell_type": "markdown",
      "id": "770f3418",
      "metadata": {
        "id": "770f3418"
      },
      "source": [
        "### Пример 5\n",
        "\n",
        "Мила составляет четырёхзначные числа в восьмеричной системе. Сколько различных чисел, делящихся на 4 без остатка, может составить Мила?"
      ]
    },
    {
      "cell_type": "code",
      "execution_count": null,
      "id": "f80bd422",
      "metadata": {
        "id": "f80bd422"
      },
      "outputs": [],
      "source": [
        "from itertools import product\n",
        "\n",
        "a = list(product(\"01234567\", repeat=4))\n",
        "\n",
        "b = []\n",
        "for i in range(len(a)):\n",
        "    if a[i][0] == '0':\n",
        "        continue\n",
        "\n",
        "    if (a[i][-1] == \"0\") or (a[i][-1] == \"4\"):\n",
        "        b.append(a[i])\n",
        "\n",
        "    if a[i][-1] in [\"0\", \"4\"]:\n",
        "#         b.append(a[i])\n",
        "        pass\n",
        "\n",
        "print(len(b))"
      ]
    },
    {
      "cell_type": "code",
      "execution_count": null,
      "id": "63eb5b30",
      "metadata": {
        "id": "63eb5b30",
        "outputId": "a6e46ee0-73d1-4b94-c955-d12ad0fa7dd4"
      },
      "outputs": [
        {
          "name": "stdout",
          "output_type": "stream",
          "text": [
            "896\n"
          ]
        }
      ],
      "source": [
        "# говорим, что будем использовать\n",
        "from itertools import product\n",
        "\n",
        "# генерируем все возможные сочетания длины 4\n",
        "a = sorted(product(\"01234567\", repeat=4))\n",
        "\n",
        "b = []\n",
        "for i in range(len(a)):\n",
        "    # если число начинается с 0, то оно не 4-значное\n",
        "    if a[i][0] == \"0\":\n",
        "        continue\n",
        "\n",
        "    # сначала получаем строку из списка\n",
        "    a[i] = \"\".join(a[i])\n",
        "\n",
        "    # переводим число из 8-ичной в 10-ичную\n",
        "    a[i] = int(a[i], 8)\n",
        "\n",
        "    if a[i] % 4 == 0:\n",
        "        b.append(a[i])\n",
        "\n",
        "print(len(b))"
      ]
    },
    {
      "cell_type": "markdown",
      "id": "1a7c57bd",
      "metadata": {
        "id": "1a7c57bd"
      },
      "source": [
        "### Пример 6\n",
        "\n",
        "Все 5-буквенные слова, в составе которых могут быть буквы А, Л, Г, О, Р, И, Т, М, записаны в алфавитном порядке и пронумерованы начиная с 1.\n",
        "\n",
        "Ниже приведено начало списка.\n",
        "1. ААААА\n",
        "\n",
        "2. ААААГ\n",
        "\n",
        "3. ААААИ\n",
        "\n",
        "4. ААААЛ\n",
        "\n",
        "5. ААААМ\n",
        "\n",
        "6. ААААО\n",
        "\n",
        "7. ААААР\n",
        "\n",
        "Определите в этом списке количество слов с нечетными номерами, в которых буквы Г и О не стоят рядом."
      ]
    },
    {
      "cell_type": "code",
      "execution_count": null,
      "id": "1b332c34",
      "metadata": {
        "id": "1b332c34",
        "outputId": "476f36e6-0a5f-4749-d899-355d7e140e15"
      },
      "outputs": [
        {
          "name": "stdout",
          "output_type": "stream",
          "text": [
            "14984\n"
          ]
        }
      ],
      "source": [
        "from itertools import product\n",
        "\n",
        "a = sorted(product(\"АЛГОРИТМ\", repeat=5))\n",
        "\n",
        "b = []\n",
        "for i in range(len(a)):\n",
        "    if (i + 1) % 2 == 0: # номер в списке четный\n",
        "        continue\n",
        "\n",
        "    flag = True\n",
        "    for j in range(len(a[i]) - 1):\n",
        "        c1 = a[i][j]\n",
        "        c2 = a[i][j + 1]\n",
        "        if c1 == \"Г\" and c2 == \"О\": # ГО\n",
        "            flag = False\n",
        "        if c1 == \"О\" and c2 == \"Г\": # ОГ\n",
        "            flag = False\n",
        "\n",
        "    if flag:\n",
        "        b.append(a[i])\n",
        "\n",
        "print(len(b))"
      ]
    },
    {
      "cell_type": "code",
      "execution_count": null,
      "id": "9a44b86f",
      "metadata": {
        "id": "9a44b86f",
        "outputId": "5e8ceb05-c934-4c25-9106-531c8ccd5a50"
      },
      "outputs": [
        {
          "name": "stdout",
          "output_type": "stream",
          "text": [
            "14984\n"
          ]
        }
      ],
      "source": [
        "# говорим, что будем использовать\n",
        "from itertools import product\n",
        "\n",
        "# генерируем все возможные сочетания длины 5\n",
        "a = sorted(product(\"АЛГОРИТМ\", repeat=5))\n",
        "\n",
        "b = []\n",
        "for i in range(len(a)):\n",
        "    # пропускаем чётные номера\n",
        "    if (i + 1) % 2 == 0:\n",
        "        continue\n",
        "\n",
        "    a[i] = \"\".join(a[i])\n",
        "\n",
        "    if \"ГО\" in a[i] or \"ОГ\" in a[i]:\n",
        "        continue\n",
        "\n",
        "    b.append(a[i])\n",
        "\n",
        "print(len(b))"
      ]
    }
  ],
  "metadata": {
    "celltoolbar": "Слайд-шоу",
    "kernelspec": {
      "display_name": "Python 3 (ipykernel)",
      "language": "python",
      "name": "python3"
    },
    "language_info": {
      "codemirror_mode": {
        "name": "ipython",
        "version": 3
      },
      "file_extension": ".py",
      "mimetype": "text/x-python",
      "name": "python",
      "nbconvert_exporter": "python",
      "pygments_lexer": "ipython3",
      "version": "3.11.5"
    },
    "rise": {
      "enable_chalkboard": true,
      "scroll": true
    },
    "colab": {
      "provenance": []
    }
  },
  "nbformat": 4,
  "nbformat_minor": 5
}