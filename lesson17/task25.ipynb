{
 "cells": [
  {
   "cell_type": "markdown",
   "id": "c5373b08",
   "metadata": {
    "slideshow": {
     "slide_type": "slide"
    }
   },
   "source": [
    "# Задание 25. Маски\n",
    "\n",
    "*Леонтьев Михаил, 2024*"
   ]
  },
  {
   "cell_type": "markdown",
   "id": "7dbc1630",
   "metadata": {
    "slideshow": {
     "slide_type": "slide"
    }
   },
   "source": [
    "## fnmatch. Теория"
   ]
  },
  {
   "cell_type": "code",
   "execution_count": 4,
   "id": "575f54b3",
   "metadata": {},
   "outputs": [
    {
     "data": {
      "text/plain": [
       "True"
      ]
     },
     "execution_count": 4,
     "metadata": {},
     "output_type": "execute_result"
    }
   ],
   "source": [
    "from fnmatch import fnmatch\n",
    "\n",
    "fnmatch(\"122234\", \"1*3?\")"
   ]
  },
  {
   "cell_type": "markdown",
   "id": "8a9574ad",
   "metadata": {
    "slideshow": {
     "slide_type": "slide"
    }
   },
   "source": [
    "## Примеры"
   ]
  },
  {
   "cell_type": "markdown",
   "id": "d5370823",
   "metadata": {
    "slideshow": {
     "slide_type": "subslide"
    }
   },
   "source": [
    "### Пример 1\n",
    "\n",
    "Назовём маской числа последовательность цифр, в которой также могут встречаться следующие символы:\n",
    "- символ \"?\" означает ровно одну произвольную цифру;\n",
    "- символ \"\\*\" означает любую последовательность цифр произвольной длины, в том числе \"\\*\" может задавать и пустую подпоследовательность.\n",
    "\n",
    "Например, маске 123\\*4?5 соответствуют числа 123405 и 12300425. \n",
    "Среди натуральных чисел, не превышающих 10\\*\\*9, найдите все числа, соответствующие маске 12345?7?8 и делящихся на 23 без остатка. В ответе запишите в первом столбце  все найденные числа в порядке возрастания, а во втором столбце - соответствующие им частные от деления на 23."
   ]
  },
  {
   "cell_type": "code",
   "execution_count": 9,
   "id": "807ef7c0",
   "metadata": {},
   "outputs": [
    {
     "name": "stdout",
     "output_type": "stream",
     "text": [
      "123450798 5367426\n",
      "123451718 5367466\n",
      "123453788 5367556\n",
      "123454708 5367596\n",
      "123456778 5367686\n",
      "123459768 5367816\n"
     ]
    }
   ],
   "source": [
    "for a in range(10):\n",
    "    for b in range(10):\n",
    "        i = int(\"12345\" + str(a) + \"7\" + str(b) + \"8\")\n",
    "        if i % 23 == 0:\n",
    "            print(i, i // 23)"
   ]
  },
  {
   "cell_type": "code",
   "execution_count": 4,
   "id": "fbc96b06",
   "metadata": {},
   "outputs": [
    {
     "name": "stdout",
     "output_type": "stream",
     "text": [
      "123450798 5367426\n",
      "123451718 5367466\n",
      "123453788 5367556\n",
      "123454708 5367596\n",
      "123456778 5367686\n",
      "123459768 5367816\n"
     ]
    }
   ],
   "source": [
    "from fnmatch import fnmatch\n",
    "\n",
    "\n",
    "for i in range(123450000, 123459999 + 1):\n",
    "    if fnmatch(str(i), '12345?7?8') and i % 23 == 0:\n",
    "        print(i, i // 23)"
   ]
  },
  {
   "cell_type": "markdown",
   "id": "6767a25c",
   "metadata": {
    "slideshow": {
     "slide_type": "subslide"
    }
   },
   "source": [
    "### Пример 2\n",
    "\n",
    "Найдите 5 наименьших натуральных чисел, которые кратны 73 и соответствуют маске 12345\\*76. Выведите эти числа в порядке возрастания, справа от каждого числа выведите результат деления числа на 73."
   ]
  },
  {
   "cell_type": "code",
   "execution_count": 1,
   "id": "eeba8833",
   "metadata": {},
   "outputs": [
    {
     "name": "stdout",
     "output_type": "stream",
     "text": [
      "1234576 16912\n",
      "12345176 169112\n",
      "123451176 1691112\n",
      "123458476 1691212\n",
      "1234503876 16911012\n"
     ]
    }
   ],
   "source": [
    "from fnmatch import fnmatch\n",
    "from itertools import product\n",
    "\n",
    "\n",
    "cnt = 0\n",
    "for d in range(4):\n",
    "    for x in product(\"0123456789\", repeat=d):\n",
    "        i = int(\"12345\" + \"\".join(x) + \"76\")\n",
    "        \n",
    "        if i % 73 == 0:\n",
    "            print(i, i // 73)\n",
    "            cnt += 1\n",
    "            \n",
    "        if cnt == 5:\n",
    "            break"
   ]
  },
  {
   "cell_type": "code",
   "execution_count": 7,
   "id": "1c03e614",
   "metadata": {},
   "outputs": [
    {
     "name": "stdout",
     "output_type": "stream",
     "text": [
      "123453576 1691144\n",
      "1234506276 16911044\n",
      "1234513576 16911144\n",
      "1234520876 16911244\n",
      "1234528176 16911344\n",
      "CPU times: total: 40.6 s\n",
      "Wall time: 41.3 s\n"
     ]
    }
   ],
   "source": [
    "%%time\n",
    "# не работает в обычном Питоне!\n",
    "\n",
    "from fnmatch import fnmatch\n",
    "from itertools import product\n",
    "\n",
    "\n",
    "cnt = 0\n",
    "for i in range(1234567, 10 ** 10, 73):\n",
    "    if fnmatch(str(i), \"12345*76\"):\n",
    "        print(i, i // 73)\n",
    "        cnt += 1\n",
    "    if cnt == 5:\n",
    "        break"
   ]
  },
  {
   "cell_type": "markdown",
   "id": "af949205",
   "metadata": {
    "slideshow": {
     "slide_type": "subslide"
    }
   },
   "source": [
    "### Пример 3\n",
    "\n",
    "Среди натуральных чисел, не превышающих $10^{10}$, найдите все числа, соответствующие маске 1?2139\\*4, делящиеся на 2023 без остатка. В ответе запишите в первом столбце таблицы все найденные числа в порядке возрастания, а во втором столбце — соответствующие им результаты деления этих чисел на 2023."
   ]
  },
  {
   "cell_type": "code",
   "execution_count": 3,
   "id": "7b91736a",
   "metadata": {},
   "outputs": [
    {
     "name": "stdout",
     "output_type": "stream",
     "text": [
      "162139404 80148\n",
      "1321399324 653188\n",
      "1421396214 702618\n",
      "1521393104 752048\n",
      "CPU times: total: 14 s\n",
      "Wall time: 14.1 s\n"
     ]
    }
   ],
   "source": [
    "%%time\n",
    "# не работает в обычном Питоне!\n",
    "\n",
    "from fnmatch import fnmatch\n",
    "\n",
    "for i in range(1021394 - (1021394 % 2023), 10 ** 10, 2023):\n",
    "    if fnmatch(str(i), \"1?2139*4\"):\n",
    "        print(i, i // 2023)"
   ]
  },
  {
   "cell_type": "code",
   "execution_count": 10,
   "id": "88694442",
   "metadata": {},
   "outputs": [
    {
     "name": "stdout",
     "output_type": "stream",
     "text": [
      "162139404 80148\n",
      "1321399324 653188\n",
      "1421396214 702618\n",
      "1521393104 752048\n"
     ]
    }
   ],
   "source": [
    "from itertools import product\n",
    "\n",
    "# 1?2139*4 (длина звездочки 0-3)\n",
    "\n",
    "for d in range(4):\n",
    "    for y in range(10):\n",
    "        for x in product(\"0123456789\", repeat=d):\n",
    "            i = int(\"1\" + str(y) + \"2139\" + \"\".join(x) + \"4\")\n",
    "\n",
    "            if i % 2023 == 0:\n",
    "                print(i, i // 2023)"
   ]
  },
  {
   "cell_type": "markdown",
   "id": "c9345992",
   "metadata": {
    "slideshow": {
     "slide_type": "subslide"
    }
   },
   "source": [
    "### Пример 4\n",
    "\n",
    "Среди натуральных чисел, не превышающих $10^9$, найдите все числа, соответствующие маске 1\\*5\\*9, значения разрядов в которых идут в строго возрастающем порядке, и делящиеся на 21 без остатка. В ответе запишите все найденные числа в порядке возрастания, а справа от каждого числа — частное от его деления на 21."
   ]
  },
  {
   "cell_type": "code",
   "execution_count": 18,
   "id": "52de7fab",
   "metadata": {},
   "outputs": [
    {
     "name": "stdout",
     "output_type": "stream",
     "text": [
      "12579 599\n",
      "123459 5879\n",
      "134589 6409\n",
      "1234569 58789\n",
      "1356789 64609\n"
     ]
    }
   ],
   "source": [
    "from fnmatch import fnmatch\n",
    "\n",
    "for i in range(159 - (159 % 21), 150000000, 21):\n",
    "    if not fnmatch(str(i), \"1*5*9\"):\n",
    "        continue\n",
    "    \n",
    "    flag = True\n",
    "    s = str(i)\n",
    "    for j in range(len(s) - 1):\n",
    "        if s[j] >= s[j + 1]:\n",
    "            flag = False\n",
    "            break\n",
    "\n",
    "    if flag:\n",
    "        print(i, i // 21)"
   ]
  },
  {
   "cell_type": "code",
   "execution_count": 19,
   "id": "7964eca8",
   "metadata": {},
   "outputs": [
    {
     "name": "stdout",
     "output_type": "stream",
     "text": [
      "12579 599\n",
      "134589 6409\n",
      "123459 5879\n",
      "1356789 64609\n",
      "1234569 58789\n"
     ]
    }
   ],
   "source": [
    "from itertools import product\n",
    "\n",
    "# 1*5*9 (длина звездочек 0-6)\n",
    "\n",
    "for d in range(7):\n",
    "    for d1 in range(d + 1):\n",
    "        for x1 in product(\"234\", repeat=d1):\n",
    "            for x2 in product(\"678\", repeat=d - d1):\n",
    "                i = int(\"1\" + \"\".join(x1) + \"5\" + \"\".join(x2) + \"9\")\n",
    "                \n",
    "                flag = True\n",
    "                s = str(i)\n",
    "                for j in range(len(s) - 1):\n",
    "                    if s[j] >= s[j + 1]:\n",
    "                        flag = False\n",
    "                        break\n",
    "\n",
    "\n",
    "                if i % 21 == 0 and flag:\n",
    "                    print(i, i // 21)"
   ]
  }
 ],
 "metadata": {
  "celltoolbar": "Слайд-шоу",
  "kernelspec": {
   "display_name": "Python 3 (ipykernel)",
   "language": "python",
   "name": "python3"
  },
  "language_info": {
   "codemirror_mode": {
    "name": "ipython",
    "version": 3
   },
   "file_extension": ".py",
   "mimetype": "text/x-python",
   "name": "python",
   "nbconvert_exporter": "python",
   "pygments_lexer": "ipython3",
   "version": "3.11.5"
  },
  "rise": {
   "enable_chalkboard": true,
   "scroll": true
  }
 },
 "nbformat": 4,
 "nbformat_minor": 5
}
