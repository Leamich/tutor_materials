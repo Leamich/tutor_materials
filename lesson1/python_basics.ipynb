{
 "cells": [
  {
   "cell_type": "markdown",
   "id": "79d6ef4c",
   "metadata": {
    "slideshow": {
     "slide_type": "slide"
    }
   },
   "source": [
    "# Введение в Python\n",
    "\n",
    "*Леонтьев Михаил, 2024*"
   ]
  },
  {
   "cell_type": "markdown",
   "id": "f35fe6c2",
   "metadata": {
    "slideshow": {
     "slide_type": "slide"
    }
   },
   "source": [
    "## Простейшие типы данных"
   ]
  },
  {
   "cell_type": "code",
   "execution_count": null,
   "id": "b5f2f548",
   "metadata": {
    "slideshow": {
     "slide_type": "-"
    }
   },
   "outputs": [],
   "source": [
    "int_variable = 4    # целое число\n",
    "cat_name = \"Murzik\" # строка\n",
    "cat_height = 3.4    # дробное число\n",
    "is_cat = True       # переменная истинности (если True - значит правда, если False - ложь)"
   ]
  },
  {
   "cell_type": "markdown",
   "id": "cd2992c0",
   "metadata": {
    "slideshow": {
     "slide_type": "slide"
    }
   },
   "source": [
    "## Операции над данными\n",
    "\n",
    "\n",
    "\n",
    "![Возможные операции](https://thumb.tildacdn.com/tild3635-6634-4134-a334-353262336232/-/format/webp/noroot.png)"
   ]
  },
  {
   "cell_type": "code",
   "execution_count": 7,
   "id": "cba41363",
   "metadata": {
    "slideshow": {
     "slide_type": "subslide"
    }
   },
   "outputs": [
    {
     "data": {
      "text/plain": [
       "2.3333333333333335"
      ]
     },
     "execution_count": 7,
     "metadata": {},
     "output_type": "execute_result"
    }
   ],
   "source": [
    "7 / 3"
   ]
  },
  {
   "cell_type": "code",
   "execution_count": 8,
   "id": "9f8516bc",
   "metadata": {},
   "outputs": [
    {
     "data": {
      "text/plain": [
       "2"
      ]
     },
     "execution_count": 8,
     "metadata": {},
     "output_type": "execute_result"
    }
   ],
   "source": [
    "7 // 3"
   ]
  },
  {
   "cell_type": "code",
   "execution_count": 9,
   "id": "def8d446",
   "metadata": {},
   "outputs": [
    {
     "data": {
      "text/plain": [
       "1"
      ]
     },
     "execution_count": 9,
     "metadata": {},
     "output_type": "execute_result"
    }
   ],
   "source": [
    "7 % 3"
   ]
  },
  {
   "cell_type": "code",
   "execution_count": 10,
   "id": "457f5658",
   "metadata": {},
   "outputs": [
    {
     "data": {
      "text/plain": [
       "3.0"
      ]
     },
     "execution_count": 10,
     "metadata": {},
     "output_type": "execute_result"
    }
   ],
   "source": [
    "9 ** 0.5 # получение корня"
   ]
  },
  {
   "cell_type": "code",
   "execution_count": 11,
   "id": "eddf0c0d",
   "metadata": {},
   "outputs": [
    {
     "data": {
      "text/plain": [
       "'11'"
      ]
     },
     "execution_count": 11,
     "metadata": {},
     "output_type": "execute_result"
    }
   ],
   "source": [
    "\"1\" + \"1\" # объединение строк"
   ]
  },
  {
   "cell_type": "markdown",
   "id": "3d6f3e11",
   "metadata": {
    "slideshow": {
     "slide_type": "slide"
    }
   },
   "source": [
    "## Ввод и вывод данных"
   ]
  },
  {
   "cell_type": "code",
   "execution_count": 12,
   "id": "80939073",
   "metadata": {},
   "outputs": [
    {
     "name": "stdout",
     "output_type": "stream",
     "text": [
      "1\n",
      "2\n",
      "3 4\n"
     ]
    }
   ],
   "source": [
    "a = int(input())                 # ввод целого числа\n",
    "b = input()                      # ввод строки\n",
    "\n",
    "c, d = map(int, input().split()) # ввод нескольких чисел в одной строке\n",
    "                                 # (количество зависит от переменных слева)"
   ]
  },
  {
   "cell_type": "code",
   "execution_count": 13,
   "id": "6cf82fda",
   "metadata": {
    "slideshow": {
     "slide_type": "subslide"
    }
   },
   "outputs": [
    {
     "name": "stdout",
     "output_type": "stream",
     "text": [
      "Hello, World!\n",
      "1 2 3\n"
     ]
    }
   ],
   "source": [
    "print(\"Hello, World!\")\n",
    "print(\"1 2 3\")"
   ]
  },
  {
   "cell_type": "code",
   "execution_count": 14,
   "id": "a1e4d3f5",
   "metadata": {},
   "outputs": [
    {
     "name": "stdout",
     "output_type": "stream",
     "text": [
      "1 2 3\n"
     ]
    }
   ],
   "source": [
    "print(1, 2, 3)"
   ]
  },
  {
   "cell_type": "code",
   "execution_count": 15,
   "id": "de28e67b",
   "metadata": {
    "slideshow": {
     "slide_type": "-"
    }
   },
   "outputs": [
    {
     "name": "stdout",
     "output_type": "stream",
     "text": [
      "a = 1\n",
      "b = 2\n",
      "c = 3 d = 4\n"
     ]
    }
   ],
   "source": [
    "print(\"a =\", a)\n",
    "print(\"b =\", b)\n",
    "print(\"c =\", c, \"d =\", d)"
   ]
  },
  {
   "cell_type": "markdown",
   "id": "30e1eea8",
   "metadata": {
    "slideshow": {
     "slide_type": "slide"
    }
   },
   "source": [
    "### Задания 1.1"
   ]
  },
  {
   "cell_type": "code",
   "execution_count": 16,
   "id": "a2f091e7",
   "metadata": {},
   "outputs": [
    {
     "name": "stdout",
     "output_type": "stream",
     "text": [
      "Perm\n",
      "Moscow\n",
      "Samara\n",
      "Perm Moscow Samara\n"
     ]
    }
   ],
   "source": [
    "# 1.1.1 \n",
    "# что выведет этот код?\n",
    "\n",
    "a = input() # <= Perm\n",
    "b = input() # <= Moscow\n",
    "c = input() # <= Samara\n",
    "\n",
    "print(a, b, c) "
   ]
  },
  {
   "cell_type": "code",
   "execution_count": 17,
   "id": "8a273c96",
   "metadata": {
    "slideshow": {
     "slide_type": "subslide"
    }
   },
   "outputs": [
    {
     "name": "stdout",
     "output_type": "stream",
     "text": [
      "a\n",
      "b\n"
     ]
    }
   ],
   "source": [
    "# 1.1.2\n",
    "# что выведет этот код?\n",
    "\n",
    "a = \"Don't worry\"\n",
    "b = 'Be happy'\n",
    "\n",
    "print('a')\n",
    "print('b')"
   ]
  },
  {
   "cell_type": "code",
   "execution_count": 18,
   "id": "36dc5042",
   "metadata": {
    "slideshow": {
     "slide_type": "subslide"
    }
   },
   "outputs": [
    {
     "name": "stdout",
     "output_type": "stream",
     "text": [
      "Leave me alone\n",
      "I'm coding\n"
     ]
    }
   ],
   "source": [
    "# 1.1.3\n",
    "# что выведет этот код?\n",
    "\n",
    "a = 'Leave me alone'\n",
    "b = \"I'm coding\"\n",
    "\n",
    "print(a)\n",
    "print(b)"
   ]
  },
  {
   "cell_type": "code",
   "execution_count": 19,
   "id": "da7fb60d",
   "metadata": {
    "slideshow": {
     "slide_type": "subslide"
    }
   },
   "outputs": [
    {
     "ename": "SyntaxError",
     "evalue": "invalid syntax. Perhaps you forgot a comma? (1600715487.py, line 8)",
     "output_type": "error",
     "traceback": [
      "\u001b[1;36m  Cell \u001b[1;32mIn[19], line 8\u001b[1;36m\u001b[0m\n\u001b[1;33m    print(a b c)\u001b[0m\n\u001b[1;37m          ^\u001b[0m\n\u001b[1;31mSyntaxError\u001b[0m\u001b[1;31m:\u001b[0m invalid syntax. Perhaps you forgot a comma?\n"
     ]
    }
   ],
   "source": [
    "# 1.1.4\n",
    "# что выведет этот код?\n",
    "\n",
    "a = '10'\n",
    "b = '20'\n",
    "c = '30'\n",
    "\n",
    "print(a b c)"
   ]
  },
  {
   "cell_type": "markdown",
   "id": "4807a8f0",
   "metadata": {
    "slideshow": {
     "slide_type": "subslide"
    }
   },
   "source": [
    "#### Задание 1.1.5\n",
    "\n",
    "На вход программе подаётся строка текста – имя человека. Напишите программу, которая принимает эту строку текста через стандартный поток ввода (команда input()). Далее программа должна выводить на экран приветствие в следующем формате:\n",
    "\n",
    "Привет, <имя человека> <br>\n",
    "где <имя человека> – строка текста, которую ваша программа приняла на вход.\n",
    "\n",
    "-------------------\n",
    "##### Примеры:\n",
    "\n",
    "**Ввод**:\n",
    "Тимур <br>\n",
    "**Вывод**:\n",
    "Привет, Тимур\n",
    "\n",
    "--------\n",
    "\n",
    "**Ввод**:\n",
    "Гвидо <br>\n",
    "**Вывод**:\n",
    "Привет, Гвидо"
   ]
  },
  {
   "cell_type": "code",
   "execution_count": 21,
   "id": "88ba3276",
   "metadata": {},
   "outputs": [],
   "source": [
    "# 1.1.5\n",
    "# место для кода"
   ]
  },
  {
   "cell_type": "markdown",
   "id": "58099913",
   "metadata": {
    "slideshow": {
     "slide_type": "subslide"
    }
   },
   "source": [
    "  #### Задание 1.1.6\n",
    "\n",
    "На вход программе подается строка текста – название футбольной команды. Напишите программу, которая принимает через стандартный поток ввода (команда input()) эту строку и печатает предложение в следующем формате:\n",
    "\n",
    "<название футбольной команды> - чемпион!\n",
    "где <название футбольной команды> – строка текста, которую ваша программа приняла на вход.\n",
    "\n",
    "-------------------\n",
    "\n",
    "##### Примеры:\n",
    "\n",
    "**Ввод**:\n",
    "Барселона <br>\n",
    "**Вывод**:\n",
    "Барселона - чемпион!\n",
    "\n",
    "--------\n",
    "\n",
    "**Ввод**:\n",
    "Ливерпуль <br>\n",
    "**Вывод**:\n",
    "Ливерпуль - чемпион!"
   ]
  },
  {
   "cell_type": "code",
   "execution_count": 22,
   "id": "4f5e727a",
   "metadata": {},
   "outputs": [],
   "source": [
    "# 1.1.6\n",
    "# место для кода"
   ]
  },
  {
   "cell_type": "markdown",
   "id": "a01ffb98",
   "metadata": {
    "slideshow": {
     "slide_type": "subslide"
    }
   },
   "source": [
    "#### Задание 1.1.7\n",
    "\n",
    "Напишите программу, которая принимает через стандартный поток ввода (команда input()) три строки, а затем выводит их в той же последовательности, каждую на отдельной строке.\n",
    "\n",
    "-------------------\n",
    "\n",
    "##### Примеры:\n",
    "\n",
    "**Ввод**: \\\n",
    "I was\\\n",
    "born\\\n",
    "this way\n",
    "\n",
    "**Вывод**:\\\n",
    "I was\\\n",
    "born\\\n",
    "this way\n",
    "\n",
    "--------\n",
    "\n",
    "**Ввод**: \\\n",
    "I love\\\n",
    "Python\\\n",
    "so much\n",
    "\n",
    "**Вывод**:\\\n",
    "I love\\\n",
    "Python\\\n",
    "so much"
   ]
  },
  {
   "cell_type": "code",
   "execution_count": null,
   "id": "5ceab486",
   "metadata": {},
   "outputs": [],
   "source": [
    "# 1.1.7\n",
    "# место для кода"
   ]
  },
  {
   "cell_type": "markdown",
   "id": "1662079d",
   "metadata": {
    "slideshow": {
     "slide_type": "subslide"
    }
   },
   "source": [
    "#### Задание 1.1.8\n",
    "\n",
    "Напишите программу, которая принимает через стандартный поток ввода (команда input()) три строки, а затем выводит их в **обратной** последовательности, каждую на отдельной строчке.\n",
    "\n",
    "-------------------\n",
    "\n",
    "##### Примеры:\n",
    "\n",
    "**Ввод**: \\\n",
    "I was\\\n",
    "born\\\n",
    "this way\n",
    "\n",
    "**Вывод**:\\\n",
    "this way\\\n",
    "born\\\n",
    "I was\n",
    "\n",
    "--------\n",
    "\n",
    "**Ввод**: \\\n",
    "I love\\\n",
    "Python\\\n",
    "so much\n",
    "\n",
    "**Вывод**:\\\n",
    "so much\\\n",
    "Python\\\n",
    "I love"
   ]
  },
  {
   "cell_type": "code",
   "execution_count": null,
   "id": "db38c771",
   "metadata": {},
   "outputs": [],
   "source": [
    "# 1.1.8\n",
    "# место для кода"
   ]
  },
  {
   "cell_type": "markdown",
   "id": "cc223ebf",
   "metadata": {
    "slideshow": {
     "slide_type": "subslide"
    }
   },
   "source": [
    "#### Задание 1.1.9\n",
    "\n",
    "Напишите программу вывода на экран трех последовательно идущих чисел, каждое на отдельной строке. Первое число вводит пользователь, остальные числа вы должны сами вычислять в программе.\n",
    "\n",
    "-------------------\n",
    "\n",
    "##### Примеры:\n",
    "\n",
    "**Ввод**: \\\n",
    "8\n",
    "\n",
    "**Вывод**:\\\n",
    "8\\\n",
    "9\\\n",
    "10\n",
    "\n",
    "--------\n",
    "\n",
    "**Ввод**: \\\n",
    "-341\n",
    "\n",
    "**Вывод**:\\\n",
    "-341\\\n",
    "-340\\\n",
    "-339"
   ]
  },
  {
   "cell_type": "code",
   "execution_count": null,
   "id": "c8cf3e05",
   "metadata": {},
   "outputs": [],
   "source": [
    "# 1.1.9\n",
    "# место для кода"
   ]
  },
  {
   "cell_type": "markdown",
   "id": "201a67a2",
   "metadata": {
    "slideshow": {
     "slide_type": "subslide"
    }
   },
   "source": [
    "#### Задание 1.1.10\n",
    "\n",
    "Напишите программу, которая считывает три целых числа и выводит на экран их сумму. Числа записаны в одну строку\n",
    "\n",
    "-------------------\n",
    "\n",
    "##### Примеры:\n",
    "\n",
    "**Ввод**: \\\n",
    "1 1 1\n",
    "\n",
    "**Вывод**:\\\n",
    "3\n",
    "\n",
    "--------\n",
    "\n",
    "**Ввод**: \\\n",
    "7 3 -1\n",
    "\n",
    "**Вывод**:\\\n",
    "9"
   ]
  },
  {
   "cell_type": "code",
   "execution_count": null,
   "id": "5e24110c",
   "metadata": {},
   "outputs": [],
   "source": [
    "# 1.1.10\n",
    "# место для кода"
   ]
  },
  {
   "cell_type": "markdown",
   "id": "cf92fad0",
   "metadata": {
    "slideshow": {
     "slide_type": "subslide"
    }
   },
   "source": [
    "#### Задание 1.1.11\n",
    "\n",
    "Напишите программу, которая считывает целое число и выводит для него на экран следующее и предыдущее целые числа в следующем формате:\n",
    "\n",
    ">Следующее за числом <текущее число> число: <следующее число>\\\n",
    "Для числа <текущее число> предыдущее число: <предыдущее число>\n",
    "\n",
    "-------------------\n",
    "\n",
    "##### Примеры:\n",
    "\n",
    "**Ввод**: \\\n",
    "0\n",
    "\n",
    "**Вывод**:\\\n",
    "Следующее за числом 0 число: 1\\\n",
    "Для числа 0 предыдущее число: -1\n",
    "\n",
    "--------\n",
    "\n",
    "**Ввод**: \\\n",
    "20\n",
    "\n",
    "**Вывод**:\\\n",
    "Следующее за числом 20 число: 21\\\n",
    "Для числа 20 предыдущее число: 19"
   ]
  },
  {
   "cell_type": "code",
   "execution_count": null,
   "id": "3a48e3bd",
   "metadata": {},
   "outputs": [],
   "source": [
    "# 1.1.11\n",
    "# место для кода"
   ]
  },
  {
   "cell_type": "markdown",
   "id": "9aa836cf",
   "metadata": {
    "slideshow": {
     "slide_type": "slide"
    }
   },
   "source": [
    "# Проверка условий"
   ]
  },
  {
   "cell_type": "code",
   "execution_count": null,
   "id": "93b0108d",
   "metadata": {},
   "outputs": [],
   "source": [
    "year = int(input(\"Сколько вам лет? \"))\n",
    "\n",
    "if year >= 60:               # сначала проверяет это условие\n",
    "    print(\"Вы на пенсии!\")\n",
    "elif 18 <= year:             # если первое условие неверно, проверяет это\n",
    "    print(\"Вы работаете\")\n",
    "else:                        # если все условия неверны, выполняет это\n",
    "    print(\"Вы учитесь\")"
   ]
  },
  {
   "cell_type": "markdown",
   "id": "94578b1f",
   "metadata": {
    "slideshow": {
     "slide_type": "subslide"
    }
   },
   "source": [
    "Можно добавлять сколько угодно условий, каждое в свой elif, но выполнится только первое верное из них.\n",
    "\n",
    "elif и else — необязательные, так что их можно пропустить (тогда при невыполнении условия ничего не произойдёт)"
   ]
  },
  {
   "cell_type": "code",
   "execution_count": null,
   "id": "5b73b224",
   "metadata": {
    "slideshow": {
     "slide_type": "-"
    }
   },
   "outputs": [],
   "source": [
    "a, b = map(int, input().split())\n",
    "\n",
    "if a == b:                    # так обозначается проверка на равенство\n",
    "    print(\"Два числа равны\")"
   ]
  },
  {
   "cell_type": "markdown",
   "id": "3aa44854",
   "metadata": {
    "slideshow": {
     "slide_type": "slide"
    }
   },
   "source": [
    "### Логические операторы\n",
    "\n",
    "Разберём ещё одну задачу. Допустим, у нас есть человек, про которого нам известен пол и возраст. Они хранятся в переменных `is_male` (`True` — человек мужчина, `False` — женщина) и `age` (целое число) соответственно. Нам нужно проверить, является ли человек мужчиной старше 30 лет."
   ]
  },
  {
   "cell_type": "code",
   "execution_count": null,
   "id": "9ef34247",
   "metadata": {},
   "outputs": [],
   "source": [
    "# сложный путь\n",
    "is_male = True\n",
    "age = 40\n",
    "\n",
    "if is_male:\n",
    "    if age > 30:\n",
    "        print(\"Вы мужчина старше 30 лет\")"
   ]
  },
  {
   "cell_type": "markdown",
   "id": "87b6724e",
   "metadata": {
    "slideshow": {
     "slide_type": "subslide"
    }
   },
   "source": [
    "Но можно и проще! Здесь на помощь приходят логические операторы, которые помогают в этом. Всего их три: `and`, `or` и `not`.\n",
    "\n",
    "1. `and` (= И)\\\n",
    "    Например, (я мужчина) **И** (я старше 30 лет) => (is_male) **and** (age > 30)\n",
    "2. `or` (= ИЛИ)\\\n",
    "    Например, (я мужчина) **ИЛИ** (я старше 30 лет) => (is_male) **or** (age > 30)\n",
    "3. `not` (= НЕ)\\\n",
    "    Например, я **НЕ** мужчина => **not** (is_male)"
   ]
  },
  {
   "cell_type": "code",
   "execution_count": null,
   "id": "6f1a32d2",
   "metadata": {},
   "outputs": [],
   "source": [
    "# напишем нашу задачу, используя логические операторы\n",
    "\n",
    "is_male = True\n",
    "age = 40\n",
    "\n",
    "if is_male and (age > 30):\n",
    "    print(\"Вы мужчина старше 30 лет\")"
   ]
  },
  {
   "cell_type": "markdown",
   "id": "45d285a1",
   "metadata": {
    "slideshow": {
     "slide_type": "slide"
    }
   },
   "source": [
    "### Задания 1.2"
   ]
  },
  {
   "cell_type": "code",
   "execution_count": 23,
   "id": "05259ebf",
   "metadata": {},
   "outputs": [
    {
     "name": "stdout",
     "output_type": "stream",
     "text": [
      "число 34 выиграло\n"
     ]
    }
   ],
   "source": [
    "# 1.2.1\n",
    "# что выведет этот код?\n",
    "\n",
    "num1 = 34\n",
    "num2 = 81\n",
    "if num1 // 9 == 0 or num2 % 9 == 0:\n",
    "    print('число', num1, 'выиграло')\n",
    "else:\n",
    "    print('число', num2, 'выиграло')"
   ]
  },
  {
   "cell_type": "code",
   "execution_count": 25,
   "id": "f55f1be4",
   "metadata": {
    "slideshow": {
     "slide_type": "subslide"
    }
   },
   "outputs": [
    {
     "name": "stdout",
     "output_type": "stream",
     "text": [
      "1\n",
      "36\n"
     ]
    }
   ],
   "source": [
    "# 1.2.2\n",
    "# что выведет этот код?\n",
    "\n",
    "a = int(input()) # <= 7\n",
    "\n",
    "if a >= 2 and a <= 17:\n",
    "    b = 3\n",
    "    p = a * a + b * b \n",
    "else:\n",
    "    b = 5\n",
    "\n",
    "p = (a + b) * (a + b)\n",
    "print(p)"
   ]
  },
  {
   "cell_type": "markdown",
   "id": "57a64dc0",
   "metadata": {
    "slideshow": {
     "slide_type": "subslide"
    }
   },
   "source": [
    "#### Задание 1.2.3\n",
    "\n",
    "При регистрации на сайтах требуется вводить пароль дважды. Это сделано для безопасности, поскольку такой подход уменьшает возможность неверного ввода пароля.\n",
    "\n",
    "Напишите программу, которая сравнивает пароль и его подтверждение. Если они совпадают, то программа выводит: «Пароль принят», иначе: «Пароль не принят».\n",
    "\n",
    "\n",
    "-------------------\n",
    "\n",
    "##### Примеры:\n",
    "\n",
    "**Ввод**: \\\n",
    "qwerty\\\n",
    "qwerty\n",
    "\n",
    "**Вывод**:\\\n",
    "Пароль принят\n",
    "\n",
    "--------\n",
    "\n",
    "**Ввод**: \\\n",
    "qwerty\\\n",
    "Qwerty\n",
    "\n",
    "\n",
    "**Вывод**:\\\n",
    "Пароль не принят"
   ]
  },
  {
   "cell_type": "code",
   "execution_count": null,
   "id": "20c77930",
   "metadata": {},
   "outputs": [],
   "source": [
    "# 1.2.3\n",
    "# место для кода"
   ]
  },
  {
   "cell_type": "markdown",
   "id": "95540344",
   "metadata": {
    "slideshow": {
     "slide_type": "subslide"
    }
   },
   "source": [
    "#### Задание 1.2.4\n",
    "\n",
    "Напишите программу, которая определяет, является число четным или нечетным.\n",
    "\n",
    "-------------------\n",
    "\n",
    "##### Примеры:\n",
    "\n",
    "**Ввод**: \\\n",
    "10\n",
    "\n",
    "**Вывод**:\\\n",
    "Четное\n",
    "\n",
    "--------\n",
    "\n",
    "**Ввод**: \\\n",
    "11\n",
    "\n",
    "\n",
    "**Вывод**:\\\n",
    "Нечетное"
   ]
  },
  {
   "cell_type": "code",
   "execution_count": null,
   "id": "92bb44d5",
   "metadata": {},
   "outputs": [],
   "source": [
    "# 1.2.4\n",
    "# место для кода"
   ]
  },
  {
   "cell_type": "markdown",
   "id": "bfec9980",
   "metadata": {
    "slideshow": {
     "slide_type": "subslide"
    }
   },
   "source": [
    "#### Задание 1.2.5\n",
    "\n",
    "Напишите программу, которая определяет, являются ли три заданных числа (в указанном порядке) последовательными членами арифметической прогрессии.\n",
    "\n",
    "\n",
    "-------------------\n",
    "\n",
    "##### Примеры:\n",
    "\n",
    "**Ввод**: \\\n",
    "1\\\n",
    "2\\\n",
    "3\n",
    "\n",
    "**Вывод**:\\\n",
    "YES\n",
    "\n",
    "--------\n",
    "\n",
    "**Ввод**: \\\n",
    "1\\\n",
    "2\\\n",
    "4\n",
    "\n",
    "**Вывод**:\\\n",
    "NO"
   ]
  },
  {
   "cell_type": "code",
   "execution_count": null,
   "id": "c2fcd963",
   "metadata": {},
   "outputs": [],
   "source": [
    "# 1.2.5\n",
    "# место для кода"
   ]
  },
  {
   "cell_type": "markdown",
   "id": "9eb6bf4c",
   "metadata": {
    "slideshow": {
     "slide_type": "subslide"
    }
   },
   "source": [
    "#### Задание 1.2.6\n",
    "\n",
    "Напишите программу, которая считывает три числа и подсчитывает сумму только положительных чисел.\n",
    "\n",
    "-------------------\n",
    "\n",
    "##### Примеры:\n",
    "\n",
    "**Ввод**: \\\n",
    "4\\\n",
    "-22\\\n",
    "1\n",
    "\n",
    "**Вывод**:\\\n",
    "5\n",
    "\n",
    "--------\n",
    "\n",
    "**Ввод**: \\\n",
    "-1\\\n",
    "37\\\n",
    "62\n",
    "\n",
    "**Вывод**:\\\n",
    "99"
   ]
  },
  {
   "cell_type": "code",
   "execution_count": null,
   "id": "3e64c035",
   "metadata": {},
   "outputs": [],
   "source": [
    "# 1.2.6\n",
    "# место для кода"
   ]
  },
  {
   "cell_type": "markdown",
   "id": "f588e4b4",
   "metadata": {
    "slideshow": {
     "slide_type": "subslide"
    }
   },
   "source": [
    "#### Задание 1.2.7\n",
    "\n",
    "Напишите программу, которая принимает целое число x и определяет, принадлежит ли данное число указанным промежутку $x \\in (-\\infty;-3] \\cup (10;+\\infty)$.\n",
    "\n",
    "\n",
    "-------------------\n",
    "\n",
    "##### Примеры:\n",
    "\n",
    "**Ввод**: \\\n",
    "4\\\n",
    "-22\\\n",
    "1\n",
    "\n",
    "**Вывод**:\\\n",
    "5\n",
    "\n",
    "--------\n",
    "\n",
    "**Ввод**: \\\n",
    "-1\\\n",
    "37\\\n",
    "62\n",
    "\n",
    "**Вывод**:\\\n",
    "99"
   ]
  },
  {
   "cell_type": "code",
   "execution_count": null,
   "id": "8d4d22c9",
   "metadata": {},
   "outputs": [],
   "source": [
    "# 1.2.7\n",
    "# место для кода"
   ]
  },
  {
   "cell_type": "markdown",
   "id": "62f32688",
   "metadata": {
    "slideshow": {
     "slide_type": "slide"
    }
   },
   "source": [
    "## Цикл for\n",
    "\n",
    "Очень часто в программе приходится делать что-то несколько раз. Для этой цели существует цикл for."
   ]
  },
  {
   "cell_type": "code",
   "execution_count": null,
   "id": "1ff3385c",
   "metadata": {},
   "outputs": [],
   "source": [
    "N = 5               # кол-во повторений\n",
    "for i in range(N):  # сам цикл\n",
    "    print(\"i =\", i) # i - переменная цикла (счётчик)"
   ]
  },
  {
   "cell_type": "code",
   "execution_count": null,
   "id": "f009cb74",
   "metadata": {
    "slideshow": {
     "slide_type": "subslide"
    }
   },
   "outputs": [],
   "source": [
    "# можно делать даже вложенные циклы\n",
    "N = 2\n",
    "M = 3\n",
    "\n",
    "for i in range(N):\n",
    "    print(\"i =\", i)\n",
    "    for j in range(M):\n",
    "        print(\"  j =\", j)"
   ]
  },
  {
   "cell_type": "markdown",
   "id": "2e3178fe",
   "metadata": {
    "slideshow": {
     "slide_type": "subslide"
    }
   },
   "source": [
    "### break, continue\n",
    "\n",
    "Иногда мы хотим заранее выйти из цикла, либо пропустить один его шаг. В этом нам помогут операторы `break` (останавливает цикл) и `continue` (пропускает весь оставшийся код и переходит к новому шагу)."
   ]
  },
  {
   "cell_type": "code",
   "execution_count": null,
   "id": "2ed7dbe3",
   "metadata": {},
   "outputs": [],
   "source": [
    "for i in range(10):\n",
    "    if i % 2 == 0:   # пропускаем все шаги, где i четное\n",
    "        continue\n",
    "    if i ** 2 >= 81: # заканчиваем цикл, если квадрат i не меньше 81\n",
    "        break\n",
    "    print(\"i =\", i)"
   ]
  },
  {
   "cell_type": "markdown",
   "id": "24bc7ead",
   "metadata": {
    "slideshow": {
     "slide_type": "subslide"
    }
   },
   "source": [
    "### Продвинутый range\n",
    "\n",
    "Мы уже знаем, как работает `range(END)` — перебирает числа $\\in [0; END)$\n",
    "\n",
    "Однако существует ещё несколько способов задать `range`:\n",
    "1. `range(END)` перебирает числа $\\in [0; END)$\n",
    "2. `range(START, END)` перебирает числа $\\in [START; END)$\n",
    "3. `range(START, END, STEP)` перебирает числа $\\in [START; END)$, причём делает это с шагом `STEP`.\\\n",
    "    То есть, `range(1, 10, 2)` покажет числа [1, 3, 5, 7, 9]"
   ]
  },
  {
   "cell_type": "code",
   "execution_count": 26,
   "id": "ac38a7fb",
   "metadata": {},
   "outputs": [
    {
     "name": "stdout",
     "output_type": "stream",
     "text": [
      "i = 10\n",
      "i = 12\n",
      "i = 14\n",
      "i = 16\n",
      "i = 18\n",
      "i = 20\n"
     ]
    }
   ],
   "source": [
    "# выведем все чётные числа на промежутке [10; 20]\n",
    "for i in range(10, 21, 2):\n",
    "    print(\"i =\", i)"
   ]
  },
  {
   "cell_type": "markdown",
   "id": "356d2bd7",
   "metadata": {
    "slideshow": {
     "slide_type": "slide"
    }
   },
   "source": [
    "## Цикл while"
   ]
  },
  {
   "cell_type": "code",
   "execution_count": 28,
   "id": "1f9fe19c",
   "metadata": {},
   "outputs": [
    {
     "name": "stdout",
     "output_type": "stream",
     "text": [
      "0\n",
      "0\n"
     ]
    }
   ],
   "source": [
    "# Нужно найти сумму последовательности неизвестной длины (каждое число вводится\n",
    "# с новой строки). При этом последовательность обязательно кончается 0.\n",
    "\n",
    "s = 0\n",
    "a = int(input())\n",
    "\n",
    "while a != 0: # повторять пока a отлично от 0\n",
    "    s += a\n",
    "    a = int(input())\n",
    "print(s)"
   ]
  },
  {
   "cell_type": "markdown",
   "id": "3e1406c4",
   "metadata": {
    "slideshow": {
     "slide_type": "slide"
    }
   },
   "source": [
    "### Задания 1.3"
   ]
  },
  {
   "cell_type": "markdown",
   "id": "64a6e97b",
   "metadata": {
    "slideshow": {
     "slide_type": "subslide"
    }
   },
   "source": [
    "#### Задание 1.3.1\n",
    "\n",
    "Напишите программу, которая выводит слова «Python is awesome!» (без кавычек) 10 раз."
   ]
  },
  {
   "cell_type": "code",
   "execution_count": null,
   "id": "27437352",
   "metadata": {},
   "outputs": [],
   "source": [
    "# 1.3.1\n",
    "# место для кода"
   ]
  },
  {
   "cell_type": "markdown",
   "id": "ac4e9b5e",
   "metadata": {
    "slideshow": {
     "slide_type": "subslide"
    }
   },
   "source": [
    "#### Задание 1.3.2\n",
    "\n",
    "Дано предложение и количество раз, сколько его надо повторить. Напишите программу, которая повторяет данное предложение нужное количество раз.\n",
    "\n",
    "-------------------\n",
    "\n",
    "##### Примеры:\n",
    "\n",
    "**Ввод**: \\\n",
    "Век живи - век учись.\\\n",
    "3\n",
    "\n",
    "**Вывод**:\\\n",
    "Век живи - век учись.\\\n",
    "Век живи - век учись.\\\n",
    "Век живи - век учись.\n",
    "\n",
    "--------\n",
    "\n",
    "**Ввод**: \\\n",
    "Время - деньги!\\\n",
    "5\n",
    "\n",
    "**Вывод**:\\\n",
    "Время - деньги!\\\n",
    "Время - деньги!\\\n",
    "Время - деньги!\\\n",
    "Время - деньги!\\\n",
    "Время - деньги!"
   ]
  },
  {
   "cell_type": "code",
   "execution_count": null,
   "id": "9005bbde",
   "metadata": {},
   "outputs": [],
   "source": [
    "# 1.3.2\n",
    "# место для кода"
   ]
  },
  {
   "cell_type": "markdown",
   "id": "fd8e36db",
   "metadata": {
    "slideshow": {
     "slide_type": "subslide"
    }
   },
   "source": [
    "#### Задание 1.3.3\n",
    "\n",
    "На вход программе подаётся натуральное число n. Напишите программу, которая для каждого из чисел от 0 до n (включительно) выводит текст в следующем формате:\n",
    "\n",
    "> Квадрат числа <текущее число> равен <квадрат текущего числа>\n",
    "\n",
    "-------------------\n",
    "\n",
    "##### Примеры:\n",
    "\n",
    "**Ввод**: \\\n",
    "1\n",
    "\n",
    "**Вывод**:\\\n",
    "Квадрат числа 0 равен 0\\\n",
    "Квадрат числа 1 равен 1\n",
    "\n",
    "--------\n",
    "\n",
    "**Ввод**: \\\n",
    "2\n",
    "\n",
    "**Вывод**:\\\n",
    "Квадрат числа 0 равен 0\\\n",
    "Квадрат числа 1 равен 1\\\n",
    "Квадрат числа 2 равен 4"
   ]
  },
  {
   "cell_type": "code",
   "execution_count": null,
   "id": "ea90fb09",
   "metadata": {},
   "outputs": [],
   "source": [
    "# 1.3.3\n",
    "# место для кода"
   ]
  },
  {
   "cell_type": "markdown",
   "id": "38fd4d5a",
   "metadata": {
    "slideshow": {
     "slide_type": "subslide"
    }
   },
   "source": [
    "#### Задание 1.3.4\n",
    "\n",
    "Даны два целых числа m и n (m≤n). Напишите программу, которая выводит все целые числа от m до n включительно.\n",
    "\n",
    "##### Примеры:\n",
    "\n",
    "**Ввод**: \\\n",
    "1\\\n",
    "5\n",
    "\n",
    "**Вывод**:\\\n",
    "1\\\n",
    "2\\\n",
    "3\\\n",
    "4\\\n",
    "5"
   ]
  },
  {
   "cell_type": "code",
   "execution_count": null,
   "id": "11f45d99",
   "metadata": {},
   "outputs": [],
   "source": [
    "# 1.3.4\n",
    "# место для кода"
   ]
  },
  {
   "cell_type": "markdown",
   "id": "f7899c85",
   "metadata": {
    "slideshow": {
     "slide_type": "subslide"
    }
   },
   "source": [
    "#### Задание 1.3.5\n",
    "\n",
    "Даны два целых числа m и n (m≤n). Напишите программу, которая выводит все целые числа от m до n включительно, удовлетворяющие хотя бы одному из условий:\n",
    "\n",
    "* число кратно 17\n",
    "* число оканчивается на 9\n",
    "* число кратно 3 и 5 одновременно\n",
    "\n",
    "##### Примеры:\n",
    "\n",
    "**Ввод**: \\\n",
    "1\\\n",
    "20\n",
    "\n",
    "**Вывод**:\\\n",
    "9\\\n",
    "15\\\n",
    "17\\\n",
    "19\n",
    "\n",
    "--------\n",
    "\n",
    "**Ввод**: \\\n",
    "17\\\n",
    "17\n",
    "\n",
    "**Вывод**:\\\n",
    "17"
   ]
  },
  {
   "cell_type": "code",
   "execution_count": null,
   "id": "8232ce40",
   "metadata": {},
   "outputs": [],
   "source": [
    "# 1.3.5\n",
    "# место для кода"
   ]
  },
  {
   "cell_type": "markdown",
   "id": "385eb926",
   "metadata": {
    "slideshow": {
     "slide_type": "subslide"
    }
   },
   "source": [
    "#### Задание 1.3.6\n",
    "\n",
    "На вход программе подаются два целых числа a и b (a≤b). Напишите программу, которая подсчитывает количество чисел в диапазоне от a до b (включительно), куб которых оканчивается на 4 или 9.\n",
    "\n",
    "\n",
    "##### Примеры:\n",
    "\n",
    "**Ввод**: \\\n",
    "1\\\n",
    "10\n",
    "\n",
    "**Вывод**:\\\n",
    "2\n",
    "\n",
    "--------\n",
    "\n",
    "**Ввод**: \\\n",
    "1\\\n",
    "100\n",
    "\n",
    "**Вывод**:\\\n",
    "20"
   ]
  },
  {
   "cell_type": "code",
   "execution_count": null,
   "id": "5884bf24",
   "metadata": {},
   "outputs": [],
   "source": [
    "# 1.3.6\n",
    "# место для кода"
   ]
  },
  {
   "cell_type": "markdown",
   "id": "c7a5b5dd",
   "metadata": {
    "slideshow": {
     "slide_type": "subslide"
    }
   },
   "source": [
    "#### Задание 1.3.7\n",
    "\n",
    "На вход программе подается натуральное число n. Напишите программу, которая вычисляет n! ($n! = 1 \\cdot 2 \\cdot 3 \\cdot ... \\cdot n$).\n",
    "\n",
    "##### Примеры:\n",
    "\n",
    "**Ввод**: \\\n",
    "3\n",
    "\n",
    "**Вывод**:\\\n",
    "6\n",
    "\n",
    "--------\n",
    "\n",
    "**Ввод**: \\\n",
    "2\n",
    "\n",
    "**Вывод**:\\\n",
    "2"
   ]
  },
  {
   "cell_type": "code",
   "execution_count": null,
   "id": "ae05ca75",
   "metadata": {},
   "outputs": [],
   "source": [
    "# 1.3.7\n",
    "# место для кода"
   ]
  },
  {
   "cell_type": "markdown",
   "id": "98b8cc9e",
   "metadata": {
    "slideshow": {
     "slide_type": "subslide"
    }
   },
   "source": [
    "#### Задание 1.3.7\n",
    "\n",
    "На вход программе подается последовательность слов, каждое слово на отдельной строке. Концом последовательности является одно из трех слов: «стоп», «хватит», «достаточно» (маленькими буквами, без кавычек). Сами эти слова в последовательность не входят, лишь символизируя её окончание. Напишите программу, которая выводит общее количество членов данной последовательности.\n",
    "\n",
    "##### Примеры:\n",
    "\n",
    "**Ввод**: \\\n",
    "Skyrim\\\n",
    "GTA\\\n",
    "Mafia\\\n",
    "стоп\\\n",
    "Battlefield\n",
    "\n",
    "**Вывод**:\\\n",
    "3\n",
    "\n",
    "--------\n",
    "\n",
    "**Ввод**: \\\n",
    "Yandex\\\n",
    "Google\\\n",
    "Opera\\\n",
    "Safari\\\n",
    "хватит\\\n",
    "Mozilla\n",
    "\n",
    "**Вывод**:\\\n",
    "4"
   ]
  },
  {
   "cell_type": "code",
   "execution_count": 30,
   "id": "e7de6adc",
   "metadata": {},
   "outputs": [],
   "source": [
    "# 1.3.7\n",
    "# место для кода"
   ]
  },
  {
   "cell_type": "markdown",
   "id": "199d9d17",
   "metadata": {
    "slideshow": {
     "slide_type": "subslide"
    }
   },
   "source": [
    "#### Задание 1.3.8\n",
    "\n",
    "На вход программе подаются три натуральных числа m, p, n:\n",
    "\n",
    "* m: стартовое количество организмов;\n",
    "* p: среднесуточное увеличение в %;\n",
    "* n: количество дней для размножения.\n",
    "\n",
    "Напишите программу, которая предсказывает размер популяции организмов с 1-го по n-й день (включительно). Программа должна выводить номер дня, а затем через пробел размер популяции в этот день.\n",
    "\n",
    "----------------\n",
    "\n",
    "$ans_1 = m \\cdot (1+\\frac{p}{100})$\\\n",
    "...\\\n",
    "$ans_i = ans_{i-1} \\cdot (1+\\frac{p}{100})$\n",
    "\n",
    "-------------------\n",
    "\n",
    "##### Примеры:\n",
    "\n",
    "**Ввод**: \\\n",
    "10\\\n",
    "50\\\n",
    "6\n",
    "\n",
    "**Вывод**:\\\n",
    "1 10.0\\\n",
    "2 15.0\\\n",
    "3 22.5\\\n",
    "4 33.75\\\n",
    "5 50.625\\\n",
    "6 75.9375\n",
    "\n",
    "--------\n",
    "\n",
    "**Ввод**: \\\n",
    "120\\\n",
    "25\\\n",
    "4\n",
    "\n",
    "**Вывод**:\\\n",
    "1 120.0\\\n",
    "2 150.0\\\n",
    "3 187.5\\\n",
    "4 234.375"
   ]
  },
  {
   "cell_type": "code",
   "execution_count": null,
   "id": "7784f46b",
   "metadata": {},
   "outputs": [],
   "source": [
    "# 1.3.8\n",
    "# место для кода"
   ]
  },
  {
   "cell_type": "markdown",
   "id": "088722c3",
   "metadata": {
    "slideshow": {
     "slide_type": "slide"
    }
   },
   "source": [
    "## Списки\n",
    "\n",
    "Списки — способ хранить несколько значений в одной переменной\n",
    "\n",
    "### Создание списков"
   ]
  },
  {
   "cell_type": "code",
   "execution_count": null,
   "id": "45771b0c",
   "metadata": {},
   "outputs": [],
   "source": [
    "N = 5                                # размер списка (он необязательный)\n",
    "\n",
    "a = [1, 2, 3, 4, 5]                  # создание списка\n",
    "a = list(map(int, input().split()))  # считывание списка с ввода (если в одной строке)\n",
    "a = [int(input()) for _ in range(N)] # считывание списка с ввода (если в нескольких строках)"
   ]
  },
  {
   "cell_type": "markdown",
   "id": "500d13d4",
   "metadata": {
    "slideshow": {
     "slide_type": "slide"
    }
   },
   "source": [
    "### Работа со списком\n",
    "\n",
    "Чтобы получить какой-то элемент списка нужно знать его номер. Номера присваиваются от 0."
   ]
  },
  {
   "cell_type": "code",
   "execution_count": null,
   "id": "e30e0558",
   "metadata": {},
   "outputs": [],
   "source": [
    "print(\"a[0] =\", a[0]) # первый элемент списка\n",
    "print(\"a[1] =\", a[1]) # второй элемент списка\n",
    "print(\"...\")          # (и так далее)\n",
    "print(\"a[4] =\", a[4]) # последний (пятый) элемент списка"
   ]
  },
  {
   "cell_type": "code",
   "execution_count": null,
   "id": "b2deff32",
   "metadata": {},
   "outputs": [],
   "source": [
    "len(a) # длина списка"
   ]
  },
  {
   "cell_type": "code",
   "execution_count": null,
   "id": "5e2fb509",
   "metadata": {},
   "outputs": [],
   "source": [
    "sum(a) # сумма чисел в списке"
   ]
  },
  {
   "cell_type": "code",
   "execution_count": null,
   "id": "1037bf2f",
   "metadata": {},
   "outputs": [],
   "source": [
    "min(a), max(a) # минимальное и максимальное число в списке"
   ]
  },
  {
   "cell_type": "code",
   "execution_count": 31,
   "id": "041301dc",
   "metadata": {},
   "outputs": [
    {
     "name": "stdout",
     "output_type": "stream",
     "text": [
      "b = [1, 2, 3]\n",
      "b = [1, 2, 3, 4]\n"
     ]
    }
   ],
   "source": [
    "b = [1, 2, 3]\n",
    "\n",
    "b.append(4) # добавляем 4 в конец списка\n",
    "\n",
    "print(\"b =\", b)"
   ]
  },
  {
   "cell_type": "markdown",
   "id": "1b79dd4a",
   "metadata": {
    "slideshow": {
     "slide_type": "slide"
    }
   },
   "source": [
    "### Задания 1.4"
   ]
  },
  {
   "cell_type": "markdown",
   "id": "93cffd4f",
   "metadata": {
    "slideshow": {
     "slide_type": "subslide"
    }
   },
   "source": [
    "#### Задание 1.4.1\n",
    "\n",
    "Найдите количество положительных элементов в данном списке.\n",
    "\n",
    "-------------------\n",
    "\n",
    "##### Примеры:\n",
    "\n",
    "**Ввод**: \\\n",
    "1 -2 3 -4 5\n",
    "\n",
    "**Вывод**:\\\n",
    "3"
   ]
  },
  {
   "cell_type": "code",
   "execution_count": null,
   "id": "9f2befab",
   "metadata": {},
   "outputs": [],
   "source": [
    "# 1.4.1\n",
    "# место для кода"
   ]
  },
  {
   "cell_type": "markdown",
   "id": "8aef6de1",
   "metadata": {
    "slideshow": {
     "slide_type": "subslide"
    }
   },
   "source": [
    "#### Задание 1.4.2\n",
    "\n",
    "Выведите значение наименьшего из всех положительных элементов в списке. Известно, что в списке есть хотя бы один положительный элемент, а значения всех элементов списка по модулю не превосходят 1000.\n",
    "\n",
    "-------------------\n",
    "\n",
    "##### Примеры:\n",
    "\n",
    "**Ввод**: \\\n",
    "5 -4 3 -2 1\n",
    "\n",
    "**Вывод**:\\\n",
    "1"
   ]
  },
  {
   "cell_type": "code",
   "execution_count": null,
   "id": "fb58e5dc",
   "metadata": {},
   "outputs": [],
   "source": [
    "# 1.4.2\n",
    "# место для кода"
   ]
  }
 ],
 "metadata": {
  "celltoolbar": "Слайд-шоу",
  "kernelspec": {
   "display_name": "Python 3 (ipykernel)",
   "language": "python",
   "name": "python3"
  },
  "language_info": {
   "codemirror_mode": {
    "name": "ipython",
    "version": 3
   },
   "file_extension": ".py",
   "mimetype": "text/x-python",
   "name": "python",
   "nbconvert_exporter": "python",
   "pygments_lexer": "ipython3",
   "version": "3.11.5"
  },
  "rise": {
   "enable_chalkboard": true,
   "scroll": true
  }
 },
 "nbformat": 4,
 "nbformat_minor": 5
}
