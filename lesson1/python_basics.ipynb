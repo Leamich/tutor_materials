{
  "cells": [
    {
      "cell_type": "markdown",
      "metadata": {
        "id": "view-in-github",
        "colab_type": "text"
      },
      "source": [
        "<a href=\"https://colab.research.google.com/github/Leamich/tutor_materials/blob/master/lesson1/python_basics.ipynb\" target=\"_parent\"><img src=\"https://colab.research.google.com/assets/colab-badge.svg\" alt=\"Open In Colab\"/></a>"
      ]
    },
    {
      "cell_type": "markdown",
      "id": "79d6ef4c",
      "metadata": {
        "id": "79d6ef4c"
      },
      "source": [
        "# Введение в Python\n",
        "\n",
        "*Леонтьев Михаил, 2024*"
      ]
    },
    {
      "cell_type": "markdown",
      "id": "f35fe6c2",
      "metadata": {
        "id": "f35fe6c2"
      },
      "source": [
        "## Простейшие типы данных"
      ]
    },
    {
      "cell_type": "code",
      "execution_count": null,
      "id": "b5f2f548",
      "metadata": {
        "id": "b5f2f548"
      },
      "outputs": [],
      "source": [
        "int_variable = 4    # целое число\n",
        "cat_name = \"Murzik\" # строка\n",
        "cat_height = 3.4    # дробное число\n",
        "is_cat = True       # переменная истинности (если True - значит правда, если False - ложь)"
      ]
    },
    {
      "cell_type": "markdown",
      "id": "cd2992c0",
      "metadata": {
        "id": "cd2992c0"
      },
      "source": [
        "## Операции над данными\n",
        "\n",
        "\n",
        "\n",
        "![Возможные операции](https://thumb.tildacdn.com/tild3635-6634-4134-a334-353262336232/-/format/webp/noroot.png)"
      ]
    },
    {
      "cell_type": "code",
      "execution_count": null,
      "id": "cba41363",
      "metadata": {
        "id": "cba41363",
        "outputId": "baac3fa9-78f8-4f40-a871-bcb54c851bfb"
      },
      "outputs": [
        {
          "data": {
            "text/plain": [
              "2.3333333333333335"
            ]
          },
          "execution_count": 2,
          "metadata": {},
          "output_type": "execute_result"
        }
      ],
      "source": [
        "7 / 3"
      ]
    },
    {
      "cell_type": "code",
      "execution_count": null,
      "id": "9f8516bc",
      "metadata": {
        "id": "9f8516bc",
        "outputId": "da8c2bc6-e4a4-4f55-f7bc-01722e7531bb"
      },
      "outputs": [
        {
          "data": {
            "text/plain": [
              "2"
            ]
          },
          "execution_count": 3,
          "metadata": {},
          "output_type": "execute_result"
        }
      ],
      "source": [
        "7 // 3"
      ]
    },
    {
      "cell_type": "code",
      "execution_count": null,
      "id": "def8d446",
      "metadata": {
        "id": "def8d446",
        "outputId": "75c0fde2-37ce-4fc7-9c04-8d9c46937214"
      },
      "outputs": [
        {
          "data": {
            "text/plain": [
              "1"
            ]
          },
          "execution_count": 7,
          "metadata": {},
          "output_type": "execute_result"
        }
      ],
      "source": [
        "7 % 3"
      ]
    },
    {
      "cell_type": "code",
      "execution_count": null,
      "id": "457f5658",
      "metadata": {
        "id": "457f5658",
        "outputId": "1c2e0e14-be28-41a0-93d2-03c8ee3934e9"
      },
      "outputs": [
        {
          "data": {
            "text/plain": [
              "3.0"
            ]
          },
          "execution_count": 8,
          "metadata": {},
          "output_type": "execute_result"
        }
      ],
      "source": [
        "9 ** 0.5 # получение корня"
      ]
    },
    {
      "cell_type": "code",
      "execution_count": null,
      "id": "eddf0c0d",
      "metadata": {
        "id": "eddf0c0d",
        "outputId": "8194c9da-1b7e-4844-c1ee-f0f87d9b7ee0"
      },
      "outputs": [
        {
          "data": {
            "text/plain": [
              "'МирПривет'"
            ]
          },
          "execution_count": 10,
          "metadata": {},
          "output_type": "execute_result"
        }
      ],
      "source": [
        "\"Мир\" + \"Привет\" # объединение строк"
      ]
    },
    {
      "cell_type": "markdown",
      "id": "3d6f3e11",
      "metadata": {
        "id": "3d6f3e11"
      },
      "source": [
        "## Ввод и вывод данных"
      ]
    },
    {
      "cell_type": "code",
      "execution_count": null,
      "id": "80939073",
      "metadata": {
        "id": "80939073",
        "outputId": "fd9b32f6-2050-44fa-ec57-2c7d9bf50717"
      },
      "outputs": [
        {
          "name": "stdout",
          "output_type": "stream",
          "text": [
            "4\n",
            "аывавыаваыв\n",
            "2 3\n"
          ]
        }
      ],
      "source": [
        "a = int(input())                 # ввод целого числа\n",
        "b = input()                      # ввод строки\n",
        "\n",
        "c, d = map(int, input().split()) # ввод нескольких чисел в одной строке\n",
        "                                 # (количество зависит от переменных слева)"
      ]
    },
    {
      "cell_type": "code",
      "execution_count": null,
      "id": "60cd6b07",
      "metadata": {
        "id": "60cd6b07"
      },
      "outputs": [],
      "source": []
    },
    {
      "cell_type": "code",
      "execution_count": null,
      "id": "aca4701c",
      "metadata": {
        "id": "aca4701c"
      },
      "outputs": [],
      "source": []
    },
    {
      "cell_type": "code",
      "execution_count": null,
      "id": "6cf82fda",
      "metadata": {
        "id": "6cf82fda",
        "outputId": "28a69d52-fca7-4f63-e66a-79b03f103b09"
      },
      "outputs": [
        {
          "name": "stdout",
          "output_type": "stream",
          "text": [
            "Hello, World!\n",
            "1 2 3 2\n"
          ]
        }
      ],
      "source": [
        "print(\"Hello, World!\")\n",
        "print(\"1 2 3\", 2)"
      ]
    },
    {
      "cell_type": "code",
      "execution_count": null,
      "id": "a1e4d3f5",
      "metadata": {
        "id": "a1e4d3f5",
        "outputId": "fa948e7c-68d2-418b-dd44-998508d1f356"
      },
      "outputs": [
        {
          "name": "stdout",
          "output_type": "stream",
          "text": [
            "1 2 3 asdsad 123213\n"
          ]
        }
      ],
      "source": [
        "print(1, 2, 3, \"asdsad\", 123213)"
      ]
    },
    {
      "cell_type": "code",
      "execution_count": null,
      "id": "de28e67b",
      "metadata": {
        "id": "de28e67b",
        "outputId": "5493f3bf-d226-4148-a8d1-6863c7ec7c54"
      },
      "outputs": [
        {
          "name": "stdout",
          "output_type": "stream",
          "text": [
            "a = 4\n",
            "b = аывавыаваыв\n",
            "c = 2 d = 3\n"
          ]
        }
      ],
      "source": [
        "print(\"a =\", a)\n",
        "print(\"b =\", b)\n",
        "print(\"c =\", c, \"d =\", d)"
      ]
    },
    {
      "cell_type": "markdown",
      "id": "30e1eea8",
      "metadata": {
        "id": "30e1eea8"
      },
      "source": [
        "### Задания 1.1"
      ]
    },
    {
      "cell_type": "code",
      "execution_count": null,
      "id": "a2f091e7",
      "metadata": {
        "id": "a2f091e7",
        "outputId": "91479747-70cf-46e3-d8cb-8da5497e8a02"
      },
      "outputs": [
        {
          "name": "stdout",
          "output_type": "stream",
          "text": [
            "1\n",
            "2\n",
            "3\n",
            "1\n",
            "2\n",
            "3\n"
          ]
        }
      ],
      "source": [
        "# 1.1.1\n",
        "# что выведет этот код?\n",
        "\n",
        "a = input() # <= Perm\n",
        "b = input() # <= Moscow\n",
        "c = input() # <= Samara\n",
        "\n",
        "print(a)\n",
        "print(b)\n",
        "print(c)"
      ]
    },
    {
      "cell_type": "code",
      "execution_count": null,
      "id": "8a273c96",
      "metadata": {
        "id": "8a273c96",
        "outputId": "accff7eb-bb5b-421f-c051-045c875c1011"
      },
      "outputs": [
        {
          "name": "stdout",
          "output_type": "stream",
          "text": [
            "a\n",
            "b\n"
          ]
        }
      ],
      "source": [
        "# 1.1.2\n",
        "# что выведет этот код?\n",
        "\n",
        "a = \"Don't worry\"\n",
        "b = 'Be happy'\n",
        "\n",
        "print('a')\n",
        "print('b')"
      ]
    },
    {
      "cell_type": "code",
      "execution_count": null,
      "id": "36dc5042",
      "metadata": {
        "id": "36dc5042",
        "outputId": "46990094-068c-4e39-ebaa-7dc42b14fad5"
      },
      "outputs": [
        {
          "name": "stdout",
          "output_type": "stream",
          "text": [
            "Leave me alone\n",
            "I'm coding\n"
          ]
        }
      ],
      "source": [
        "# 1.1.3\n",
        "# что выведет этот код?\n",
        "\n",
        "a = 'Leave me alone'\n",
        "b = \"I'm coding\"\n",
        "\n",
        "print(a)\n",
        "print(b)"
      ]
    },
    {
      "cell_type": "code",
      "execution_count": null,
      "id": "da7fb60d",
      "metadata": {
        "id": "da7fb60d",
        "outputId": "6f8f7b3f-8a7a-48d7-cfd2-f490da6ed55b"
      },
      "outputs": [
        {
          "ename": "SyntaxError",
          "evalue": "invalid syntax. Perhaps you forgot a comma? (1600715487.py, line 8)",
          "output_type": "error",
          "traceback": [
            "\u001b[1;36m  Cell \u001b[1;32mIn[27], line 8\u001b[1;36m\u001b[0m\n\u001b[1;33m    print(a b c)\u001b[0m\n\u001b[1;37m          ^\u001b[0m\n\u001b[1;31mSyntaxError\u001b[0m\u001b[1;31m:\u001b[0m invalid syntax. Perhaps you forgot a comma?\n"
          ]
        }
      ],
      "source": [
        "# 1.1.4\n",
        "# что выведет этот код?\n",
        "\n",
        "a = '10'\n",
        "b = '20'\n",
        "c = '30'\n",
        "\n",
        "print(a b c)"
      ]
    },
    {
      "cell_type": "markdown",
      "id": "4807a8f0",
      "metadata": {
        "id": "4807a8f0"
      },
      "source": [
        "#### Задание 1.1.5\n",
        "\n",
        "На вход программе подаётся строка текста – имя человека. Напишите программу, которая принимает эту строку текста через стандартный поток ввода (команда input()). Далее программа должна выводить на экран приветствие в следующем формате:\n",
        "\n",
        "Привет, <имя человека> <br>\n",
        "где <имя человека> – строка текста, которую ваша программа приняла на вход.\n",
        "\n",
        "-------------------\n",
        "##### Примеры:\n",
        "\n",
        "**Ввод**:\n",
        "Тимур <br>\n",
        "**Вывод**:\n",
        "Привет, Тимур\n",
        "\n",
        "--------\n",
        "\n",
        "**Ввод**:\n",
        "Гвидо <br>\n",
        "**Вывод**:\n",
        "Привет, Гвидо"
      ]
    },
    {
      "cell_type": "code",
      "execution_count": null,
      "id": "88ba3276",
      "metadata": {
        "id": "88ba3276",
        "outputId": "fa033eb4-7624-41f5-a4ca-14edc6390cfa"
      },
      "outputs": [
        {
          "name": "stdout",
          "output_type": "stream",
          "text": [
            "Тимур\n",
            "Привет, Тимур\n"
          ]
        }
      ],
      "source": [
        "# 1.1.5\n",
        "# место для кода\n",
        "name = input()\n",
        "print(\"Привет,\", name)"
      ]
    },
    {
      "cell_type": "markdown",
      "id": "58099913",
      "metadata": {
        "id": "58099913"
      },
      "source": [
        "  #### Задание 1.1.6\n",
        "\n",
        "На вход программе подается строка текста – название футбольной команды. Напишите программу, которая принимает через стандартный поток ввода (команда input()) эту строку и печатает предложение в следующем формате:\n",
        "\n",
        "<название футбольной команды> - чемпион!\n",
        "где <название футбольной команды> – строка текста, которую ваша программа приняла на вход.\n",
        "\n",
        "-------------------\n",
        "\n",
        "##### Примеры:\n",
        "\n",
        "**Ввод**:\n",
        "Барселона <br>\n",
        "**Вывод**:\n",
        "Барселона - чемпион!\n",
        "\n",
        "--------\n",
        "\n",
        "**Ввод**:\n",
        "Ливерпуль <br>\n",
        "**Вывод**:\n",
        "Ливерпуль - чемпион!"
      ]
    },
    {
      "cell_type": "code",
      "execution_count": null,
      "id": "4f5e727a",
      "metadata": {
        "id": "4f5e727a"
      },
      "outputs": [],
      "source": [
        "# 1.1.6\n",
        "# место для кода"
      ]
    },
    {
      "cell_type": "markdown",
      "id": "a01ffb98",
      "metadata": {
        "id": "a01ffb98"
      },
      "source": [
        "#### Задание 1.1.7\n",
        "\n",
        "Напишите программу, которая принимает через стандартный поток ввода (команда input()) три строки, а затем выводит их в той же последовательности, каждую на отдельной строке.\n",
        "\n",
        "-------------------\n",
        "\n",
        "##### Примеры:\n",
        "\n",
        "**Ввод**: \\\n",
        "I was\\\n",
        "born\\\n",
        "this way\n",
        "\n",
        "**Вывод**:\\\n",
        "I was\\\n",
        "born\\\n",
        "this way\n",
        "\n",
        "--------\n",
        "\n",
        "**Ввод**: \\\n",
        "I love\\\n",
        "Python\\\n",
        "so much\n",
        "\n",
        "**Вывод**:\\\n",
        "I love\\\n",
        "Python\\\n",
        "so much"
      ]
    },
    {
      "cell_type": "code",
      "execution_count": null,
      "id": "5ceab486",
      "metadata": {
        "id": "5ceab486"
      },
      "outputs": [],
      "source": [
        "# 1.1.7\n",
        "# место для кода"
      ]
    },
    {
      "cell_type": "markdown",
      "id": "1662079d",
      "metadata": {
        "id": "1662079d"
      },
      "source": [
        "#### Задание 1.1.8\n",
        "\n",
        "Напишите программу, которая принимает через стандартный поток ввода (команда input()) три строки, а затем выводит их в **обратной** последовательности, каждую на отдельной строчке.\n",
        "\n",
        "-------------------\n",
        "\n",
        "##### Примеры:\n",
        "\n",
        "**Ввод**: \\\n",
        "I was\\\n",
        "born\\\n",
        "this way\n",
        "\n",
        "**Вывод**:\\\n",
        "this way\\\n",
        "born\\\n",
        "I was\n",
        "\n",
        "--------\n",
        "\n",
        "**Ввод**: \\\n",
        "I love\\\n",
        "Python\\\n",
        "so much\n",
        "\n",
        "**Вывод**:\\\n",
        "so much\\\n",
        "Python\\\n",
        "I love"
      ]
    },
    {
      "cell_type": "code",
      "execution_count": null,
      "id": "db38c771",
      "metadata": {
        "id": "db38c771"
      },
      "outputs": [],
      "source": [
        "# 1.1.8\n",
        "# место для кода"
      ]
    },
    {
      "cell_type": "markdown",
      "id": "cc223ebf",
      "metadata": {
        "id": "cc223ebf"
      },
      "source": [
        "#### Задание 1.1.9\n",
        "\n",
        "Напишите программу вывода на экран трех последовательно идущих чисел, каждое на отдельной строке. Первое число вводит пользователь, остальные числа вы должны сами вычислять в программе.\n",
        "\n",
        "-------------------\n",
        "\n",
        "##### Примеры:\n",
        "\n",
        "**Ввод**: \\\n",
        "8\n",
        "\n",
        "**Вывод**:\\\n",
        "8\\\n",
        "9\\\n",
        "10\n",
        "\n",
        "--------\n",
        "\n",
        "**Ввод**: \\\n",
        "-341\n",
        "\n",
        "**Вывод**:\\\n",
        "-341\\\n",
        "-340\\\n",
        "-339"
      ]
    },
    {
      "cell_type": "code",
      "execution_count": null,
      "id": "c8cf3e05",
      "metadata": {
        "id": "c8cf3e05"
      },
      "outputs": [],
      "source": [
        "# 1.1.9\n",
        "# место для кода"
      ]
    },
    {
      "cell_type": "markdown",
      "id": "201a67a2",
      "metadata": {
        "id": "201a67a2"
      },
      "source": [
        "#### Задание 1.1.10\n",
        "\n",
        "Напишите программу, которая считывает три целых числа и выводит на экран их сумму. Числа записаны в одну строку\n",
        "\n",
        "-------------------\n",
        "\n",
        "##### Примеры:\n",
        "\n",
        "**Ввод**: \\\n",
        "1 1 1\n",
        "\n",
        "**Вывод**:\\\n",
        "3\n",
        "\n",
        "--------\n",
        "\n",
        "**Ввод**: \\\n",
        "7 3 -1\n",
        "\n",
        "**Вывод**:\\\n",
        "9"
      ]
    },
    {
      "cell_type": "code",
      "execution_count": null,
      "id": "5e24110c",
      "metadata": {
        "id": "5e24110c"
      },
      "outputs": [],
      "source": [
        "# 1.1.10\n",
        "# место для кода"
      ]
    },
    {
      "cell_type": "markdown",
      "id": "cf92fad0",
      "metadata": {
        "id": "cf92fad0"
      },
      "source": [
        "#### Задание 1.1.11\n",
        "\n",
        "Напишите программу, которая считывает целое число и выводит для него на экран следующее и предыдущее целые числа в следующем формате:\n",
        "\n",
        ">Следующее за числом <текущее число> число: <следующее число>\\\n",
        "Для числа <текущее число> предыдущее число: <предыдущее число>\n",
        "\n",
        "-------------------\n",
        "\n",
        "##### Примеры:\n",
        "\n",
        "**Ввод**: \\\n",
        "0\n",
        "\n",
        "**Вывод**:\\\n",
        "Следующее за числом 0 число: 1\\\n",
        "Для числа 0 предыдущее число: -1\n",
        "\n",
        "--------\n",
        "\n",
        "**Ввод**: \\\n",
        "20\n",
        "\n",
        "**Вывод**:\\\n",
        "Следующее за числом 20 число: 21\\\n",
        "Для числа 20 предыдущее число: 19"
      ]
    },
    {
      "cell_type": "code",
      "execution_count": null,
      "id": "3a48e3bd",
      "metadata": {
        "id": "3a48e3bd"
      },
      "outputs": [],
      "source": [
        "# 1.1.11\n",
        "# место для кода"
      ]
    },
    {
      "cell_type": "markdown",
      "id": "9aa836cf",
      "metadata": {
        "id": "9aa836cf"
      },
      "source": [
        "# Проверка условий"
      ]
    },
    {
      "cell_type": "code",
      "execution_count": null,
      "id": "93b0108d",
      "metadata": {
        "id": "93b0108d",
        "outputId": "1177a92a-80aa-4715-b7ea-5233d61463c6"
      },
      "outputs": [
        {
          "name": "stdout",
          "output_type": "stream",
          "text": [
            "Сколько вам лет? -4\n",
            "Вы учитесь\n"
          ]
        }
      ],
      "source": [
        "year = int(input(\"Сколько вам лет? \"))\n",
        "\n",
        "if year >= 60:               # сначала проверяет это условие\n",
        "    print(\"Вы на пенсии!\")\n",
        "elif 18 <= year:             # если первое условие неверно, проверяет это\n",
        "    print(\"Вы работаете\")\n",
        "else:                        # если все условия неверны, выполняет это\n",
        "    print(\"Вы учитесь\")"
      ]
    },
    {
      "cell_type": "markdown",
      "id": "94578b1f",
      "metadata": {
        "id": "94578b1f"
      },
      "source": [
        "Можно добавлять сколько угодно условий, каждое в свой elif, но выполнится только первое верное из них.\n",
        "\n",
        "elif и else — необязательные, так что их можно пропустить (тогда при невыполнении условия ничего не произойдёт)"
      ]
    },
    {
      "cell_type": "code",
      "execution_count": null,
      "id": "5b73b224",
      "metadata": {
        "id": "5b73b224",
        "outputId": "98cdcb12-3483-4437-ebe1-3f3f42d26b60"
      },
      "outputs": [
        {
          "name": "stdout",
          "output_type": "stream",
          "text": [
            "1 2\n"
          ]
        }
      ],
      "source": [
        "a, b = map(int, input().split())\n",
        "\n",
        "if a == b:                    # так обозначается проверка на равенство\n",
        "    print(\"Два числа равны\")"
      ]
    },
    {
      "cell_type": "markdown",
      "id": "3aa44854",
      "metadata": {
        "id": "3aa44854"
      },
      "source": [
        "### Логические операторы\n",
        "\n",
        "Разберём ещё одну задачу. Допустим, у нас есть человек, про которого нам известен пол и возраст. Они хранятся в переменных `is_male` (`True` — человек мужчина, `False` — женщина) и `age` (целое число) соответственно. Нам нужно проверить, является ли человек мужчиной старше 30 лет."
      ]
    },
    {
      "cell_type": "code",
      "execution_count": null,
      "id": "9ef34247",
      "metadata": {
        "id": "9ef34247",
        "outputId": "35cd8687-17dd-4e95-a884-afedf458d91b"
      },
      "outputs": [
        {
          "name": "stdout",
          "output_type": "stream",
          "text": [
            "Вы мужчина старше 30 лет\n"
          ]
        }
      ],
      "source": [
        "# сложный путь\n",
        "is_male = True\n",
        "age = 40\n",
        "\n",
        "if is_male:\n",
        "    if age > 30:\n",
        "        print(\"Вы мужчина старше 30 лет\")"
      ]
    },
    {
      "cell_type": "markdown",
      "id": "87b6724e",
      "metadata": {
        "id": "87b6724e"
      },
      "source": [
        "Но можно и проще! Здесь на помощь приходят логические операторы, которые помогают в этом. Всего их три: `and`, `or` и `not`.\n",
        "\n",
        "1. `and` (= И)\\\n",
        "    Например, (я мужчина) **И** (я старше 30 лет) => (is_male) **and** (age > 30)\n",
        "2. `or` (= ИЛИ)\\\n",
        "    Например, (я мужчина) **ИЛИ** (я старше 30 лет) => (is_male) **or** (age > 30)\n",
        "3. `not` (= НЕ)\\\n",
        "    Например, я **НЕ** мужчина => **not** (is_male)"
      ]
    },
    {
      "cell_type": "code",
      "execution_count": null,
      "id": "6f1a32d2",
      "metadata": {
        "id": "6f1a32d2",
        "outputId": "08b2576b-c234-460b-b25a-4d9c595bb862"
      },
      "outputs": [
        {
          "name": "stdout",
          "output_type": "stream",
          "text": [
            "Вы мужчина старше 30 лет\n"
          ]
        }
      ],
      "source": [
        "# напишем нашу задачу, используя логические операторы\n",
        "\n",
        "is_male = True\n",
        "age = 40\n",
        "\n",
        "if is_male and (age > 30):\n",
        "    print(\"Вы мужчина старше 30 лет\")"
      ]
    },
    {
      "cell_type": "markdown",
      "id": "45d285a1",
      "metadata": {
        "id": "45d285a1"
      },
      "source": [
        "### Задания 1.2"
      ]
    },
    {
      "cell_type": "code",
      "execution_count": null,
      "id": "05259ebf",
      "metadata": {
        "id": "05259ebf",
        "outputId": "e786a1ac-f1c2-42af-ea50-2c51e0310ca1"
      },
      "outputs": [
        {
          "name": "stdout",
          "output_type": "stream",
          "text": [
            "число 34 выиграло\n"
          ]
        }
      ],
      "source": [
        "# 1.2.1\n",
        "# что выведет этот код?\n",
        "\n",
        "num1 = 34\n",
        "num2 = 81\n",
        "if num1 // 9 == 0 or num2 % 9 == 0:\n",
        "    print('число', num1, 'выиграло')\n",
        "else:\n",
        "    print('число', num2, 'выиграло')"
      ]
    },
    {
      "cell_type": "code",
      "execution_count": null,
      "id": "f55f1be4",
      "metadata": {
        "id": "f55f1be4",
        "outputId": "fd60e8cc-ee3b-4cf2-e53d-422a31caf140"
      },
      "outputs": [
        {
          "name": "stdout",
          "output_type": "stream",
          "text": [
            "7\n",
            "100\n"
          ]
        }
      ],
      "source": [
        "# 1.2.2\n",
        "# что выведет этот код?\n",
        "\n",
        "a = int(input()) # <= 7\n",
        "\n",
        "if a >= 2 and a <= 17:\n",
        "    b = 3\n",
        "    p = a * a + b * b\n",
        "else:\n",
        "    b = 5\n",
        "\n",
        "p = (a + b) * (a + b)\n",
        "print(p)"
      ]
    },
    {
      "cell_type": "markdown",
      "id": "57a64dc0",
      "metadata": {
        "id": "57a64dc0"
      },
      "source": [
        "#### Задание 1.2.3\n",
        "\n",
        "При регистрации на сайтах требуется вводить пароль дважды. Это сделано для безопасности, поскольку такой подход уменьшает возможность неверного ввода пароля.\n",
        "\n",
        "Напишите программу, которая сравнивает пароль и его подтверждение. Если они совпадают, то программа выводит: «Пароль принят», иначе: «Пароль не принят».\n",
        "\n",
        "\n",
        "-------------------\n",
        "\n",
        "##### Примеры:\n",
        "\n",
        "**Ввод**: \\\n",
        "qwerty\\\n",
        "qwerty\n",
        "\n",
        "**Вывод**:\\\n",
        "Пароль принят\n",
        "\n",
        "--------\n",
        "\n",
        "**Ввод**: \\\n",
        "qwerty\\\n",
        "Qwerty\n",
        "\n",
        "\n",
        "**Вывод**:\\\n",
        "Пароль не принят"
      ]
    },
    {
      "cell_type": "code",
      "execution_count": null,
      "id": "20c77930",
      "metadata": {
        "id": "20c77930"
      },
      "outputs": [],
      "source": [
        "# 1.2.3\n",
        "# место для кода]]"
      ]
    },
    {
      "cell_type": "markdown",
      "id": "95540344",
      "metadata": {
        "id": "95540344"
      },
      "source": [
        "#### Задание 1.2.4\n",
        "\n",
        "Напишите программу, которая определяет, является число четным или нечетным.\n",
        "\n",
        "-------------------\n",
        "\n",
        "##### Примеры:\n",
        "\n",
        "**Ввод**: \\\n",
        "10\n",
        "\n",
        "**Вывод**:\\\n",
        "Четное\n",
        "\n",
        "--------\n",
        "\n",
        "**Ввод**: \\\n",
        "11\n",
        "\n",
        "\n",
        "**Вывод**:\\\n",
        "Нечетное"
      ]
    },
    {
      "cell_type": "code",
      "execution_count": null,
      "id": "92bb44d5",
      "metadata": {
        "id": "92bb44d5",
        "outputId": "70604ede-5e20-4d58-fca5-493f5da207cd"
      },
      "outputs": [
        {
          "name": "stdout",
          "output_type": "stream",
          "text": [
            "10\n",
            "Четное\n"
          ]
        }
      ],
      "source": [
        "# 1.2.4\n",
        "a = int(input())\n",
        "if a % 2 == 0:\n",
        "    print(\"Четное\")\n",
        "else:\n",
        "    print(\"Нечетное\")"
      ]
    },
    {
      "cell_type": "markdown",
      "id": "bfec9980",
      "metadata": {
        "id": "bfec9980"
      },
      "source": [
        "#### Задание 1.2.5\n",
        "\n",
        "Напишите программу, которая определяет, являются ли три заданных числа (в указанном порядке) последовательными членами арифметической прогрессии.\n",
        "\n",
        "\n",
        "-------------------\n",
        "\n",
        "##### Примеры:\n",
        "\n",
        "**Ввод**: \\\n",
        "1\\\n",
        "2\\\n",
        "3\n",
        "\n",
        "**Вывод**:\\\n",
        "YES\n",
        "\n",
        "--------\n",
        "\n",
        "**Ввод**: \\\n",
        "1\\\n",
        "2\\\n",
        "4\n",
        "\n",
        "**Вывод**:\\\n",
        "NO"
      ]
    },
    {
      "cell_type": "code",
      "execution_count": null,
      "id": "c2fcd963",
      "metadata": {
        "id": "c2fcd963"
      },
      "outputs": [],
      "source": [
        "# 1.2.5\n",
        "# c > b и b > a\n",
        "# при этом (c - b) = (b - a)"
      ]
    },
    {
      "cell_type": "markdown",
      "id": "9eb6bf4c",
      "metadata": {
        "id": "9eb6bf4c"
      },
      "source": [
        "#### Задание 1.2.6\n",
        "\n",
        "Напишите программу, которая считывает три числа и подсчитывает сумму только положительных чисел.\n",
        "\n",
        "-------------------\n",
        "\n",
        "##### Примеры:\n",
        "\n",
        "**Ввод**: \\\n",
        "4\\\n",
        "-22\\\n",
        "1\n",
        "\n",
        "**Вывод**:\\\n",
        "5\n",
        "\n",
        "--------\n",
        "\n",
        "**Ввод**: \\\n",
        "-1\\\n",
        "37\\\n",
        "62\n",
        "\n",
        "**Вывод**:\\\n",
        "99"
      ]
    },
    {
      "cell_type": "code",
      "execution_count": null,
      "id": "3e64c035",
      "metadata": {
        "id": "3e64c035"
      },
      "outputs": [],
      "source": [
        "# 1.2.6\n",
        "# место для кода"
      ]
    },
    {
      "cell_type": "markdown",
      "id": "f588e4b4",
      "metadata": {
        "id": "f588e4b4"
      },
      "source": [
        "#### Задание 1.2.7\n",
        "\n",
        "Напишите программу, которая принимает целое число x и определяет, принадлежит ли данное число указанным промежутку $x \\in (-\\infty;-3] \\cup (10;+\\infty)$.\n",
        "\n",
        "\n",
        "-------------------\n",
        "\n",
        "##### Примеры:\n",
        "\n",
        "**Ввод**: \\\n",
        "-100\n",
        "\n",
        "**Вывод**:\\\n",
        "YES\n",
        "\n",
        "--------\n",
        "\n",
        "**Ввод**: \\\n",
        "0\n",
        "\n",
        "**Вывод**:\\\n",
        "NO"
      ]
    },
    {
      "cell_type": "code",
      "execution_count": null,
      "id": "8d4d22c9",
      "metadata": {
        "id": "8d4d22c9"
      },
      "outputs": [],
      "source": [
        "# 1.2.7\n",
        "# либо x <= -3, либо x > 10"
      ]
    },
    {
      "cell_type": "markdown",
      "id": "62f32688",
      "metadata": {
        "id": "62f32688"
      },
      "source": [
        "## Цикл for\n",
        "\n",
        "Очень часто в программе приходится делать что-то несколько раз. Для этой цели существует цикл for."
      ]
    },
    {
      "cell_type": "code",
      "execution_count": null,
      "id": "1ff3385c",
      "metadata": {
        "id": "1ff3385c",
        "outputId": "35dc4b92-54a8-4d77-8706-445d58e5a540"
      },
      "outputs": [
        {
          "name": "stdout",
          "output_type": "stream",
          "text": [
            "i = 0\n",
            "i = 1\n",
            "i = 2\n"
          ]
        }
      ],
      "source": [
        "N = 3               # кол-во повторений\n",
        "for i in range(N):  # сам цикл\n",
        "    print(\"i =\", i) # i - переменная цикла (счётчик)"
      ]
    },
    {
      "cell_type": "code",
      "execution_count": null,
      "id": "f009cb74",
      "metadata": {
        "id": "f009cb74",
        "outputId": "5600b80d-695c-42f0-b023-0db72de1431f"
      },
      "outputs": [
        {
          "name": "stdout",
          "output_type": "stream",
          "text": [
            "i = 0\n",
            "  j = 0\n",
            "  j = 1\n",
            "  j = 2\n",
            "i = 1\n",
            "  j = 0\n",
            "  j = 1\n",
            "  j = 2\n"
          ]
        }
      ],
      "source": [
        "# можно делать даже вложенные циклы\n",
        "N = 2\n",
        "M = 3\n",
        "\n",
        "for i in range(N):\n",
        "    print(\"i =\", i)\n",
        "    for j in range(M):\n",
        "        print(\"  j =\", j)"
      ]
    },
    {
      "cell_type": "markdown",
      "id": "2e3178fe",
      "metadata": {
        "id": "2e3178fe"
      },
      "source": [
        "### break, continue\n",
        "\n",
        "Иногда мы хотим заранее выйти из цикла, либо пропустить один его шаг. В этом нам помогут операторы `break` (останавливает цикл) и `continue` (пропускает весь оставшийся код и переходит к новому шагу)."
      ]
    },
    {
      "cell_type": "code",
      "execution_count": null,
      "id": "2ed7dbe3",
      "metadata": {
        "id": "2ed7dbe3",
        "outputId": "5557a177-ddd8-4032-e609-b2c5f84b6d83"
      },
      "outputs": [
        {
          "name": "stdout",
          "output_type": "stream",
          "text": [
            "i = 1\n",
            "i = 3\n",
            "i = 5\n",
            "i = 7\n"
          ]
        }
      ],
      "source": [
        "for i in range(10):\n",
        "    if i % 2 == 0:   # пропускаем все шаги, где i четное\n",
        "        continue\n",
        "    if i ** 2 >= 81: # заканчиваем цикл, если квадрат i не меньше 81\n",
        "        break\n",
        "    print(\"i =\", i)"
      ]
    },
    {
      "cell_type": "markdown",
      "id": "24bc7ead",
      "metadata": {
        "id": "24bc7ead"
      },
      "source": [
        "### Продвинутый range\n",
        "\n",
        "Мы уже знаем, как работает `range(END)` — перебирает числа $\\in [0; END)$\n",
        "\n",
        "Однако существует ещё несколько способов задать `range`:\n",
        "1. `range(END)` перебирает числа $\\in [0; END)$\n",
        "2. `range(START, END)` перебирает числа $\\in [START; END)$\n",
        "3. `range(START, END, STEP)` перебирает числа $\\in [START; END)$, причём делает это с шагом `STEP`.\\\n",
        "    То есть, `range(1, 10, 2)` покажет числа [1, 3, 5, 7, 9]"
      ]
    },
    {
      "cell_type": "code",
      "execution_count": null,
      "id": "ac38a7fb",
      "metadata": {
        "id": "ac38a7fb",
        "outputId": "1a5e7987-3780-44e7-8925-53f61fcb0e2a"
      },
      "outputs": [
        {
          "name": "stdout",
          "output_type": "stream",
          "text": [
            "i = 10\n",
            "i = 12\n",
            "i = 14\n",
            "i = 16\n",
            "i = 18\n",
            "i = 20\n"
          ]
        }
      ],
      "source": [
        "# выведем все чётные числа на промежутке [10; 20]\n",
        "for i in range(10, 21, 2):\n",
        "    print(\"i =\", i)"
      ]
    },
    {
      "cell_type": "markdown",
      "id": "356d2bd7",
      "metadata": {
        "id": "356d2bd7"
      },
      "source": [
        "## Цикл while"
      ]
    },
    {
      "cell_type": "code",
      "execution_count": null,
      "id": "1f9fe19c",
      "metadata": {
        "id": "1f9fe19c",
        "outputId": "616e6ef3-6c98-4654-e662-63f6343dac46"
      },
      "outputs": [
        {
          "name": "stdout",
          "output_type": "stream",
          "text": [
            "10\n",
            "2\n",
            "0\n",
            "12\n"
          ]
        }
      ],
      "source": [
        "# Нужно найти сумму последовательности неизвестной длины (каждое число вводится\n",
        "# с новой строки). При этом последовательность обязательно кончается 0.\n",
        "\n",
        "s = 0\n",
        "a = int(input())\n",
        "\n",
        "while a != 0: # повторять пока a отлично от 0\n",
        "    s += a\n",
        "    a = int(input())\n",
        "print(s)"
      ]
    },
    {
      "cell_type": "markdown",
      "id": "3e1406c4",
      "metadata": {
        "id": "3e1406c4"
      },
      "source": [
        "### Задания 1.3"
      ]
    },
    {
      "cell_type": "markdown",
      "id": "64a6e97b",
      "metadata": {
        "id": "64a6e97b"
      },
      "source": [
        "#### Задание 1.3.1\n",
        "\n",
        "Напишите программу, которая выводит слова «Python is awesome!» (без кавычек) 10 раз."
      ]
    },
    {
      "cell_type": "code",
      "execution_count": null,
      "id": "27437352",
      "metadata": {
        "scrolled": true,
        "id": "27437352",
        "outputId": "8910599a-4850-47f0-9873-ac4ec4cd50d9"
      },
      "outputs": [
        {
          "name": "stdout",
          "output_type": "stream",
          "text": [
            "sdfsdfa\n",
            "sdfsdfa\n",
            "sdfsdfa\n",
            "sdfsdfa\n",
            "sdfsdfa\n",
            "sdfsdfa\n",
            "sdfsdfa\n",
            "sdfsdfa\n",
            "sdfsdfa\n",
            "sdfsdfa\n"
          ]
        }
      ],
      "source": [
        "# 1.3.1\n",
        "for i in range(10):\n",
        "    print(\"sdfsdfa\")"
      ]
    },
    {
      "cell_type": "markdown",
      "id": "ac4e9b5e",
      "metadata": {
        "id": "ac4e9b5e"
      },
      "source": [
        "#### Задание 1.3.2\n",
        "\n",
        "Дано предложение и количество раз, сколько его надо повторить. Напишите программу, которая повторяет данное предложение нужное количество раз.\n",
        "\n",
        "-------------------\n",
        "\n",
        "##### Примеры:\n",
        "\n",
        "**Ввод**: \\\n",
        "Век живи - век учись.\\\n",
        "3\n",
        "\n",
        "**Вывод**:\\\n",
        "Век живи - век учись.\\\n",
        "Век живи - век учись.\\\n",
        "Век живи - век учись.\n",
        "\n",
        "--------\n",
        "\n",
        "**Ввод**: \\\n",
        "Время - деньги!\\\n",
        "5\n",
        "\n",
        "**Вывод**:\\\n",
        "Время - деньги!\\\n",
        "Время - деньги!\\\n",
        "Время - деньги!\\\n",
        "Время - деньги!\\\n",
        "Время - деньги!"
      ]
    },
    {
      "cell_type": "code",
      "execution_count": null,
      "id": "9005bbde",
      "metadata": {
        "id": "9005bbde"
      },
      "outputs": [],
      "source": [
        "# 1.3.2\n",
        "# место для кода"
      ]
    },
    {
      "cell_type": "markdown",
      "id": "fd8e36db",
      "metadata": {
        "id": "fd8e36db"
      },
      "source": [
        "#### Задание 1.3.3\n",
        "\n",
        "На вход программе подаётся натуральное число n. Напишите программу, которая для каждого из чисел от 0 до n (включительно) выводит текст в следующем формате:\n",
        "\n",
        "> Квадрат числа <текущее число> равен <квадрат текущего числа>\n",
        "\n",
        "-------------------\n",
        "\n",
        "##### Примеры:\n",
        "\n",
        "**Ввод**: \\\n",
        "1\n",
        "\n",
        "**Вывод**:\\\n",
        "Квадрат числа 0 равен 0\\\n",
        "Квадрат числа 1 равен 1\n",
        "\n",
        "--------\n",
        "\n",
        "**Ввод**: \\\n",
        "2\n",
        "\n",
        "**Вывод**:\\\n",
        "Квадрат числа 0 равен 0\\\n",
        "Квадрат числа 1 равен 1\\\n",
        "Квадрат числа 2 равен 4"
      ]
    },
    {
      "cell_type": "code",
      "execution_count": null,
      "id": "ea90fb09",
      "metadata": {
        "id": "ea90fb09"
      },
      "outputs": [],
      "source": [
        "# 1.3.3\n",
        "# место для кода"
      ]
    },
    {
      "cell_type": "markdown",
      "id": "38fd4d5a",
      "metadata": {
        "id": "38fd4d5a"
      },
      "source": [
        "#### Задание 1.3.4\n",
        "\n",
        "Даны два целых числа m и n (m≤n). Напишите программу, которая выводит все целые числа от m до n включительно.\n",
        "\n",
        "##### Примеры:\n",
        "\n",
        "**Ввод**: \\\n",
        "1\\\n",
        "5\n",
        "\n",
        "**Вывод**:\\\n",
        "1\\\n",
        "2\\\n",
        "3\\\n",
        "4\\\n",
        "5"
      ]
    },
    {
      "cell_type": "code",
      "execution_count": null,
      "id": "11f45d99",
      "metadata": {
        "id": "11f45d99"
      },
      "outputs": [],
      "source": [
        "# 1.3.4\n",
        "# место для кода"
      ]
    },
    {
      "cell_type": "markdown",
      "id": "f7899c85",
      "metadata": {
        "id": "f7899c85"
      },
      "source": [
        "#### Задание 1.3.5\n",
        "\n",
        "Даны два целых числа m и n (m≤n). Напишите программу, которая выводит все целые числа от m до n включительно, удовлетворяющие хотя бы одному из условий:\n",
        "\n",
        "* число кратно 17\n",
        "* число оканчивается на 9\n",
        "* число кратно 3 и 5 одновременно\n",
        "\n",
        "##### Примеры:\n",
        "\n",
        "**Ввод**: \\\n",
        "1\\\n",
        "20\n",
        "\n",
        "**Вывод**:\\\n",
        "9\\\n",
        "15\\\n",
        "17\\\n",
        "19\n",
        "\n",
        "--------\n",
        "\n",
        "**Ввод**: \\\n",
        "17\\\n",
        "17\n",
        "\n",
        "**Вывод**:\\\n",
        "17"
      ]
    },
    {
      "cell_type": "code",
      "execution_count": null,
      "id": "8232ce40",
      "metadata": {
        "id": "8232ce40"
      },
      "outputs": [],
      "source": [
        "# 1.3.5\n",
        "# место для кода"
      ]
    },
    {
      "cell_type": "markdown",
      "id": "385eb926",
      "metadata": {
        "id": "385eb926"
      },
      "source": [
        "#### Задание 1.3.6\n",
        "\n",
        "На вход программе подаются два целых числа a и b (a≤b). Напишите программу, которая подсчитывает количество чисел в диапазоне от a до b (включительно), куб которых оканчивается на 4 или 9.\n",
        "\n",
        "\n",
        "##### Примеры:\n",
        "\n",
        "**Ввод**: \\\n",
        "1\\\n",
        "10\n",
        "\n",
        "**Вывод**:\\\n",
        "2\n",
        "\n",
        "--------\n",
        "\n",
        "**Ввод**: \\\n",
        "1\\\n",
        "100\n",
        "\n",
        "**Вывод**:\\\n",
        "20"
      ]
    },
    {
      "cell_type": "code",
      "execution_count": null,
      "id": "5884bf24",
      "metadata": {
        "id": "5884bf24"
      },
      "outputs": [],
      "source": [
        "# 1.3.6\n",
        "# место для кода"
      ]
    },
    {
      "cell_type": "markdown",
      "id": "c7a5b5dd",
      "metadata": {
        "id": "c7a5b5dd"
      },
      "source": [
        "#### Задание 1.3.7\n",
        "\n",
        "На вход программе подается натуральное число n. Напишите программу, которая вычисляет n! ($n! = 1 \\cdot 2 \\cdot 3 \\cdot ... \\cdot n$).\n",
        "\n",
        "##### Примеры:\n",
        "\n",
        "**Ввод**: \\\n",
        "3\n",
        "\n",
        "**Вывод**:\\\n",
        "6\n",
        "\n",
        "--------\n",
        "\n",
        "**Ввод**: \\\n",
        "2\n",
        "\n",
        "**Вывод**:\\\n",
        "2"
      ]
    },
    {
      "cell_type": "code",
      "execution_count": null,
      "id": "ae05ca75",
      "metadata": {
        "scrolled": true,
        "id": "ae05ca75",
        "outputId": "85961b17-3250-4cdd-b19e-334686ae10c7"
      },
      "outputs": [
        {
          "name": "stdout",
          "output_type": "stream",
          "text": [
            "3\n",
            "1\n",
            "2\n",
            "3\n",
            "6\n"
          ]
        }
      ],
      "source": [
        "# 1.3.7\n",
        "a = int(input())\n",
        "s = 1\n",
        "for i in range(1, a + 1):\n",
        "    s = s * i\n",
        "    print(i)\n",
        "print(s)"
      ]
    },
    {
      "cell_type": "markdown",
      "id": "98b8cc9e",
      "metadata": {
        "id": "98b8cc9e"
      },
      "source": [
        "#### Задание 1.3.8\n",
        "\n",
        "На вход программе подается последовательность слов, каждое слово на отдельной строке. Концом последовательности является одно из трех слов: «стоп», «хватит», «достаточно» (маленькими буквами, без кавычек). Сами эти слова в последовательность не входят, лишь символизируя её окончание. Напишите программу, которая выводит общее количество членов данной последовательности.\n",
        "\n",
        "##### Примеры:\n",
        "\n",
        "**Ввод**: \\\n",
        "Skyrim\\\n",
        "GTA\\\n",
        "Mafia\\\n",
        "стоп\\\n",
        "Battlefield\n",
        "\n",
        "**Вывод**:\\\n",
        "3\n",
        "\n",
        "--------\n",
        "\n",
        "**Ввод**: \\\n",
        "Yandex\\\n",
        "Google\\\n",
        "Opera\\\n",
        "Safari\\\n",
        "хватит\\\n",
        "Mozilla\n",
        "\n",
        "**Вывод**:\\\n",
        "4"
      ]
    },
    {
      "cell_type": "code",
      "execution_count": null,
      "id": "e7de6adc",
      "metadata": {
        "id": "e7de6adc"
      },
      "outputs": [],
      "source": [
        "# 1.3.8\n",
        "s = 0\n",
        "a = input()\n",
        "while a!=(\"стоп\", \"хватит\", \"достаточно\"):\n",
        "    s+=1\n",
        "    a=input()\n",
        "    print(s)"
      ]
    },
    {
      "cell_type": "markdown",
      "id": "199d9d17",
      "metadata": {
        "id": "199d9d17"
      },
      "source": [
        "#### Задание 1.3.9\n",
        "\n",
        "На вход программе подаются три натуральных числа m, p, n:\n",
        "\n",
        "* m: стартовое количество организмов;\n",
        "* p: среднесуточное увеличение в %;\n",
        "* n: количество дней для размножения.\n",
        "\n",
        "Напишите программу, которая предсказывает размер популяции организмов с 1-го по n-й день (включительно). Программа должна выводить номер дня, а затем через пробел размер популяции в этот день.\n",
        "\n",
        "----------------\n",
        "\n",
        "$ans_1 = m \\cdot (1+\\frac{p}{100})$\\\n",
        "...\\\n",
        "$ans_i = ans_{i-1} \\cdot (1+\\frac{p}{100})$\n",
        "\n",
        "-------------------\n",
        "\n",
        "##### Примеры:\n",
        "\n",
        "**Ввод**: \\\n",
        "10\\\n",
        "50\\\n",
        "6\n",
        "\n",
        "**Вывод**:\\\n",
        "1 10.0\\\n",
        "2 15.0\\\n",
        "3 22.5\\\n",
        "4 33.75\\\n",
        "5 50.625\\\n",
        "6 75.9375\n",
        "\n",
        "--------\n",
        "\n",
        "**Ввод**: \\\n",
        "120\\\n",
        "25\\\n",
        "4\n",
        "\n",
        "**Вывод**:\\\n",
        "1 120.0\\\n",
        "2 150.0\\\n",
        "3 187.5\\\n",
        "4 234.375"
      ]
    },
    {
      "cell_type": "code",
      "execution_count": null,
      "id": "7784f46b",
      "metadata": {
        "id": "7784f46b"
      },
      "outputs": [],
      "source": [
        "# 1.3.9\n",
        "# место для кода"
      ]
    },
    {
      "cell_type": "markdown",
      "id": "088722c3",
      "metadata": {
        "id": "088722c3"
      },
      "source": [
        "## Списки\n",
        "\n",
        "Списки — способ хранить несколько значений в одной переменной\n",
        "\n",
        "### Создание списков"
      ]
    },
    {
      "cell_type": "code",
      "execution_count": null,
      "id": "45771b0c",
      "metadata": {
        "id": "45771b0c",
        "outputId": "49753755-b450-4edb-93a1-e035b8b6b4a8"
      },
      "outputs": [
        {
          "name": "stdout",
          "output_type": "stream",
          "text": [
            "1 2 3 4 5\n",
            "1\n",
            "2\n",
            "3\n",
            "4\n",
            "5\n"
          ]
        }
      ],
      "source": [
        "N = 5                                # размер списка (он необязательный)\n",
        "\n",
        "a = [1, 2, 3, 4, 5]                  # создание списка\n",
        "a = list(map(int, input().split()))  # считывание списка с ввода (если в одной строке)\n",
        "a = [int(input()) for _ in range(N)] # считывание списка с ввода (если в нескольких строках)"
      ]
    },
    {
      "cell_type": "markdown",
      "id": "500d13d4",
      "metadata": {
        "id": "500d13d4"
      },
      "source": [
        "### Работа со списком\n",
        "\n",
        "Чтобы получить какой-то элемент списка нужно знать его номер. Номера присваиваются от 0."
      ]
    },
    {
      "cell_type": "code",
      "execution_count": null,
      "id": "e30e0558",
      "metadata": {
        "id": "e30e0558",
        "outputId": "98e852e8-9dcb-4ffd-dd9a-5a8274b34ebb"
      },
      "outputs": [
        {
          "name": "stdout",
          "output_type": "stream",
          "text": [
            "a[0] = 1\n",
            "a[1] = 2\n",
            "...\n",
            "a[4] = 5\n"
          ]
        }
      ],
      "source": [
        "print(\"a[0] =\", a[0]) # первый элемент списка\n",
        "print(\"a[1] =\", a[1]) # второй элемент списка\n",
        "print(\"...\")          # (и так далее)\n",
        "print(\"a[4] =\", a[4]) # последний (пятый) элемент списка"
      ]
    },
    {
      "cell_type": "code",
      "execution_count": null,
      "id": "b2deff32",
      "metadata": {
        "id": "b2deff32",
        "outputId": "0946669a-8464-400a-b1e5-9d959fe7075a"
      },
      "outputs": [
        {
          "data": {
            "text/plain": [
              "5"
            ]
          },
          "execution_count": 3,
          "metadata": {},
          "output_type": "execute_result"
        }
      ],
      "source": [
        "len(a) # длина списка"
      ]
    },
    {
      "cell_type": "code",
      "execution_count": null,
      "id": "5e2fb509",
      "metadata": {
        "id": "5e2fb509",
        "outputId": "9cfd761e-2867-4b23-d4a8-3fc4bf2b45d6"
      },
      "outputs": [
        {
          "data": {
            "text/plain": [
              "15"
            ]
          },
          "execution_count": 4,
          "metadata": {},
          "output_type": "execute_result"
        }
      ],
      "source": [
        "sum(a) # сумма чисел в списке"
      ]
    },
    {
      "cell_type": "code",
      "execution_count": null,
      "id": "1037bf2f",
      "metadata": {
        "id": "1037bf2f",
        "outputId": "e7b54b9a-51a3-4001-e780-3a226131334a"
      },
      "outputs": [
        {
          "data": {
            "text/plain": [
              "5"
            ]
          },
          "execution_count": 7,
          "metadata": {},
          "output_type": "execute_result"
        }
      ],
      "source": [
        "min(a), max(a) # минимальное и максимальное число в списке"
      ]
    },
    {
      "cell_type": "code",
      "execution_count": null,
      "id": "041301dc",
      "metadata": {
        "id": "041301dc",
        "outputId": "3170923c-ad90-4162-f3bb-f417b5ed8cbd"
      },
      "outputs": [
        {
          "name": "stdout",
          "output_type": "stream",
          "text": [
            "b = [1, 2, 3, 4]\n"
          ]
        }
      ],
      "source": [
        "b = [1, 2, 3]\n",
        "\n",
        "b.append(4) # добавляем 4 в конец списка\n",
        "\n",
        "print(\"b =\", b)"
      ]
    },
    {
      "cell_type": "code",
      "execution_count": null,
      "id": "ef74beaa",
      "metadata": {
        "id": "ef74beaa",
        "outputId": "b7e3bed3-71da-4752-8e99-0c564dde47d2"
      },
      "outputs": [
        {
          "data": {
            "text/plain": [
              "[2, 3, 4, 5]"
            ]
          },
          "execution_count": 12,
          "metadata": {},
          "output_type": "execute_result"
        }
      ],
      "source": [
        "# удалить элемент по индексу\n",
        "a = [1, 2, 3, 4, 5]\n",
        "a.pop(0)\n",
        "a"
      ]
    },
    {
      "cell_type": "markdown",
      "id": "a1ef1a95",
      "metadata": {
        "id": "a1ef1a95"
      },
      "source": [
        "### Отрицательная индексация\n",
        "\n",
        "Кроме прямой индексации (то есть 0, 1, 2..., len(a) - 1) есть также обратная индексация, которая позволяет обращаться к элементам в обратном порядке. Такая индексация начинается с -1 (-1, -2, ..., -len(a))."
      ]
    },
    {
      "cell_type": "code",
      "execution_count": null,
      "id": "2f0bc351",
      "metadata": {
        "id": "2f0bc351",
        "outputId": "055f005b-1ab5-49dd-b4f4-406909638b9d"
      },
      "outputs": [
        {
          "name": "stdout",
          "output_type": "stream",
          "text": [
            "a = [1, 2, 3, 4, 5]\n",
            "--------------------------------------------\n",
            "Прямая индексация\n",
            "a[0] = 1\n",
            "a[1] = 2\n",
            "...\n",
            "a[len(a) - 1] = 5\n",
            "--------------------------------------------\n",
            "Обратная индексация\n",
            "a[-1] = 5\n",
            "a[-2] = 4\n",
            "...\n",
            "a[-len(a)] = 1\n"
          ]
        }
      ],
      "source": [
        "a = [1, 2, 3, 4, 5]\n",
        "print(\"a =\", a)\n",
        "print(\"--------------------------------------------\")\n",
        "\n",
        "print(\"Прямая индексация\")\n",
        "print(\"a[0] =\", a[0])\n",
        "print(\"a[1] =\", a[1])\n",
        "print(\"...\")\n",
        "print(\"a[len(a) - 1] =\", a[len(a) - 1])\n",
        "\n",
        "print(\"--------------------------------------------\")\n",
        "\n",
        "print(\"Обратная индексация\")\n",
        "print(\"a[-1] =\", a[-1])\n",
        "print(\"a[-2] =\", a[-2])\n",
        "print(\"...\")\n",
        "print(\"a[-len(a)] =\", a[-len(a)])"
      ]
    },
    {
      "cell_type": "markdown",
      "id": "55817f14",
      "metadata": {
        "id": "55817f14"
      },
      "source": [
        "### Сортировка\n",
        "\n",
        "Иногда нам нужно сортировать значения в списке по возрастанию (или убыванию)."
      ]
    },
    {
      "cell_type": "code",
      "execution_count": null,
      "id": "4a7de49e",
      "metadata": {
        "id": "4a7de49e",
        "outputId": "aefbb4d5-b171-4581-c4dd-e8cfd3ef6a0a"
      },
      "outputs": [
        {
          "data": {
            "text/plain": [
              "[1, 3, 4, 5]"
            ]
          },
          "execution_count": 14,
          "metadata": {},
          "output_type": "execute_result"
        }
      ],
      "source": [
        "# сортировка по возрастанию\n",
        "a = [5, 3, 4, 1]\n",
        "a = sorted(a)\n",
        "a"
      ]
    },
    {
      "cell_type": "code",
      "execution_count": null,
      "id": "b4f43c6b",
      "metadata": {
        "id": "b4f43c6b",
        "outputId": "7f3c36d2-9153-4f64-8764-fe7f9f788a15"
      },
      "outputs": [
        {
          "data": {
            "text/plain": [
              "[5, 4, 3, 1]"
            ]
          },
          "execution_count": 15,
          "metadata": {},
          "output_type": "execute_result"
        }
      ],
      "source": [
        "# сортировка по убыванию\n",
        "a = [5, 3, 4, 1]\n",
        "a = sorted(a, reverse=True)\n",
        "a"
      ]
    },
    {
      "cell_type": "markdown",
      "id": "1b79dd4a",
      "metadata": {
        "id": "1b79dd4a"
      },
      "source": [
        "### Задания 1.4"
      ]
    },
    {
      "cell_type": "markdown",
      "id": "93cffd4f",
      "metadata": {
        "id": "93cffd4f"
      },
      "source": [
        "#### Задание 1.4.1\n",
        "\n",
        "Найдите количество положительных элементов в данном списке.\n",
        "\n",
        "-------------------\n",
        "\n",
        "##### Примеры:\n",
        "\n",
        "**Ввод**: \\\n",
        "1 -2 3 -4 5\n",
        "\n",
        "**Вывод**:\\\n",
        "3"
      ]
    },
    {
      "cell_type": "code",
      "execution_count": null,
      "id": "9f2befab",
      "metadata": {
        "id": "9f2befab",
        "outputId": "bd8d0c25-e42d-4129-9266-aca1eb31f2cf"
      },
      "outputs": [
        {
          "name": "stdout",
          "output_type": "stream",
          "text": [
            "1 -2 3 -4 5\n",
            "3\n"
          ]
        }
      ],
      "source": [
        "# 1.4.1\n",
        "\n",
        "a = list(map(int, input().split()))\n",
        "n = len(a)\n",
        "\n",
        "res = 0 # переменная результата\n",
        "\n",
        "# для каждого элемента списка\n",
        "for i in range(len(a)):\n",
        "    if a[i] > 0:\n",
        "        res = res + 1\n",
        "\n",
        "print(res)"
      ]
    },
    {
      "cell_type": "markdown",
      "id": "8aef6de1",
      "metadata": {
        "id": "8aef6de1"
      },
      "source": [
        "#### Задание 1.4.2\n",
        "\n",
        "Выведите значение наименьшего из всех положительных элементов в списке. Известно, что в списке есть хотя бы один положительный элемент, а значения всех элементов списка по модулю не превосходят 1000.\n",
        "\n",
        "-------------------\n",
        "\n",
        "##### Примеры:\n",
        "\n",
        "**Ввод**: \\\n",
        "5 -4 3 -2 1\n",
        "\n",
        "**Вывод**:\\\n",
        "1"
      ]
    },
    {
      "cell_type": "code",
      "execution_count": null,
      "id": "fb58e5dc",
      "metadata": {
        "id": "fb58e5dc",
        "outputId": "af9d42da-90c1-4a3b-cc45-cb8bd156a566"
      },
      "outputs": [
        {
          "name": "stdout",
          "output_type": "stream",
          "text": [
            "4 44\n",
            "4\n"
          ]
        }
      ],
      "source": [
        "# 1.4.2\n",
        "a = list(map(int, input().split()))\n",
        "n = len(a)\n",
        "\n",
        "res = 10 ** 10\n",
        "\n",
        "for i in range(len(a)):\n",
        "    if a[i] > 0:\n",
        "        if a[i] < res:\n",
        "            res = a[i]\n",
        "\n",
        "print(res)"
      ]
    },
    {
      "cell_type": "markdown",
      "id": "3a982ccf",
      "metadata": {
        "id": "3a982ccf"
      },
      "source": [
        "#### Задание 1.4.3\n",
        "\n",
        "Выведите значение наименьшего нечетного элемента списка, а если в списке нет нечетных элементов - выведите число 0.\n",
        "\n",
        "##### Примеры\n",
        "\n",
        "Входные данные\\\n",
        "0 1 2 3 4\\\n",
        "Выходные данные\\\n",
        "1\n",
        "\n",
        "Входные данные\\\n",
        "2 4 6 8 10\\\n",
        "Выходные данные\\\n",
        "0"
      ]
    },
    {
      "cell_type": "code",
      "execution_count": null,
      "id": "c0ff920a",
      "metadata": {
        "id": "c0ff920a"
      },
      "outputs": [],
      "source": [
        "# 1.4.3\n",
        "# место для кода"
      ]
    },
    {
      "cell_type": "markdown",
      "id": "ab4470ba",
      "metadata": {
        "id": "ab4470ba"
      },
      "source": [
        "#### Задание 1.4.4\n",
        "\n",
        "Переставьте элементы данного списка в обратном порядке, затем выведите элементы полученного списка.\n",
        "\n",
        "Эта задача отличается от предыдущей тем, что вам нужно изменить значения элементов самого списка, поменяв местами A[0] c A[n-1], A[1] с A[n-2], а затем вывести элементы списка подряд.\n",
        "\n",
        "\n",
        "##### Примеры\n",
        "\n",
        "Входные данные\\\n",
        "1 2 3 4 5\\\n",
        "Выходные данные\\\n",
        "5 4 3 2 1"
      ]
    },
    {
      "cell_type": "code",
      "execution_count": null,
      "id": "81ed77ff",
      "metadata": {
        "id": "81ed77ff"
      },
      "outputs": [],
      "source": [
        "# 1.4.4\n",
        "# место для кода"
      ]
    },
    {
      "cell_type": "markdown",
      "id": "6d6c486b",
      "metadata": {
        "id": "6d6c486b"
      },
      "source": [
        "#### Задание 1.4.5\n",
        "\n",
        "Выведите элементы данного списка в обратном порядке, не изменяя сам список.\n",
        "\n",
        "\n",
        "##### Примеры\n",
        "\n",
        "Входные данные\\\n",
        "1 2 3 4 5\\\n",
        "Выходные данные\\\n",
        "5 4 3 2 1"
      ]
    },
    {
      "cell_type": "code",
      "execution_count": null,
      "id": "247bfa32",
      "metadata": {
        "id": "247bfa32"
      },
      "outputs": [],
      "source": [
        "# 1.4.5\n",
        "# место для кода"
      ]
    },
    {
      "cell_type": "markdown",
      "id": "2ce8767d",
      "metadata": {
        "id": "2ce8767d"
      },
      "source": [
        "#### Задание 1.4.6\n",
        "\n",
        "На вход программе подается последовательность чисел от 1 до 9, заканчивающаяся нулем. Всего будет введено не более 100000 чисел. Подсчитайте в этой последовательности количество единиц, количество двоек, количество троек и т.д. и выдайте результат. В выходных данных всегда должно быть 9 чисел.\n",
        "\n",
        "\n",
        "##### Примеры\n",
        "\n",
        "Входные данные\\\n",
        "1 1 4 1 5 8 6 3 5 1 0\\\n",
        "Выходные данные\\\n",
        "4 0 1 1 2 1 0 1 0  "
      ]
    },
    {
      "cell_type": "code",
      "execution_count": null,
      "id": "7fc639bf",
      "metadata": {
        "id": "7fc639bf"
      },
      "outputs": [],
      "source": [
        "# 1.4.6\n",
        "# место для кода"
      ]
    },
    {
      "cell_type": "markdown",
      "id": "15babe15",
      "metadata": {
        "id": "15babe15"
      },
      "source": [
        "#### Задание 1.4.7\n",
        "\n",
        "В массиве, заполненном произвольными целыми числами, найдите два числа, произведение которых максимально.\n",
        "\n",
        "На вход программе сначала подается значение n≤100000 — количество элементов в массиве. В следующей строке входных данных расположены сами элементы массива — целые числа, по модулю не превосходящие 30 000.\n",
        "\n",
        "Выдайте два искомых числа в порядке неубывания.\n",
        "\n",
        "\n",
        "##### Примеры\n",
        "\n",
        "Входные данные\\\n",
        "5\\\n",
        "4 3 5 2 5\\\n",
        "Выходные данные\\\n",
        "5 5\n",
        "\n",
        "Входные данные\\\n",
        "5\\\n",
        "-4 3 -5 2 5\\\n",
        "Выходные данные\\\n",
        "-5 -4"
      ]
    },
    {
      "cell_type": "code",
      "execution_count": null,
      "id": "3fed867a",
      "metadata": {
        "id": "3fed867a"
      },
      "outputs": [],
      "source": [
        "# 1.4.7\n",
        "# место для кода"
      ]
    },
    {
      "cell_type": "markdown",
      "source": [
        "## Tuple\n",
        "\n",
        "Tuple (или кортеж) работает также, как список, но он неизменяем."
      ],
      "metadata": {
        "id": "Y6-SnW58J2ha"
      },
      "id": "Y6-SnW58J2ha"
    },
    {
      "cell_type": "markdown",
      "source": [
        "# Неупорядоченные структуры"
      ],
      "metadata": {
        "id": "WaWeo6ADKccq"
      },
      "id": "WaWeo6ADKccq"
    },
    {
      "cell_type": "markdown",
      "source": [
        "## Set (множество)\n",
        "\n",
        "Эта структура хранит неупорядоченные неповторяющиеся значения"
      ],
      "metadata": {
        "id": "Ozi8vgppMBQo"
      },
      "id": "Ozi8vgppMBQo"
    },
    {
      "cell_type": "code",
      "source": [
        "# создание множества\n",
        "s = set()\n",
        "s.add(\"Михаил\")\n",
        "s.add(\"Виктория\")\n",
        "s.add(\"Анастасия\")\n",
        "\n",
        "print(s)"
      ],
      "metadata": {
        "id": "SK57sfZuJ5IN",
        "outputId": "5d83c300-a4b2-4f66-c016-6235d4bad936",
        "colab": {
          "base_uri": "https://localhost:8080/"
        }
      },
      "id": "SK57sfZuJ5IN",
      "execution_count": 1,
      "outputs": [
        {
          "output_type": "stream",
          "name": "stdout",
          "text": [
            "{'Виктория', 'Михаил', 'Анастасия'}\n"
          ]
        }
      ]
    },
    {
      "cell_type": "code",
      "source": [
        "s = {\"Самара\", \"Санкт-Петербург\", \"52\", \"52\"}\n",
        "print(s)"
      ],
      "metadata": {
        "id": "tqdJZrpgMuzE",
        "outputId": "b4a32740-5f44-4983-8846-703332fde5af",
        "colab": {
          "base_uri": "https://localhost:8080/"
        }
      },
      "id": "tqdJZrpgMuzE",
      "execution_count": 4,
      "outputs": [
        {
          "output_type": "stream",
          "name": "stdout",
          "text": [
            "{'Санкт-Петербург', '52', 'Самара'}\n"
          ]
        }
      ]
    },
    {
      "cell_type": "code",
      "source": [
        "s.remove(\"Самара\")\n",
        "print(s)"
      ],
      "metadata": {
        "id": "W5wtzIeEM7bi",
        "outputId": "e5c20e4c-4c01-402a-eab5-aed5f6c0c28a",
        "colab": {
          "base_uri": "https://localhost:8080/"
        }
      },
      "id": "W5wtzIeEM7bi",
      "execution_count": 5,
      "outputs": [
        {
          "output_type": "stream",
          "name": "stdout",
          "text": [
            "{'Санкт-Петербург', '52'}\n"
          ]
        }
      ]
    },
    {
      "cell_type": "code",
      "source": [
        "s1 = {1, 2, 3, 4, 5, 6, 7, 8, 9, 10}\n",
        "s2 = {2, 4, 8, 16, 32, 64, 128}\n",
        "\n",
        "print(f\"s1 & s2 = {s1 & s2}\")\n",
        "print(f\"s1 | s2 = {s1 | s2}\")\n",
        "print(f\"s1 - s2 = {s1 - s2}\")\n",
        "print(f\"s1.symmetric_difference(s2) = {s1.symmetric_difference(s2)}\")"
      ],
      "metadata": {
        "id": "fPPMPb8LNCEY",
        "outputId": "85448649-3acd-4388-9b9e-e0edd58c3cdd",
        "colab": {
          "base_uri": "https://localhost:8080/"
        }
      },
      "id": "fPPMPb8LNCEY",
      "execution_count": 10,
      "outputs": [
        {
          "output_type": "stream",
          "name": "stdout",
          "text": [
            "s1 & s2 = {8, 2, 4}\n",
            "s1 | s2 = {32, 1, 2, 3, 4, 5, 6, 7, 8, 9, 10, 64, 128, 16}\n",
            "s1 - s2 = {1, 3, 5, 6, 7, 9, 10}\n",
            "s1.symmetric_difference(s2) = {64, 128, 1, 3, 5, 6, 7, 9, 10, 16, 32}\n"
          ]
        }
      ]
    },
    {
      "cell_type": "code",
      "source": [
        "# есть ли 4 в s2\n",
        "4 in s2"
      ],
      "metadata": {
        "id": "NeXa8VQ6NhxO",
        "outputId": "830c034c-1dec-438d-de01-955e52caa271",
        "colab": {
          "base_uri": "https://localhost:8080/"
        }
      },
      "id": "NeXa8VQ6NhxO",
      "execution_count": 12,
      "outputs": [
        {
          "output_type": "execute_result",
          "data": {
            "text/plain": [
              "True"
            ]
          },
          "metadata": {},
          "execution_count": 12
        }
      ]
    },
    {
      "cell_type": "markdown",
      "source": [
        "## Dict (словарь)"
      ],
      "metadata": {
        "id": "V8dm6L3ONxO7"
      },
      "id": "V8dm6L3ONxO7"
    },
    {
      "cell_type": "code",
      "source": [
        "d = dict()\n",
        "d[\"Вова\"] = 4\n",
        "d[\"Гена\"] = 3\n",
        "d[\"Виолена\"] = 5\n",
        "print(d)"
      ],
      "metadata": {
        "id": "3VYvgG_CNt0V",
        "outputId": "f99af3e7-377d-4217-b4d6-7776b9625478",
        "colab": {
          "base_uri": "https://localhost:8080/"
        }
      },
      "id": "3VYvgG_CNt0V",
      "execution_count": 13,
      "outputs": [
        {
          "output_type": "stream",
          "name": "stdout",
          "text": [
            "{'Вова': 4, 'Гена': 3, 'Виолена': 5}\n"
          ]
        }
      ]
    },
    {
      "cell_type": "code",
      "source": [
        "d = {'Вова': 4, 'Гена': 3, 'Виолена': 5}"
      ],
      "metadata": {
        "id": "8IXlkg_hN8Qk"
      },
      "id": "8IXlkg_hN8Qk",
      "execution_count": 14,
      "outputs": []
    },
    {
      "cell_type": "code",
      "source": [
        "del d[\"Вова\"]\n",
        "print(d)"
      ],
      "metadata": {
        "id": "eKg4YjaEN_vu",
        "outputId": "56ad0f87-5a98-4f85-9c85-e3624c2067de",
        "colab": {
          "base_uri": "https://localhost:8080/"
        }
      },
      "id": "eKg4YjaEN_vu",
      "execution_count": 15,
      "outputs": [
        {
          "output_type": "stream",
          "name": "stdout",
          "text": [
            "{'Гена': 3, 'Виолена': 5}\n"
          ]
        }
      ]
    },
    {
      "cell_type": "code",
      "source": [
        "print(d.get(\"Гена\", 0))\n",
        "print(d.get(\"Боря\", 0))"
      ],
      "metadata": {
        "id": "WbNMUrmUOCOj",
        "outputId": "28730858-ae62-4a7a-e4cb-83182171753c",
        "colab": {
          "base_uri": "https://localhost:8080/"
        }
      },
      "id": "WbNMUrmUOCOj",
      "execution_count": 16,
      "outputs": [
        {
          "output_type": "stream",
          "name": "stdout",
          "text": [
            "3\n",
            "0\n"
          ]
        }
      ]
    },
    {
      "cell_type": "markdown",
      "source": [
        "# foreach-loop"
      ],
      "metadata": {
        "id": "kRYMK0LnO94K"
      },
      "id": "kRYMK0LnO94K"
    },
    {
      "cell_type": "code",
      "source": [
        "data = [1, 2, 3, 4]\n",
        "for x in data:\n",
        "    print(x, end=\" \")"
      ],
      "metadata": {
        "id": "Qsra_jZmObLJ",
        "outputId": "b3056c99-c4e6-4af8-e14a-5cc3429309af",
        "colab": {
          "base_uri": "https://localhost:8080/"
        }
      },
      "id": "Qsra_jZmObLJ",
      "execution_count": 19,
      "outputs": [
        {
          "output_type": "stream",
          "name": "stdout",
          "text": [
            "1 2 3 4 "
          ]
        }
      ]
    },
    {
      "cell_type": "code",
      "source": [
        "data = {1, 2, 3, 4}\n",
        "for x in data:\n",
        "    print(x, end=\" \")"
      ],
      "metadata": {
        "id": "HLrdcg96PEMT",
        "outputId": "cde36ffc-ee66-4f37-a930-000394b4eb7c",
        "colab": {
          "base_uri": "https://localhost:8080/"
        }
      },
      "id": "HLrdcg96PEMT",
      "execution_count": 20,
      "outputs": [
        {
          "output_type": "stream",
          "name": "stdout",
          "text": [
            "1 2 3 4 "
          ]
        }
      ]
    },
    {
      "cell_type": "code",
      "source": [
        "data = {1: 5, 2: 6, 3: 7, 4: 8}\n",
        "for x in data:\n",
        "    print(x, end=\" \")"
      ],
      "metadata": {
        "id": "GhPqgwioPKOB",
        "outputId": "750f3910-912c-4fe2-b1e5-ce37a881e139",
        "colab": {
          "base_uri": "https://localhost:8080/"
        }
      },
      "id": "GhPqgwioPKOB",
      "execution_count": 21,
      "outputs": [
        {
          "output_type": "stream",
          "name": "stdout",
          "text": [
            "1 2 3 4 "
          ]
        }
      ]
    },
    {
      "cell_type": "code",
      "source": [
        "data = {1: 5, 2: 6, 3: 7, 4: 8}\n",
        "for k, v in data.items():\n",
        "    print(f\"{k}: {v}\", end=\", \")"
      ],
      "metadata": {
        "id": "kDxW0Cw9PQdp",
        "outputId": "81791bb1-8c5a-4279-e364-c84471e05cc4",
        "colab": {
          "base_uri": "https://localhost:8080/"
        }
      },
      "id": "kDxW0Cw9PQdp",
      "execution_count": 23,
      "outputs": [
        {
          "output_type": "stream",
          "name": "stdout",
          "text": [
            "1: 5, 2: 6, 3: 7, 4: 8, "
          ]
        }
      ]
    },
    {
      "cell_type": "code",
      "source": [
        "data = [\"a\", \"b\", \"c\", \"d\"]\n",
        "for i, x in enumerate(data):\n",
        "    print(i, x)"
      ],
      "metadata": {
        "id": "L6byVi7iPYFJ",
        "outputId": "9a335efc-e712-4d68-ca8c-2cf70a0b9b06",
        "colab": {
          "base_uri": "https://localhost:8080/"
        }
      },
      "id": "L6byVi7iPYFJ",
      "execution_count": 25,
      "outputs": [
        {
          "output_type": "stream",
          "name": "stdout",
          "text": [
            "0 a\n",
            "1 b\n",
            "2 c\n",
            "3 d\n"
          ]
        }
      ]
    },
    {
      "cell_type": "markdown",
      "source": [
        "# Функции"
      ],
      "metadata": {
        "id": "uTc8Fk65Pxdk"
      },
      "id": "uTc8Fk65Pxdk"
    },
    {
      "cell_type": "code",
      "source": [
        "def func_name(argument1, argument2):\n",
        "    # делаем что-то\n",
        "    return # return_value"
      ],
      "metadata": {
        "id": "j_0bEbBXPkD6"
      },
      "id": "j_0bEbBXPkD6",
      "execution_count": 26,
      "outputs": []
    },
    {
      "cell_type": "code",
      "source": [
        "# count(string, char) возвращает кол-во char (именно символа) в string\n",
        "def count(string, char):\n",
        "    pass"
      ],
      "metadata": {
        "id": "gUurHBRrP9cO"
      },
      "id": "gUurHBRrP9cO",
      "execution_count": 27,
      "outputs": []
    },
    {
      "cell_type": "code",
      "source": [
        "# get_divisors(n) возвращает список (list) всех делителей числа n (включая 1 и n)\n",
        "def get_divisors(n):\n",
        "    pass"
      ],
      "metadata": {
        "id": "WtU9mtAwQI-i"
      },
      "id": "WtU9mtAwQI-i",
      "execution_count": 28,
      "outputs": []
    },
    {
      "cell_type": "code",
      "source": [],
      "metadata": {
        "id": "k0nUMw0eQlLM"
      },
      "id": "k0nUMw0eQlLM",
      "execution_count": null,
      "outputs": []
    }
  ],
  "metadata": {
    "celltoolbar": "Слайд-шоу",
    "kernelspec": {
      "display_name": "Python 3 (ipykernel)",
      "language": "python",
      "name": "python3"
    },
    "language_info": {
      "codemirror_mode": {
        "name": "ipython",
        "version": 3
      },
      "file_extension": ".py",
      "mimetype": "text/x-python",
      "name": "python",
      "nbconvert_exporter": "python",
      "pygments_lexer": "ipython3",
      "version": "3.11.5"
    },
    "rise": {
      "enable_chalkboard": true,
      "scroll": true
    },
    "colab": {
      "provenance": [],
      "toc_visible": true,
      "include_colab_link": true
    }
  },
  "nbformat": 4,
  "nbformat_minor": 5
}