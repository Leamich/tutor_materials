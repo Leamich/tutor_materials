{
 "cells": [
  {
   "cell_type": "markdown",
   "id": "9b0c72eb",
   "metadata": {
    "slideshow": {
     "slide_type": "slide"
    }
   },
   "source": [
    "# Задание 5. Системы счисления\n",
    "\n",
    "*Леонтьев Михаил, 2024*"
   ]
  },
  {
   "cell_type": "markdown",
   "id": "7023db18",
   "metadata": {},
   "source": [
    "## Теория\n",
    "\n",
    "Системы счисления, о которых мы будем говорить называются **позиционными**.\n",
    "\n",
    "У таких систем есть натуральное число $q (q > 1)$, которое называется **основание системы** и записывается в нижнем регистре. Например, $101_2 = 5_{10}$ (двоичная система счисления).\n",
    "\n",
    "В сущности, число в q-ичной системе счисления представляет собой коэффициенты для целых степеней числа q. К примеру, \n",
    "$$\n",
    "1204_5 = 1 \\cdot 5^3 + 2 \\cdot 5^2 + 0 \\cdot 5^1 + 4 \\cdot 5^0 = 125 + 100 + 0 + 4 = 229\n",
    "$$\n",
    "\n",
    "Перевод в q-ичную систему счисления осуществляется с помощью последовательного целочисленного деления с остатком. Допустим, переведём 243 в 4-ичную систему.\n",
    "\n",
    "![Пример перевода в 4-ичную систему счисления](https://u.foxford.ngcdn.ru/uploads/tinymce_file/file/133312/d59dbc53b72036ac.png)\n",
    "\n",
    "Получаем $3303_4$."
   ]
  },
  {
   "cell_type": "markdown",
   "id": "63184aa7",
   "metadata": {
    "slideshow": {
     "slide_type": "slide"
    }
   },
   "source": [
    "## Перевод из 10-ичной в любую (Python)"
   ]
  },
  {
   "cell_type": "code",
   "execution_count": 6,
   "id": "65daa5f3",
   "metadata": {},
   "outputs": [],
   "source": [
    "### ШАБЛОН 2.1 (перевод в q-ичную систему счисления, q <= 10)\n",
    "\n",
    "# n - число для перевода (целое, неотрицательное)\n",
    "# q - основание системы счисления (целое, 1 < q <= 10)\n",
    "def to_q(n, q):\n",
    "    if n == 0:               # если n == 0, возвращаем 0\n",
    "        return \"0\"\n",
    "    \n",
    "    res = \"\"                 # начинаем с пустой строки\n",
    "    \n",
    "    while n:                 # пока n != 0\n",
    "        res += str(n % q)    # к результату добавляем остаток (как в примере из теории)\n",
    "        n //= q              # делим нацело на q\n",
    "\n",
    "    return res[::-1]         # возвращаем перевёрнутое число"
   ]
  },
  {
   "cell_type": "code",
   "execution_count": 9,
   "id": "13ba2c2b",
   "metadata": {},
   "outputs": [
    {
     "data": {
      "text/plain": [
       "'121'"
      ]
     },
     "execution_count": 9,
     "metadata": {},
     "output_type": "execute_result"
    }
   ],
   "source": [
    "to_q(100, 9) # переводим 100 из 10-ичной в 9-ичную"
   ]
  },
  {
   "cell_type": "markdown",
   "id": "895151b4",
   "metadata": {
    "slideshow": {
     "slide_type": "slide"
    }
   },
   "source": [
    "## Перевод из q-ичной в 10-ичную (Python)"
   ]
  },
  {
   "cell_type": "code",
   "execution_count": 11,
   "id": "524a2570",
   "metadata": {},
   "outputs": [
    {
     "data": {
      "text/plain": [
       "100"
      ]
     },
     "execution_count": 11,
     "metadata": {},
     "output_type": "execute_result"
    }
   ],
   "source": [
    "n = 100\n",
    "n9 = to_q(n, 9)\n",
    "\n",
    "# функция int позволяет вторым аргументом указать систему счисления,\n",
    "# из которой нужно перевести\n",
    "int(n9, 9)"
   ]
  },
  {
   "cell_type": "markdown",
   "id": "01dea0f6",
   "metadata": {
    "slideshow": {
     "slide_type": "slide"
    }
   },
   "source": [
    "## Примеры"
   ]
  },
  {
   "cell_type": "markdown",
   "id": "108785ed",
   "metadata": {
    "slideshow": {
     "slide_type": "subslide"
    }
   },
   "source": [
    "### Пример 1\n",
    "![Пример 1](https://ucarecdn.com/1d4fdbe7-ef16-4fb2-af0c-f4add6163712/-/crop/828x154/192,166/-/preview/)"
   ]
  },
  {
   "cell_type": "code",
   "execution_count": 17,
   "id": "5a448afd",
   "metadata": {},
   "outputs": [
    {
     "name": "stdout",
     "output_type": "stream",
     "text": [
      "86\n",
      "90\n",
      "92\n",
      "96\n",
      "102\n",
      "106\n",
      "108\n",
      "114\n",
      "116\n"
     ]
    }
   ],
   "source": [
    "### ШАБЛОН 2.1\n",
    "def to_q(n, q):\n",
    "    if n == 0:               \n",
    "        return \"0\"\n",
    "    \n",
    "    res = \"\"                \n",
    "    \n",
    "    while n:                \n",
    "        res += str(n % q)   \n",
    "        n //= q             \n",
    "\n",
    "    return res[::-1]        \n",
    "### ШАБЛОН 2.1\n",
    "\n",
    "\n",
    "# для простоты занесём алгоритм из условия в функцию\n",
    "def f(N):\n",
    "    # строим двоичную запись числа (заметим, что R сейчас - строка)\n",
    "    R = to_q(N, 2)\n",
    "    \n",
    "    # находим сумму всех цифр двоичной записи R\n",
    "    s = 0\n",
    "    # т.к. R - строка, то мы можем найти её длину и обращаться по индексу\n",
    "    for i in range(len(R)): \n",
    "        s += int(R[i]) # для суммы нам нужно число, так что используем int\n",
    "    \n",
    "    # дописываем остаток от деления на 2 справа\n",
    "    # (переводим число s в строку с помощью str)\n",
    "    R = R + str(s % 2) \n",
    "    \n",
    "    # аналогично повторяем\n",
    "    s = 0\n",
    "    for i in range(len(R)):\n",
    "        s += int(R[i])\n",
    "    R = R + str(s % 2)\n",
    "    \n",
    "    return int(R, 2)\n",
    "\n",
    "\n",
    "# сказано, что N - натуральное\n",
    "for N in range(1, 30):\n",
    "    R = f(N)\n",
    "    if R > 83:   # выведем все подходящие R\n",
    "        print(R)"
   ]
  },
  {
   "attachments": {
    "image.png": {
     "image/png": "[encoded data removed]"
    }
   },
   "cell_type": "markdown",
   "id": "03968785",
   "metadata": {
    "slideshow": {
     "slide_type": "subslide"
    }
   },
   "source": [
    "### Пример 2\n",
    "\n",
    "![image.png](attachment:image.png)"
   ]
  },
  {
   "cell_type": "code",
   "execution_count": 23,
   "id": "129abe6b",
   "metadata": {},
   "outputs": [
    {
     "name": "stdout",
     "output_type": "stream",
     "text": [
      "1\n",
      "2\n",
      "3\n",
      "4\n",
      "5\n",
      "6\n",
      "7\n",
      "8\n",
      "9\n",
      "10\n",
      "11\n",
      "12\n",
      "13\n",
      "14\n",
      "15\n",
      "16\n",
      "17\n",
      "18\n",
      "19\n",
      "20\n",
      "21\n",
      "22\n",
      "23\n",
      "24\n",
      "25\n",
      "26\n",
      "27\n",
      "28\n",
      "29\n",
      "30\n",
      "31\n",
      "32\n"
     ]
    }
   ],
   "source": [
    "### ШАБЛОН 2.1\n",
    "def to_q(n, q):\n",
    "    if n == 0:               \n",
    "        return \"0\"\n",
    "    \n",
    "    res = \"\"                \n",
    "    \n",
    "    while n:                \n",
    "        res += str(n % q)   \n",
    "        n //= q             \n",
    "\n",
    "    return res[::-1]        \n",
    "### ШАБЛОН 2.1\n",
    "\n",
    "\n",
    "# для простоты занесём алгоритм из условия в функцию\n",
    "def f(N):\n",
    "    # строим двоичную запись числа (заметим, что R сейчас - строка)\n",
    "    R = to_q(N, 2)\n",
    "    \n",
    "    if N % 2 == 0:\n",
    "        R = R + \"00\"\n",
    "    else:\n",
    "        R = R + \"11\"\n",
    "    \n",
    "    return int(R, 2)\n",
    "\n",
    "# сказано, что N - натуральное\n",
    "for N in range(1, 100):\n",
    "    R = f(N)\n",
    "    if R < 134:   # выведем все подходящие N\n",
    "        print(N)"
   ]
  },
  {
   "attachments": {},
   "cell_type": "markdown",
   "id": "88ff38af",
   "metadata": {
    "slideshow": {
     "slide_type": "subslide"
    }
   },
   "source": [
    "### Пример 3\n",
    "\n",
    "Автомат обрабатывает натуральное число N по следующему алгоритму.\\\n",
    "1.  Строится троичная запись числа N.\\\n",
    "2.  В конец записи (справа) дописывается остаток от деления числа N на 3.\\\n",
    "3.  Результат переводится из троичной системы в десятичную и выводится на экран\\\n",
    "\n",
    "\n",
    "Пример. Дано число N  =  11. Алгоритм работает следующим образом.\\\n",
    "1.  Троичная запись числа N: 102.\\\n",
    "2.  Остаток от деления 11 на 3 равен 2, новая запись: 1022.\\\n",
    "3.  На экран выводится число 35.\n",
    "\n",
    "\n",
    "Какое наименьшее число, оканчивающееся на 7 может появиться на экране в результате работы автомата?"
   ]
  },
  {
   "cell_type": "code",
   "execution_count": 28,
   "id": "250ec28a",
   "metadata": {},
   "outputs": [
    {
     "name": "stdout",
     "output_type": "stream",
     "text": [
      "17\n",
      "27\n",
      "67\n",
      "107\n",
      "117\n",
      "157\n",
      "197\n",
      "207\n",
      "247\n",
      "287\n",
      "297\n"
     ]
    }
   ],
   "source": [
    "### ШАБЛОН 2.1\n",
    "def to_q(n, q):\n",
    "    if n == 0:               \n",
    "        return \"0\"\n",
    "    \n",
    "    res = \"\"                \n",
    "    \n",
    "    while n:                \n",
    "        res += str(n % q)   \n",
    "        n //= q             \n",
    "\n",
    "    return res[::-1]        \n",
    "### ШАБЛОН 2.1\n",
    "\n",
    "\n",
    "# для простоты занесём алгоритм из условия в функцию\n",
    "def f(N):\n",
    "    # строим третичную запись числа (заметим, что R сейчас - строка)\n",
    "    R = to_q(N, 3)\n",
    "    \n",
    "    R = R + str(N % 3)\n",
    "    \n",
    "    return int(R, 3)\n",
    "\n",
    "# сказано, что N - натуральное\n",
    "for N in range(1, 100):\n",
    "    R = f(N)\n",
    "    if R % 10 == 7:   # выведем все подходящие R\n",
    "        print(R)"
   ]
  },
  {
   "attachments": {},
   "cell_type": "markdown",
   "id": "39984b8e",
   "metadata": {
    "slideshow": {
     "slide_type": "subslide"
    }
   },
   "source": [
    "### Пример 4\n",
    "\n",
    "Автомат обрабатывает натуральное число N по следующему алгоритму.\n",
    "\n",
    "1.  Строится двоичная запись числа N.\\\n",
    "2.  В конец записи (справа) добавляется (дублируется) последняя цифра.\\\n",
    "3.  Результат переводится в десятичную систему и выводится на экран.\n",
    "\n",
    "Пример. Дано число N  =  13. Алгоритм работает следующим образом:\\\n",
    "1.  Двоичная запись числа N: 1101.\\\n",
    "2.  Дублируется последняя цифра, новая запись: 11011.\\\n",
    "3.  На экран выводится число 27.\n",
    "\n",
    "Какое наименьшее число, большее 105, может появиться на экране в результате работы автомата?"
   ]
  },
  {
   "cell_type": "code",
   "execution_count": 30,
   "id": "65a3e6ca",
   "metadata": {},
   "outputs": [
    {
     "name": "stdout",
     "output_type": "stream",
     "text": [
      "107\n",
      "108\n",
      "111\n",
      "112\n",
      "115\n",
      "116\n",
      "119\n",
      "120\n",
      "123\n",
      "124\n",
      "127\n",
      "128\n",
      "131\n",
      "132\n",
      "135\n",
      "136\n",
      "139\n",
      "140\n",
      "143\n",
      "144\n",
      "147\n",
      "148\n",
      "151\n",
      "152\n",
      "155\n",
      "156\n",
      "159\n",
      "160\n",
      "163\n",
      "164\n",
      "167\n",
      "168\n",
      "171\n",
      "172\n",
      "175\n",
      "176\n",
      "179\n",
      "180\n",
      "183\n",
      "184\n",
      "187\n",
      "188\n",
      "191\n",
      "192\n",
      "195\n",
      "196\n",
      "199\n"
     ]
    }
   ],
   "source": [
    "### ШАБЛОН 2.1\n",
    "def to_q(n, q):\n",
    "    if n == 0:               \n",
    "        return \"0\"\n",
    "    \n",
    "    res = \"\"                \n",
    "    \n",
    "    while n:                \n",
    "        res += str(n % q)   \n",
    "        n //= q             \n",
    "\n",
    "    return res[::-1]        \n",
    "### ШАБЛОН 2.1\n",
    "\n",
    "\n",
    "# для простоты занесём алгоритм из условия в функцию\n",
    "def f(N):\n",
    "    # строим двоичную запись числа (заметим, что R сейчас - строка)\n",
    "    R = to_q(N, 2)\n",
    "    \n",
    "    R = R + R[-1] # R[-1] - последний символ\n",
    "    \n",
    "    return int(R, 2)\n",
    "\n",
    "# сказано, что N - натуральное\n",
    "for N in range(1, 100):\n",
    "    R = f(N)\n",
    "    if R > 105:   # выведем все подходящие R\n",
    "        print(R)"
   ]
  },
  {
   "attachments": {},
   "cell_type": "markdown",
   "id": "3dc6763e",
   "metadata": {
    "slideshow": {
     "slide_type": "subslide"
    }
   },
   "source": [
    "### Пример 5\n",
    "\n",
    "Автомат обрабатывает натуральное число N > 1 по следующему алгоритму.\n",
    "\n",
    "1.  Строится двоичная запись числа N.\\\n",
    "2.  Последняя цифра двоичной записи удаляется.\\\n",
    "3.  Результат переводится в десятичную систему и выводится на экран.\n",
    "\n",
    "Пример. Дано число N  =  13. Алгоритм работает следующим образом.\\\n",
    "1.  Двоичная запись числа N: 1101.\\\n",
    "2.  Удаляется последняя цифра, новая запись: 110.\\\n",
    "3.  На экран выводится число 12.\n",
    "\n",
    "Какое наименьшее число нужно ввести в автомат, чтобы в результате получилось 35?"
   ]
  },
  {
   "cell_type": "code",
   "execution_count": 35,
   "id": "842e0458",
   "metadata": {},
   "outputs": [
    {
     "name": "stdout",
     "output_type": "stream",
     "text": [
      "70\n",
      "71\n"
     ]
    }
   ],
   "source": [
    "### ШАБЛОН 2.1\n",
    "def to_q(n, q):\n",
    "    if n == 0:               \n",
    "        return \"0\"\n",
    "    \n",
    "    res = \"\"                \n",
    "    \n",
    "    while n:                \n",
    "        res += str(n % q)   \n",
    "        n //= q             \n",
    "\n",
    "    return res[::-1]        \n",
    "### ШАБЛОН 2.1\n",
    "\n",
    "\n",
    "# для простоты занесём алгоритм из условия в функцию\n",
    "def f(N):\n",
    "    # строим двоичную запись числа (мы хотим, чтобы R было списком,\n",
    "    # поэтому используем list)\n",
    "    R = list(to_q(N, 2))\n",
    "    \n",
    "    R.pop(-1) # удаляем последний элемент\n",
    "    \n",
    "    R = \"\".join(R) # переводим R обратно в строку\n",
    "    \n",
    "    return int(R, 2)\n",
    "\n",
    "# сказано, что N > 1\n",
    "for N in range(2, 100):\n",
    "    R = f(N)\n",
    "    if R == 35:   # выведем все подходящие N\n",
    "        print(N)"
   ]
  }
 ],
 "metadata": {
  "celltoolbar": "Слайд-шоу",
  "kernelspec": {
   "display_name": "Python 3 (ipykernel)",
   "language": "python",
   "name": "python3"
  },
  "language_info": {
   "codemirror_mode": {
    "name": "ipython",
    "version": 3
   },
   "file_extension": ".py",
   "mimetype": "text/x-python",
   "name": "python",
   "nbconvert_exporter": "python",
   "pygments_lexer": "ipython3",
   "version": "3.11.5"
  },
  "rise": {
   "enable_chalkboard": true,
   "scroll": true
  }
 },
 "nbformat": 4,
 "nbformat_minor": 5
}
