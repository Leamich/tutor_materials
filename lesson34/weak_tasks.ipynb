{
  "cells": [
    {
      "cell_type": "markdown",
      "metadata": {
        "collapsed": false,
        "jupyter": {
          "outputs_hidden": false
        },
        "id": "i8nLhEFSNXOs"
      },
      "source": [
        "# Тонкие моменты ЕГЭ-2024\n",
        "\n",
        "*Леонтьев Михаил, 2025*"
      ]
    },
    {
      "cell_type": "markdown",
      "metadata": {
        "id": "pPXwyG4KNXOu"
      },
      "source": [
        "# Примеры"
      ]
    },
    {
      "cell_type": "markdown",
      "source": [
        "## Задание 14. пример 1\n",
        "\n",
        "Значение арифметического выражения\n",
        "$7^{170}+7^{100}-x$\n",
        "\n",
        "$x$ – целое положительное число, не превышающее 2030, записали в 7-ричной системе счисления. Определите наибольшее значение\n",
        "x, при котором в 7-ричной записи числа, являющегося значением данного арифметического выражения, содержится ровно 71 нуль.\n",
        "\n",
        "В ответе запишите число в десятичной системе счисления."
      ],
      "metadata": {
        "id": "ap-0m_8vP6Rp"
      }
    },
    {
      "cell_type": "code",
      "source": [
        "def to_q(n, q):\n",
        "    if n == 0:               # если n == 0, возвращаем 0\n",
        "        return \"0\"\n",
        "\n",
        "    res = \"\"                 # начинаем с пустой строки\n",
        "\n",
        "    while n > 0:             # пока n != 0\n",
        "        res += str(n % q)    # к результату добавляем остаток (как в примере из теории)\n",
        "        n //= q              # делим нацело на q\n",
        "\n",
        "    return res[::-1]         # возвращаем перевёрнутое число"
      ],
      "metadata": {
        "id": "cRwFD2E0QJIM"
      },
      "execution_count": 2,
      "outputs": []
    },
    {
      "cell_type": "code",
      "source": [
        "res = float(\"-inf\")\n",
        "A = 7 ** 170 + 7 ** 100\n",
        "for x in range(1, 2030 + 1):\n",
        "    n: int = A - x\n",
        "    n7: str = to_q(n, 7)\n",
        "\n",
        "    # print(n7)\n",
        "\n",
        "    if n7.count(\"0\") == 71:\n",
        "        res = x\n",
        "print(res)"
      ],
      "metadata": {
        "id": "QCJBpidKFIri",
        "outputId": "fc73f33c-7fda-4939-c526-ddea0f570557",
        "colab": {
          "base_uri": "https://localhost:8080/"
        }
      },
      "execution_count": 6,
      "outputs": [
        {
          "output_type": "stream",
          "name": "stdout",
          "text": [
            "2029\n"
          ]
        }
      ]
    },
    {
      "cell_type": "markdown",
      "source": [
        "## Задание 14. пример 2\n",
        "\n",
        "Значение арифметического выражения $3^{100} - x$, где х — целое положительное число, не превышающее 2030, записали в троичной системе счисления. Определите наибольшее значение х, при котором в троичной записи числа, являющегося значением данного арифметического выражения, содержится ровно пять нулей.\n",
        "\n",
        "В ответе запишите число в десятичной системе счисления."
      ],
      "metadata": {
        "id": "cvJ2_mg8SLfH"
      }
    },
    {
      "cell_type": "code",
      "source": [],
      "metadata": {
        "id": "-A-TVH30RnlZ"
      },
      "execution_count": null,
      "outputs": []
    }
  ],
  "metadata": {
    "kernelspec": {
      "display_name": "Python 3 (ipykernel)",
      "language": "python",
      "name": "python3"
    },
    "language_info": {
      "codemirror_mode": {
        "name": "ipython",
        "version": 3
      },
      "file_extension": ".py",
      "mimetype": "text/x-python",
      "name": "python",
      "nbconvert_exporter": "python",
      "pygments_lexer": "ipython3",
      "version": "3.12.4"
    },
    "colab": {
      "provenance": []
    }
  },
  "nbformat": 4,
  "nbformat_minor": 0
}