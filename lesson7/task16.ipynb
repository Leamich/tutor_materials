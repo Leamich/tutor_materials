{
 "cells": [
  {
   "cell_type": "markdown",
   "id": "26a3cbba",
   "metadata": {
    "slideshow": {
     "slide_type": "slide"
    }
   },
   "source": [
    "# Задание 16. Рекурсия\n",
    "\n",
    "*Леонтьев Михаил, 2024*"
   ]
  },
  {
   "cell_type": "markdown",
   "id": "b122b438",
   "metadata": {
    "slideshow": {
     "slide_type": "slide"
    }
   },
   "source": [
    "## Примеры"
   ]
  },
  {
   "cell_type": "markdown",
   "id": "914bdbb3",
   "metadata": {
    "slideshow": {
     "slide_type": "subslide"
    }
   },
   "source": [
    "### Пример 1\n",
    "\n",
    "Алгоритм вычисления функции F(n) задан следующими соотношениями:\n",
    "```\n",
    "              F(n) = 2 при n <= 1\n",
    "              F(n) = F(n–1) + F(n–2) + 2n + 4, если n > 1\n",
    "```\n",
    "Чему равно значение функции F(25)?"
   ]
  },
  {
   "cell_type": "code",
   "execution_count": 1,
   "id": "20538e52",
   "metadata": {},
   "outputs": [
    {
     "name": "stdout",
     "output_type": "stream",
     "text": [
      "1606706\n"
     ]
    }
   ],
   "source": [
    "# создаём массив для всех значений (от 0 до 25 включительно)\n",
    "F = [0] * 26\n",
    "\n",
    "for i in range(26):\n",
    "    if i <= 1:\n",
    "        F[i] = 2\n",
    "    else:\n",
    "        F[i] = F[i - 1] + F[i - 2] + 2 * i + 4\n",
    "\n",
    "print(F[25])"
   ]
  },
  {
   "cell_type": "markdown",
   "id": "efc986c9",
   "metadata": {
    "slideshow": {
     "slide_type": "subslide"
    }
   },
   "source": [
    "### Пример 2\n",
    "\n",
    "Алгоритм вычисления функции F(n) задан следующими соотношениями:\n",
    "```\n",
    "              F(n) = n при n > 15\n",
    "              F(n) = 2·F(n+1) + 5n + 2, если n <=15\n",
    "```\n",
    "Чему равно значение функции F(2)?"
   ]
  },
  {
   "cell_type": "code",
   "execution_count": 3,
   "id": "4632ae94",
   "metadata": {},
   "outputs": [
    {
     "name": "stdout",
     "output_type": "stream",
     "text": [
      "1441790\n"
     ]
    }
   ],
   "source": [
    "# создаём массив для всех значений (от 0 до 16 включительно)\n",
    "F = [0] * 17\n",
    "\n",
    "# рекурсия в обратную сторону, так что ставим шаг -1\n",
    "for i in range(16, 1, -1):\n",
    "    if i > 15:\n",
    "        F[i] = i\n",
    "    else:\n",
    "        F[i] = 2 * F[i + 1] + 5 * i + 2\n",
    "\n",
    "print(F[2])"
   ]
  },
  {
   "cell_type": "markdown",
   "id": "a1b061a5",
   "metadata": {
    "slideshow": {
     "slide_type": "subslide"
    }
   },
   "source": [
    "### Пример 3\n",
    "\n",
    "Алгоритм вычисления функции F(n) задан следующими соотношениями:\n",
    "```\n",
    "              F(n) = 1 при n = 1\n",
    "              F(n) = 2·F(n–1), если n чётно,\n",
    "              F(n) = 5n + F(n–2), если n нечётно.\n",
    "```\n",
    "Чему равно значение функции F(64)?"
   ]
  },
  {
   "cell_type": "code",
   "execution_count": 4,
   "id": "31585a25",
   "metadata": {},
   "outputs": [
    {
     "name": "stdout",
     "output_type": "stream",
     "text": [
      "10232\n"
     ]
    }
   ],
   "source": [
    "# создаём массив для всех значений (от 0 до 64 включительно)\n",
    "F = [0] * 65\n",
    "\n",
    "for i in range(1, 65):\n",
    "    if i == 1:\n",
    "        F[i] = 1\n",
    "    elif i % 2 == 0:\n",
    "        F[i] = 2 * F[i - 1]\n",
    "    else:\n",
    "        F[i] = 5 * i + F[i - 2]\n",
    "\n",
    "print(F[64])"
   ]
  },
  {
   "cell_type": "markdown",
   "id": "dc289c4c",
   "metadata": {
    "slideshow": {
     "slide_type": "subslide"
    }
   },
   "source": [
    "### Пример 4\n",
    "\n",
    "Алгоритм вычисления функций F(n) и G(n) задан следующими соотношениями:\n",
    "```\n",
    "              F(1) = G(1) = 1\n",
    "              F(n) = 2·F(n–1) + G(n–1) – 2, если n > 1\n",
    "              G(n) = F(n–1) +2·G(n–1), если n > 1\n",
    "```\n",
    "Чему равно значение F(14) + G(14)?"
   ]
  },
  {
   "cell_type": "code",
   "execution_count": 1,
   "id": "825514de",
   "metadata": {},
   "outputs": [
    {
     "name": "stdout",
     "output_type": "stream",
     "text": [
      "1594324\n"
     ]
    }
   ],
   "source": [
    "# создаём массив для всех значений (от 0 до 14 включительно)\n",
    "F = [0] * 15\n",
    "G = [0] * 15\n",
    "\n",
    "for i in range(1, 15):\n",
    "    if i == 1:\n",
    "        F[i] = 1\n",
    "        G[i] = 1\n",
    "    else:\n",
    "        F[i] = 2 * F[i - 1] + G[i - 1] - 2\n",
    "        G[i] = F[i - 1] + 2 * G[i - 1]\n",
    "\n",
    "print(F[14] + G[14])"
   ]
  },
  {
   "cell_type": "markdown",
   "id": "730eee77",
   "metadata": {
    "slideshow": {
     "slide_type": "subslide"
    }
   },
   "source": [
    "### Пример 5\n",
    "\n",
    "Алгоритм вычисления функции F(n) задан следующими соотношениями:\n",
    "```\n",
    "        F(n) = n при n ≤ 3;\n",
    "        F(n) = 2 · n  + F(n – 1)  при чётных n > 3;\n",
    "        F(n) = n · n  + F(n – 2)  при нечётных n > 3;\n",
    "```\n",
    "Определите количество натуральных значений n из отрезка [1; 100], при которых значение F(n) кратно 3."
   ]
  },
  {
   "cell_type": "code",
   "execution_count": 2,
   "id": "364f0a1f",
   "metadata": {},
   "outputs": [
    {
     "name": "stdout",
     "output_type": "stream",
     "text": [
      "32\n"
     ]
    }
   ],
   "source": [
    "# создаём массив для всех значений (от 0 до 100 включительно)\n",
    "F = [0] * 101\n",
    "\n",
    "for i in range(1, 101):\n",
    "    if i <= 3:\n",
    "        F[i] = i\n",
    "    elif i % 2 == 0:\n",
    "        F[i] = 2 * i + F[i - 1]\n",
    "    else:\n",
    "        F[i] = i * i + F[i - 2]\n",
    "\n",
    "res = 0\n",
    "for i in range(1, 101):\n",
    "    if F[i] % 3 == 0:\n",
    "        res += 1\n",
    "print(res)"
   ]
  }
 ],
 "metadata": {
  "celltoolbar": "Слайд-шоу",
  "kernelspec": {
   "display_name": "Python 3 (ipykernel)",
   "language": "python",
   "name": "python3"
  },
  "language_info": {
   "codemirror_mode": {
    "name": "ipython",
    "version": 3
   },
   "file_extension": ".py",
   "mimetype": "text/x-python",
   "name": "python",
   "nbconvert_exporter": "python",
   "pygments_lexer": "ipython3",
   "version": "3.11.5"
  },
  "rise": {
   "enable_chalkboard": true,
   "scroll": true
  }
 },
 "nbformat": 4,
 "nbformat_minor": 5
}
