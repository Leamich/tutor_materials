{
 "cells": [
  {
   "cell_type": "markdown",
   "id": "26a3cbba",
   "metadata": {
    "slideshow": {
     "slide_type": "slide"
    }
   },
   "source": [
    "# Задание 16. Рекурсия\n",
    "\n",
    "*Леонтьев Михаил, 2024*"
   ]
  },
  {
   "cell_type": "markdown",
   "id": "b122b438",
   "metadata": {
    "slideshow": {
     "slide_type": "slide"
    }
   },
   "source": [
    "## Примеры"
   ]
  },
  {
   "cell_type": "markdown",
   "id": "a5313377",
   "metadata": {
    "slideshow": {
     "slide_type": "subslide"
    }
   },
   "source": [
    "## Числа Фибоначчи"
   ]
  },
  {
   "cell_type": "code",
   "execution_count": 4,
   "id": "7ee4f195",
   "metadata": {},
   "outputs": [
    {
     "name": "stdout",
     "output_type": "stream",
     "text": [
      "55\n"
     ]
    }
   ],
   "source": [
    "def F(n):\n",
    "    if n == 1 or n == 2:\n",
    "        return 1\n",
    "    return F(n - 1) + F(n - 2)\n",
    "\n",
    "print(F(10))"
   ]
  },
  {
   "cell_type": "code",
   "execution_count": 6,
   "id": "b4bb8a2e",
   "metadata": {},
   "outputs": [
    {
     "name": "stdout",
     "output_type": "stream",
     "text": [
      "354224848179261915075\n"
     ]
    }
   ],
   "source": [
    "from functools import lru_cache\n",
    "\n",
    "@lru_cache(10 ** 9)\n",
    "def F(n):\n",
    "    if n == 1 or n == 2:\n",
    "        return 1\n",
    "    return F(n - 1) + F(n - 2)\n",
    "\n",
    "n = 100\n",
    "for i in range(n):\n",
    "    F(n)\n",
    "    \n",
    "print(F(100))"
   ]
  },
  {
   "cell_type": "code",
   "execution_count": 8,
   "id": "c38510e0",
   "metadata": {},
   "outputs": [
    {
     "name": "stdout",
     "output_type": "stream",
     "text": [
      "354224848179261915075\n"
     ]
    }
   ],
   "source": [
    "n = 100\n",
    "F = [1] * (n + 1)\n",
    "\n",
    "for i in range(3, n + 1):\n",
    "    F[i] = F[i - 1] + F[i - 2]\n",
    "\n",
    "print(F[n])"
   ]
  },
  {
   "cell_type": "markdown",
   "id": "914bdbb3",
   "metadata": {
    "slideshow": {
     "slide_type": "subslide"
    }
   },
   "source": [
    "### Пример 1\n",
    "\n",
    "Алгоритм вычисления функции F(n) задан следующими соотношениями:\n",
    "```\n",
    "              F(n) = 2 при n <= 1\n",
    "              F(n) = F(n–1) + F(n–2) + 2n + 4, если n > 1\n",
    "```\n",
    "Чему равно значение функции F(25)?"
   ]
  },
  {
   "cell_type": "code",
   "execution_count": 14,
   "id": "b1d0eda7",
   "metadata": {},
   "outputs": [
    {
     "name": "stdout",
     "output_type": "stream",
     "text": [
      "7586223824524328839152\n"
     ]
    }
   ],
   "source": [
    "from functools import lru_cache\n",
    "\n",
    "\n",
    "@lru_cache(10 ** 9)\n",
    "def F(n):\n",
    "    # пока без рекурсии\n",
    "    if n <= 1:\n",
    "        return 2\n",
    "    return F(n-1) + F(n-2) + 2*n + 4\n",
    "\n",
    "\n",
    "for n in range(100 + 1):\n",
    "    F(n)\n",
    "\n",
    "print(F(100))"
   ]
  },
  {
   "cell_type": "code",
   "execution_count": 10,
   "id": "20538e52",
   "metadata": {},
   "outputs": [
    {
     "name": "stdout",
     "output_type": "stream",
     "text": [
      "1606706\n"
     ]
    }
   ],
   "source": [
    "# создаём массив для всех значений (от 0 до 25 включительно)\n",
    "F = [0] * (25 + 1)\n",
    "\n",
    "for i in range(25 + 1):\n",
    "    if i <= 1:\n",
    "        F[i] = 2\n",
    "    else:\n",
    "        F[i] = F[i - 1] + F[i - 2] + 2 * i + 4\n",
    "\n",
    "print(F[25])"
   ]
  },
  {
   "cell_type": "markdown",
   "id": "efc986c9",
   "metadata": {
    "slideshow": {
     "slide_type": "subslide"
    }
   },
   "source": [
    "### Пример 2\n",
    "\n",
    "Алгоритм вычисления функции F(n) задан следующими соотношениями:\n",
    "```\n",
    "              F(n) = n при n > 15\n",
    "              F(n) = 2·F(n+1) + 5n + 2, если n <=15\n",
    "```\n",
    "Чему равно значение функции F(2)?"
   ]
  },
  {
   "cell_type": "code",
   "execution_count": 18,
   "id": "1044fd28",
   "metadata": {},
   "outputs": [
    {
     "name": "stdout",
     "output_type": "stream",
     "text": [
      "1441790\n"
     ]
    }
   ],
   "source": [
    "# установить лимит рекурсии\n",
    "import sys\n",
    "sys.setrecursionlimit(10 ** 9)\n",
    "\n",
    "def F(n):\n",
    "    if n > 15:\n",
    "        return n\n",
    "    return 2*F(n+1)+5*n+2\n",
    "print(F(2))"
   ]
  },
  {
   "cell_type": "code",
   "execution_count": 19,
   "id": "4632ae94",
   "metadata": {},
   "outputs": [
    {
     "name": "stdout",
     "output_type": "stream",
     "text": [
      "1441790\n"
     ]
    }
   ],
   "source": [
    "# создаём массив для всех значений (от 0 до 16 включительно)\n",
    "F = [0] * 17\n",
    "\n",
    "# рекурсия в обратную сторону, так что ставим шаг -1\n",
    "for i in range(16, 1, -1):\n",
    "    if i > 15:\n",
    "        F[i] = i\n",
    "    else:\n",
    "        F[i] = 2 * F[i + 1] + 5 * i + 2\n",
    "\n",
    "print(F[2])"
   ]
  },
  {
   "cell_type": "markdown",
   "id": "a1b061a5",
   "metadata": {
    "slideshow": {
     "slide_type": "subslide"
    }
   },
   "source": [
    "### Пример 3\n",
    "\n",
    "Алгоритм вычисления функции F(n) задан следующими соотношениями:\n",
    "```\n",
    "              F(n) = 1 при n = 1\n",
    "              F(n) = 2·F(n–1), если n чётно,\n",
    "              F(n) = 5n + F(n–2), если n нечётно.\n",
    "```\n",
    "Чему равно значение функции F(64)?"
   ]
  },
  {
   "cell_type": "code",
   "execution_count": 27,
   "id": "9db0cb46",
   "metadata": {},
   "outputs": [
    {
     "name": "stdout",
     "output_type": "stream",
     "text": [
      "249999999999992\n"
     ]
    }
   ],
   "source": [
    "def F(n):\n",
    "    if n == 1:\n",
    "        return 1\n",
    "    \n",
    "    if n % 2 == 0:\n",
    "        return 2 * F(n - 1)\n",
    "    \n",
    "    return 5 * n + F(n - 2)\n",
    "\n",
    "print(F(10_000_000))"
   ]
  },
  {
   "cell_type": "code",
   "execution_count": 29,
   "id": "31585a25",
   "metadata": {},
   "outputs": [
    {
     "name": "stdout",
     "output_type": "stream",
     "text": [
      "10232\n"
     ]
    }
   ],
   "source": [
    "# создаём массив для всех значений (от 0 до 64 включительно)\n",
    "F = [0] * 65\n",
    "\n",
    "for i in range(1, 65):\n",
    "    if i == 1:\n",
    "        F[i] = 1\n",
    "    elif i % 2 == 0:\n",
    "        F[i] = 2 * F[i - 1]\n",
    "    else:\n",
    "        F[i] = 5 * i + F[i - 2]\n",
    "\n",
    "print(F[64])"
   ]
  },
  {
   "cell_type": "markdown",
   "id": "dc289c4c",
   "metadata": {
    "slideshow": {
     "slide_type": "subslide"
    }
   },
   "source": [
    "### Пример 4\n",
    "\n",
    "Алгоритм вычисления функций F(n) и G(n) задан следующими соотношениями:\n",
    "```\n",
    "              F(1) = G(1) = 1\n",
    "              F(n) = 2·F(n–1) + G(n–1) – 2, если n > 1\n",
    "              G(n) = F(n–1) +2·G(n–1), если n > 1\n",
    "```\n",
    "Чему равно значение F(14) + G(14)?"
   ]
  },
  {
   "cell_type": "code",
   "execution_count": 1,
   "id": "825514de",
   "metadata": {},
   "outputs": [
    {
     "name": "stdout",
     "output_type": "stream",
     "text": [
      "1594324\n"
     ]
    }
   ],
   "source": [
    "# создаём массив для всех значений (от 0 до 14 включительно)\n",
    "F = [0] * 15\n",
    "G = [0] * 15\n",
    "\n",
    "for i in range(1, 15):\n",
    "    if i == 1:\n",
    "        F[i] = 1\n",
    "        G[i] = 1\n",
    "    else:\n",
    "        F[i] = 2 * F[i - 1] + G[i - 1] - 2\n",
    "        G[i] = F[i - 1] + 2 * G[i - 1]\n",
    "\n",
    "print(F[14] + G[14])"
   ]
  },
  {
   "cell_type": "markdown",
   "id": "730eee77",
   "metadata": {
    "slideshow": {
     "slide_type": "subslide"
    }
   },
   "source": [
    "### Пример 5\n",
    "\n",
    "Алгоритм вычисления функции F(n) задан следующими соотношениями:\n",
    "```\n",
    "        F(n) = n при n ≤ 3;\n",
    "        F(n) = 2 · n  + F(n – 1)  при чётных n > 3;\n",
    "        F(n) = n · n  + F(n – 2)  при нечётных n > 3;\n",
    "```\n",
    "Определите количество натуральных значений n из отрезка [1; 100], при которых значение F(n) кратно 3."
   ]
  },
  {
   "cell_type": "code",
   "execution_count": 32,
   "id": "cb6299b3",
   "metadata": {},
   "outputs": [
    {
     "name": "stdout",
     "output_type": "stream",
     "text": [
      "32\n"
     ]
    }
   ],
   "source": [
    "def F(n):\n",
    "    if n <= 3:\n",
    "        return n\n",
    "    if n % 2 == 0:\n",
    "        return 2 * n + F(n-1)\n",
    "    return n ** 2 + F(n-2)\n",
    "\n",
    "res = 0\n",
    "for n in range(1, 101):\n",
    "    if F(n) % 3 == 0:\n",
    "        res += 1\n",
    "print(res)"
   ]
  },
  {
   "cell_type": "code",
   "execution_count": 2,
   "id": "364f0a1f",
   "metadata": {},
   "outputs": [
    {
     "name": "stdout",
     "output_type": "stream",
     "text": [
      "32\n"
     ]
    }
   ],
   "source": [
    "# создаём массив для всех значений (от 0 до 100 включительно)\n",
    "F = [0] * 101\n",
    "\n",
    "for i in range(1, 101):\n",
    "    if i <= 3:\n",
    "        F[i] = i\n",
    "    elif i % 2 == 0:\n",
    "        F[i] = 2 * i + F[i - 1]\n",
    "    else:\n",
    "        F[i] = i * i + F[i - 2]\n",
    "\n",
    "res = 0\n",
    "for i in range(1, 101):\n",
    "    if F[i] % 3 == 0:\n",
    "        res += 1\n",
    "print(res)"
   ]
  }
 ],
 "metadata": {
  "celltoolbar": "Слайд-шоу",
  "kernelspec": {
   "display_name": "Python 3 (ipykernel)",
   "language": "python",
   "name": "python3"
  },
  "language_info": {
   "codemirror_mode": {
    "name": "ipython",
    "version": 3
   },
   "file_extension": ".py",
   "mimetype": "text/x-python",
   "name": "python",
   "nbconvert_exporter": "python",
   "pygments_lexer": "ipython3",
   "version": "3.11.5"
  },
  "rise": {
   "enable_chalkboard": true,
   "scroll": true
  }
 },
 "nbformat": 4,
 "nbformat_minor": 5
}
