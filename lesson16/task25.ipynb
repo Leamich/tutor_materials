{
 "cells": [
  {
   "cell_type": "markdown",
   "id": "c5373b08",
   "metadata": {
    "slideshow": {
     "slide_type": "slide"
    }
   },
   "source": [
    "# Задание 25. Делители числа\n",
    "\n",
    "*Леонтьев Михаил, 2024*"
   ]
  },
  {
   "cell_type": "code",
   "execution_count": 8,
   "id": "0cf0d3a2",
   "metadata": {},
   "outputs": [
    {
     "data": {
      "text/plain": [
       "[1, 2, 3, 4, 6, 9, 12, 18, 36]"
      ]
     },
     "execution_count": 8,
     "metadata": {},
     "output_type": "execute_result"
    }
   ],
   "source": [
    "def get_divs(n): # O(sqrt(n)) \n",
    "    divs = []\n",
    "    for i in range(1, int(n ** 0.5) + 1):\n",
    "        if n % i == 0:\n",
    "            divs.append(i)\n",
    "            if n // i != i:\n",
    "                divs.append(n // i)\n",
    "    return divs\n",
    "\n",
    "sorted(get_divs(36))"
   ]
  },
  {
   "cell_type": "markdown",
   "id": "7dbc1630",
   "metadata": {
    "slideshow": {
     "slide_type": "slide"
    }
   },
   "source": [
    "## Делители. Теория"
   ]
  },
  {
   "cell_type": "code",
   "execution_count": 9,
   "id": "575f54b3",
   "metadata": {},
   "outputs": [],
   "source": [
    "## ШАБЛОН (нахождение всех делителей числа)\n",
    "# подразумевается, что n - натуральное и > 1\n",
    "def get_divs(n):\n",
    "    # здесь будем хранить делители (очевидно, что их два)\n",
    "    res = [1, n]\n",
    "    \n",
    "    # затем проверяем все делители до корня\n",
    "    i = 2\n",
    "    while i * i <= n:\n",
    "        if n % i == 0:\n",
    "            res.append(i)\n",
    "            \n",
    "            # добавляем симметричный делитель\n",
    "            if n // i != i:\n",
    "                res.append(n // i)\n",
    "        i += 1\n",
    "    return res\n",
    "## КОНЕЦ ШАБЛОНА"
   ]
  },
  {
   "cell_type": "markdown",
   "id": "8a9574ad",
   "metadata": {
    "slideshow": {
     "slide_type": "slide"
    }
   },
   "source": [
    "## Примеры"
   ]
  },
  {
   "cell_type": "markdown",
   "id": "d5370823",
   "metadata": {
    "slideshow": {
     "slide_type": "subslide"
    }
   },
   "source": [
    "### Пример 1\n",
    "\n",
    "Напишите программу, которая ищет среди целых чисел, принадлежащих числовому отрезку [174457; 174505], числа, имеющие ровно два различных натуральных делителя, не считая единицы и самого числа. Для каждого найденного числа запишите эти два делителя в два соседних столбца на экране с новой строки в порядке возрастания произведения этих двух делителей. Делители в строке также должны следовать в порядке возрастания.\n",
    "\n",
    "Например, в диапазоне [5; 9] ровно два различных натуральных делителя имеют числа 6 и 8, поэтому для этого диапазона вывод на экране должна содержать следующие значения:\\\n",
    "2 3\\\n",
    "2 4"
   ]
  },
  {
   "cell_type": "code",
   "execution_count": 10,
   "id": "807ef7c0",
   "metadata": {},
   "outputs": [
    {
     "name": "stdout",
     "output_type": "stream",
     "text": [
      "ПРИМЕР\n",
      "2 3\n",
      "2 4\n",
      "\n",
      "ОТВЕТ\n",
      "3 58153\n",
      "7 24923\n",
      "59 2957\n",
      "13 13421\n",
      "149 1171\n",
      "5 34897\n",
      "211 827\n",
      "2 87251\n"
     ]
    }
   ],
   "source": [
    "## ШАБЛОН (нахождение всех делителей числа)\n",
    "def get_divs(n):\n",
    "    res = [1, n]\n",
    "    \n",
    "    i = 2\n",
    "    while i * i <= n:\n",
    "        if n % i == 0:\n",
    "            res.append(i)\n",
    "            \n",
    "            if n // i != i:\n",
    "                res.append(n // i)\n",
    "        i += 1\n",
    "    \n",
    "    return res\n",
    "## КОНЕЦ ШАБЛОНА\n",
    "\n",
    "\n",
    "print(\"ПРИМЕР\")\n",
    "for i in range(5, 10):\n",
    "    d = get_divs(i)\n",
    "    if len(d) == 4:\n",
    "        d.sort() # d = [1, x, y, n]; xy=n\n",
    "        print(d[1], d[2])\n",
    "\n",
    "print()\n",
    "print(\"ОТВЕТ\")\n",
    "for i in range(174457, 174506):\n",
    "    d = get_divs(i)\n",
    "    if len(d) == 4:\n",
    "        d.sort()\n",
    "        print(d[1], d[2])"
   ]
  },
  {
   "cell_type": "markdown",
   "id": "6767a25c",
   "metadata": {
    "slideshow": {
     "slide_type": "subslide"
    }
   },
   "source": [
    "### Пример 2\n",
    "\n",
    "Напишите программу, которая ищет среди целых чисел, принадлежащих числовому отрезку [190201; 190280], числа, имеющие ровно 4 различных ЧЁТНЫХ делителя (единица и само число считаются). Выведите эти четыре делителя для каждого найденного числа в порядке убывания."
   ]
  },
  {
   "cell_type": "code",
   "execution_count": 15,
   "id": "3d7cbae7",
   "metadata": {},
   "outputs": [
    {
     "name": "stdout",
     "output_type": "stream",
     "text": [
      "190226 838 454 2 \n",
      "190234 17294 22 2 \n",
      "190238 2606 146 2 \n",
      "190252 95126 4 2 \n",
      "190258 758 502 2 \n",
      "190274 27182 14 2 \n",
      "190276 95138 4 2 \n"
     ]
    }
   ],
   "source": [
    "## ШАБЛОН (нахождение всех делителей числа)\n",
    "def get_divs(n):\n",
    "    res = [1, n]\n",
    "    \n",
    "    i = 2\n",
    "    while i * i <= n:\n",
    "        if n % i == 0:\n",
    "            res.append(i)\n",
    "            \n",
    "            if n // i != i:\n",
    "                res.append(n // i)\n",
    "        i += 1\n",
    "    \n",
    "    return res\n",
    "## КОНЕЦ ШАБЛОНА\n",
    "\n",
    "for n in range(190201, 190280 + 1):\n",
    "    d = get_divs(n)\n",
    "    \n",
    "    res = 0\n",
    "    for i in range(len(d)):\n",
    "        if d[i] % 2 == 0:\n",
    "            res += 1\n",
    "            \n",
    "    d.sort(reverse=True)\n",
    "            \n",
    "    if res == 4:\n",
    "        for i in range(len(d)):\n",
    "            if d[i] % 2 == 0:\n",
    "                print(d[i], end=' ')\n",
    "        print()"
   ]
  },
  {
   "cell_type": "code",
   "execution_count": 15,
   "id": "2fda18c7",
   "metadata": {},
   "outputs": [
    {
     "name": "stdout",
     "output_type": "stream",
     "text": [
      "190226 838 454 2\n",
      "190234 17294 22 2\n",
      "190238 2606 146 2\n",
      "190252 95126 4 2\n",
      "190258 758 502 2\n",
      "190274 27182 14 2\n",
      "190276 95138 4 2\n"
     ]
    }
   ],
   "source": [
    "## ШАБЛОН (нахождение всех делителей числа)\n",
    "def get_divs(n):\n",
    "    res = [1, n]\n",
    "    \n",
    "    i = 2\n",
    "    while i * i <= n:\n",
    "        if n % i == 0:\n",
    "            res.append(i)\n",
    "            \n",
    "            if n // i != i:\n",
    "                res.append(n // i)\n",
    "        i += 1\n",
    "    \n",
    "    return res\n",
    "## КОНЕЦ ШАБЛОНА\n",
    "\n",
    "\n",
    "for i in range(190201, 190280 + 1):\n",
    "    d = get_divs(i)\n",
    "    \n",
    "    evs = []\n",
    "    for j in range(len(d)):\n",
    "        if d[j] % 2 == 0:\n",
    "            evs.append(d[j])\n",
    "    \n",
    "    if len(evs) == 4:\n",
    "        evs.sort(reverse=True)\n",
    "        print(*evs)"
   ]
  },
  {
   "cell_type": "markdown",
   "id": "af949205",
   "metadata": {
    "slideshow": {
     "slide_type": "subslide"
    }
   },
   "source": [
    "### Пример 3\n",
    "\n",
    "Напишите программу, которая ищет среди целых чисел, принадлежащих числовому отрезку [394441; 394505], числа, имеющие максимальное количество различных делителей. Если таких чисел несколько, то найдите минимальное из них. Выведите количество делителей найденного числа и два наибольших делителя в порядке убывания."
   ]
  },
  {
   "cell_type": "code",
   "execution_count": 23,
   "id": "851b8309",
   "metadata": {},
   "outputs": [
    {
     "name": "stdout",
     "output_type": "stream",
     "text": [
      "48 394450 197225\n"
     ]
    }
   ],
   "source": [
    "## ШАБЛОН (нахождение всех делителей числа)\n",
    "def get_divs(n):\n",
    "    res = [1, n]\n",
    "    \n",
    "    i = 2\n",
    "    while i * i <= n:\n",
    "        if n % i == 0:\n",
    "            res.append(i)\n",
    "            \n",
    "            if n // i != i:\n",
    "                res.append(n // i)\n",
    "        i += 1\n",
    "    \n",
    "    return res\n",
    "## КОНЕЦ ШАБЛОНА\n",
    "\n",
    "\n",
    "res = 0\n",
    "res_n = -1\n",
    "for n in range(394441, 394505 + 1):\n",
    "    d = get_divs(n)\n",
    "    \n",
    "    if res < len(d):\n",
    "        res = len(d)\n",
    "        res_n = n\n",
    "\n",
    "print(res, end=' ')\n",
    "d = get_divs(res_n)\n",
    "d.sort(reverse=True)\n",
    "print(d[0], d[1])"
   ]
  },
  {
   "cell_type": "code",
   "execution_count": 19,
   "id": "7b91736a",
   "metadata": {},
   "outputs": [
    {
     "name": "stdout",
     "output_type": "stream",
     "text": [
      "48 394450 197225\n"
     ]
    }
   ],
   "source": [
    "## ШАБЛОН (нахождение всех делителей числа)\n",
    "def get_divs(n):\n",
    "    res = [1, n]\n",
    "    \n",
    "    i = 2\n",
    "    while i * i <= n:\n",
    "        if n % i == 0:\n",
    "            res.append(i)\n",
    "            \n",
    "            if n // i != i:\n",
    "                res.append(n // i)\n",
    "        i += 1\n",
    "    \n",
    "    return res\n",
    "## КОНЕЦ ШАБЛОНА\n",
    "\n",
    "\n",
    "res = (0, 0)\n",
    "cnt = 0\n",
    "for i in range(394441, 394505 + 1):\n",
    "    d = get_divs(i)\n",
    "    \n",
    "    if len(d) > cnt:\n",
    "        d.sort(reverse=True)\n",
    "        \n",
    "        cnt = len(d)\n",
    "        res = d[:2] # d[:2] --- два первых числа\n",
    "\n",
    "print(cnt, *res)"
   ]
  },
  {
   "cell_type": "markdown",
   "id": "c9345992",
   "metadata": {
    "slideshow": {
     "slide_type": "subslide"
    }
   },
   "source": [
    "### Пример 4\n",
    "\n",
    "Напишите программу, которая перебирает целые числа, большие 600 000, в порядке возрастания и ищет среди них такие, среди делителей которых есть хотя бы одно число, оканчивающееся на 7, но не равное 7 и самому числу. Необходимо вывести первые 5 таких чисел, и наименьший делитель, оканчивающийся на 7, не равный 7 и самому числу.\n",
    "\n",
    "Формат вывода: для каждого из 5 таких найденных чисел в отдельной строке сначала выводится само число, затем  — наименьший делитель, оканчивающийся на 7, не равный 7 и самому числу. Строки выводятся в порядке возрастания найденных чисел.\n",
    "\n",
    "Количество строк в таблице для ответа избыточно."
   ]
  },
  {
   "cell_type": "code",
   "execution_count": 29,
   "id": "f5209fed",
   "metadata": {},
   "outputs": [
    {
     "name": "stdout",
     "output_type": "stream",
     "text": [
      "600001 437\n",
      "600002 47\n",
      "600003 1227\n",
      "600005 217\n",
      "600012 16667\n"
     ]
    }
   ],
   "source": [
    "## ШАБЛОН (нахождение всех делителей числа)\n",
    "def get_divs(n):\n",
    "    res = [1, n]\n",
    "    \n",
    "    i = 2\n",
    "    while i * i <= n:\n",
    "        if n % i == 0:\n",
    "            res.append(i)\n",
    "            \n",
    "            if n // i != i:\n",
    "                res.append(n // i)\n",
    "        i += 1\n",
    "    \n",
    "    return res\n",
    "## КОНЕЦ ШАБЛОНА\n",
    "\n",
    "for n in range(600_000, 600_013):\n",
    "    d = get_divs(n)\n",
    "    \n",
    "    flag = False\n",
    "    mins = n\n",
    "    for i in range(len(d)):\n",
    "        if (d[i] % 10 == 7) and (d[i] != 7) and (d[i] != n):\n",
    "            flag = True\n",
    "            mins = min(d[i], mins)\n",
    "    \n",
    "    if flag:\n",
    "        print(n, mins)"
   ]
  },
  {
   "cell_type": "code",
   "execution_count": 33,
   "id": "52de7fab",
   "metadata": {},
   "outputs": [
    {
     "name": "stdout",
     "output_type": "stream",
     "text": [
      "600001 437\n",
      "600002 47\n",
      "600003 1227\n",
      "600005 217\n",
      "600012 16667\n"
     ]
    }
   ],
   "source": [
    "## ШАБЛОН (нахождение всех делителей числа)\n",
    "def get_divs(n):\n",
    "    res = [1, n]\n",
    "    \n",
    "    i = 2\n",
    "    while i * i <= n:\n",
    "        if n % i == 0:\n",
    "            res.append(i)\n",
    "            \n",
    "            if n // i != i:\n",
    "                res.append(n // i)\n",
    "        i += 1\n",
    "    \n",
    "    return res\n",
    "## КОНЕЦ ШАБЛОНА\n",
    "\n",
    "\n",
    "# посмотрели на первые пять и ограничили, чтобы он только их выводил\n",
    "for i in range(600_000, 600_013):\n",
    "    d = get_divs(i)\n",
    "    \n",
    "    # ищем нужное нам число с помощью флага\n",
    "    res = 0\n",
    "    # перебираем нетривиальные делители (1 и n - это первые два)\n",
    "    for x in sorted(d[2:]): # d[2:] весь массив кроме первых двух\n",
    "        # x = d[2], d[3], ..., d[len(d) - 1]\n",
    "        if x % 10 == 7 and x != 7:\n",
    "            res = x\n",
    "            break\n",
    "    \n",
    "    if res != 0:\n",
    "        print(i, res)"
   ]
  }
 ],
 "metadata": {
  "celltoolbar": "Слайд-шоу",
  "kernelspec": {
   "display_name": "Python 3 (ipykernel)",
   "language": "python",
   "name": "python3"
  },
  "language_info": {
   "codemirror_mode": {
    "name": "ipython",
    "version": 3
   },
   "file_extension": ".py",
   "mimetype": "text/x-python",
   "name": "python",
   "nbconvert_exporter": "python",
   "pygments_lexer": "ipython3",
   "version": "3.11.5"
  },
  "rise": {
   "enable_chalkboard": true,
   "scroll": true
  }
 },
 "nbformat": 4,
 "nbformat_minor": 5
}
