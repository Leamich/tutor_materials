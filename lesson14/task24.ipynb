{
 "cells": [
  {
   "cell_type": "markdown",
   "id": "c5373b08",
   "metadata": {
    "slideshow": {
     "slide_type": "slide"
    }
   },
   "source": [
    "# Задание 24. split-техники\n",
    "\n",
    "*Леонтьев Михаил, 2024*"
   ]
  },
  {
   "cell_type": "markdown",
   "id": "8a9574ad",
   "metadata": {
    "slideshow": {
     "slide_type": "slide"
    }
   },
   "source": [
    "## Примеры"
   ]
  },
  {
   "cell_type": "markdown",
   "id": "d5370823",
   "metadata": {
    "slideshow": {
     "slide_type": "subslide"
    }
   },
   "source": [
    "### Пример 1\n",
    "\n",
    "Текстовый файл содержит только заглавные буквы латинского алфавита (ABC...Z). Определите максимальное количество идущих подряд символов, среди которых нет ни одной буквы A и при этом не менее трёх букв E."
   ]
  },
  {
   "cell_type": "code",
   "execution_count": 1,
   "id": "807ef7c0",
   "metadata": {},
   "outputs": [
    {
     "name": "stdout",
     "output_type": "stream",
     "text": [
      "282\n"
     ]
    }
   ],
   "source": [
    "# читаем строку из файла\n",
    "s = open(r\"task1.txt\").readline().strip()\n",
    "\n",
    "# делим строку по буква А (причем, заметим, что могут быть пустые строки,\n",
    "# а также все символы А пропадут). Теперь s это список строк, где каждая\n",
    "# строка - это последовательность без А. Осталось только проверить, какие\n",
    "# из них удовлетворяют ограничению на Е.\n",
    "s = s.split(\"A\")\n",
    "\n",
    "# переменная для ответа\n",
    "res = 0\n",
    "\n",
    "for i in range(len(s)):\n",
    "    if s[i].count(\"E\") >= 3:\n",
    "        res = max(res, len(s[i]))\n",
    "\n",
    "print(res)"
   ]
  },
  {
   "cell_type": "markdown",
   "id": "6767a25c",
   "metadata": {
    "slideshow": {
     "slide_type": "subslide"
    }
   },
   "source": [
    "### Пример 2\n",
    "\n",
    "Текстовый файл содержит только заглавные буквы латинского алфавита (ABC…Z). Определите максимальное количество идущих подряд символов, среди которых не более одной буквы D."
   ]
  },
  {
   "cell_type": "code",
   "execution_count": 7,
   "id": "2fda18c7",
   "metadata": {},
   "outputs": [
    {
     "name": "stdout",
     "output_type": "stream",
     "text": [
      "354\n"
     ]
    }
   ],
   "source": [
    "# читаем строку из файла\n",
    "s = open(r\"task1.txt\").readline().strip()\n",
    "\n",
    "s = s.split(\"D\")\n",
    "\n",
    "# переменная для ответа\n",
    "res = 0\n",
    "\n",
    "# переберём пары строк\n",
    "for i in range(len(s) - 1):\n",
    "    res = max(res, len(s[i]) + len(s[i + 1]) + 1)\n",
    "\n",
    "print(res)"
   ]
  },
  {
   "cell_type": "markdown",
   "id": "af949205",
   "metadata": {
    "slideshow": {
     "slide_type": "subslide"
    }
   },
   "source": [
    "### Пример 3\n",
    "\n",
    "Текстовый файл содержит только заглавные буквы латинского алфавита (ABC…Z). Определите количество групп из идущих подряд не менее 12 символов, которые начинаются и заканчиваются буквой A, не содержат других букв A (кроме первой и последней) и содержат не меньше двух букв B.\n",
    "\n"
   ]
  },
  {
   "cell_type": "code",
   "execution_count": 14,
   "id": "7b91736a",
   "metadata": {},
   "outputs": [
    {
     "name": "stdout",
     "output_type": "stream",
     "text": [
      "10492\n"
     ]
    }
   ],
   "source": [
    "# читаем строку из файла\n",
    "s = open(r\"task1.txt\").readline().strip()\n",
    "\n",
    "s = s.split(\"A\")\n",
    "\n",
    "# переменная для ответа\n",
    "res = 0\n",
    "\n",
    "# первая и последние строки не содержат А в конце или начале\n",
    "for i in range(1, len(s) - 1):\n",
    "    if s[i].count(\"B\") >= 2 and len(s[i]) + 2 >= 12:\n",
    "        res += 1\n",
    "\n",
    "print(res)"
   ]
  }
 ],
 "metadata": {
  "celltoolbar": "Слайд-шоу",
  "kernelspec": {
   "display_name": "Python 3 (ipykernel)",
   "language": "python",
   "name": "python3"
  },
  "language_info": {
   "codemirror_mode": {
    "name": "ipython",
    "version": 3
   },
   "file_extension": ".py",
   "mimetype": "text/x-python",
   "name": "python",
   "nbconvert_exporter": "python",
   "pygments_lexer": "ipython3",
   "version": "3.11.5"
  },
  "rise": {
   "enable_chalkboard": true,
   "scroll": true
  }
 },
 "nbformat": 4,
 "nbformat_minor": 5
}
