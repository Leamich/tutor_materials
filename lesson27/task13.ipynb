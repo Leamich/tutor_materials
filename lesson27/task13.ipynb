{
 "cells": [
  {
   "cell_type": "markdown",
   "id": "c5373b08",
   "metadata": {
    "panel-layout": {
     "height": 93.5625,
     "visible": true,
     "width": 100
    },
    "slideshow": {
     "slide_type": "slide"
    }
   },
   "source": [
    "# Задание 13. IP-адреса\n",
    "\n",
    "*Леонтьев Михаил, 2025*"
   ]
  },
  {
   "cell_type": "markdown",
   "id": "8d884e96-6119-4182-9330-df988d5651dd",
   "metadata": {},
   "source": [
    "## Библиотека ipaddress"
   ]
  },
  {
   "cell_type": "code",
   "execution_count": 49,
   "id": "0cfaba2e-1c9d-4e46-a2c7-e05b5a907e2a",
   "metadata": {},
   "outputs": [
    {
     "data": {
      "text/plain": [
       "[IPv4Address('226.185.88.1'),\n",
       " IPv4Address('226.185.88.2'),\n",
       " IPv4Address('226.185.88.3'),\n",
       " IPv4Address('226.185.88.4'),\n",
       " IPv4Address('226.185.88.5'),\n",
       " IPv4Address('226.185.88.6'),\n",
       " IPv4Address('226.185.88.7'),\n",
       " IPv4Address('226.185.88.8'),\n",
       " IPv4Address('226.185.88.9'),\n",
       " IPv4Address('226.185.88.10')]"
      ]
     },
     "execution_count": 49,
     "metadata": {},
     "output_type": "execute_result"
    }
   ],
   "source": [
    "# импорт библиотек\n",
    "from ipaddress import *\n",
    "\n",
    "# IP-адрес\n",
    "ad = ip_address(\"124.68.23.175\")\n",
    "\n",
    "# создание сети (со всеми адресами)\n",
    "mask_str = \"255.255.252.0\"\n",
    "address_str = \"226.185.90.162\" \n",
    "net = ip_network(address_str + '/' + mask_str, 0)\n",
    "net = ip_network(\"226.185.90.162/255.255.252.0\", 0)\n",
    "net = ip_network(\"226.185.90.162/22\", 0)\n",
    "\n",
    "# сохраняем все узлы (кроме адреса сети и широковещательного)\n",
    "hs = list(net.hosts())\n",
    "hs[:10]"
   ]
  },
  {
   "cell_type": "code",
   "execution_count": 37,
   "id": "ef483fa3-b59f-4114-9f43-b22157cf01ec",
   "metadata": {},
   "outputs": [
    {
     "name": "stdout",
     "output_type": "stream",
     "text": [
      "11100010101110010101100000000000\n",
      "11100010101110010101100000000000\n"
     ]
    }
   ],
   "source": [
    "for h in net:\n",
    "    print(f\"{h:b}\")\n",
    "    print(bin(int(h))[2:].zfill(32))\n",
    "    break"
   ]
  },
  {
   "cell_type": "markdown",
   "id": "8a9574ad",
   "metadata": {
    "panel-layout": {
     "height": 50.8125,
     "visible": true,
     "width": 100
    },
    "slideshow": {
     "slide_type": "slide"
    }
   },
   "source": [
    "## Примеры"
   ]
  },
  {
   "cell_type": "markdown",
   "id": "d5370823",
   "metadata": {
    "panel-layout": {
     "height": 352.3999938964844,
     "visible": true,
     "width": 100
    },
    "slideshow": {
     "slide_type": "subslide"
    }
   },
   "source": [
    "### Пример 1\n",
    "\n",
    "Если маска подсети 255.255.252.0 и IP-адрес компьютера в сети 226.185.90.162, то номер компьютера в сети равен ________"
   ]
  },
  {
   "cell_type": "code",
   "execution_count": 40,
   "id": "807ef7c0",
   "metadata": {},
   "outputs": [
    {
     "name": "stdout",
     "output_type": "stream",
     "text": [
      "674\n"
     ]
    }
   ],
   "source": [
    "from ipaddress import *\n",
    "\n",
    "# создаётся сеть, к ней относится данный узел\n",
    "net = ip_network(\"226.185.90.162/255.255.252.0\", 0) \n",
    "k = 0\n",
    "for ad in net:                              # перебираем по порядку все узлы сети\n",
    "    if ad == ip_address(\"226.185.90.162\"):  # если очередной узел совпал с узлом из условия задачи \n",
    "        print(k)                            # то печатаем его порядковый номер \n",
    "        break                               # и останавливаем дальнейший перебор\n",
    "    k += 1"
   ]
  },
  {
   "cell_type": "markdown",
   "id": "eb56de46",
   "metadata": {
    "panel-layout": {
     "height": 352.3999938964844,
     "visible": true,
     "width": 100
    },
    "slideshow": {
     "slide_type": "subslide"
    }
   },
   "source": [
    "### Пример 2\n",
    "\n",
    "Сеть задана IP-адресом 192.168.32.160 и маской сети 255.255.255.240. Сколько в этой сети IP-адресов, для которых сумма единиц в двоичной записи IP-адреса чётна?"
   ]
  },
  {
   "cell_type": "code",
   "execution_count": 43,
   "id": "2b6d70dc",
   "metadata": {},
   "outputs": [
    {
     "name": "stdout",
     "output_type": "stream",
     "text": [
      "8\n"
     ]
    }
   ],
   "source": [
    "from ipaddress import *\n",
    "\n",
    "\n",
    "net = ip_network(\"192.168.32.160/255.255.255.240\")\n",
    "\n",
    "k = 0\n",
    "for ad in net:                       # перебираем все узлы данной сети\n",
    "    dv = bin(int(ad))[2:].zfill(32)  # переводим узлы в двоичную систему счисления, дополняем до 32 разрядов\n",
    "    if dv.count(\"1\") % 2 == 0:       # в узлах, записанных в виде строк считаем количество 1, проверяем чётность\n",
    "        k += 1                      \n",
    "print(k)"
   ]
  },
  {
   "cell_type": "markdown",
   "id": "15cbe38a",
   "metadata": {
    "panel-layout": {
     "height": 359.3999938964844,
     "visible": true,
     "width": 100
    },
    "slideshow": {
     "slide_type": "subslide"
    }
   },
   "source": [
    "### Пример 3\n",
    "\n",
    "Сеть задана IP-адресом 142.108.56.118 и маской сети 255.255.255.240. Сколько в этой сети IP-адресов, для которых в двоичной записи IP-адреса суммарное количество единиц в левых двух байтах меньше суммарного количества единиц в правых двух байтах?"
   ]
  },
  {
   "cell_type": "code",
   "execution_count": 46,
   "id": "091f71cd",
   "metadata": {},
   "outputs": [
    {
     "name": "stdout",
     "output_type": "stream",
     "text": [
      "5\n"
     ]
    }
   ],
   "source": [
    "from ipaddress import *\n",
    "\n",
    "net = ip_network(\"142.108.56.118/255.255.255.240\",0)\n",
    "k = 0\n",
    "for ad in net:\n",
    "    dv = bin(int(ad))[2:].zfill(32)\n",
    "    left = dv[:16].count(\"1\")\n",
    "    right = dv[16:].count(\"1\")\n",
    "    if left < right:\n",
    "        k += 1\n",
    "print(k)"
   ]
  },
  {
   "cell_type": "markdown",
   "id": "5be3db0e-aa76-4e32-8f64-dd610f8b363c",
   "metadata": {
    "panel-layout": {
     "height": 359.3999938964844,
     "visible": true,
     "width": 100
    },
    "slideshow": {
     "slide_type": "subslide"
    }
   },
   "source": [
    "### Пример 4\n",
    "\n",
    "Сеть задана IP-адресом 255.211.33.160 и маской сети 255.255.A.0, где А - некоторое допустимое для записи маски число. Определите минимальное значение А, для которого для всех IP-адресов этой сети в двоичной записи IP-адреса суммарное количество единиц в левых двух байтах не менее суммарного количества единиц в правых двух байтах."
   ]
  },
  {
   "cell_type": "code",
   "execution_count": 46,
   "id": "49fa2288-c143-40f2-828e-936837c543be",
   "metadata": {},
   "outputs": [
    {
     "name": "stdout",
     "output_type": "stream",
     "text": [
      "5\n"
     ]
    }
   ],
   "source": [
    "from ipaddress import *\n",
    "\n",
    "\n",
    "for mask in range(16, 25):\n",
    "    net = ip_network(\"255.211.33.160/\" + str(mask), 0)\n",
    "    for ad in net:\n",
    "        dv = bin(int(ad))[2:].zfill(32)\n",
    "        left = dv[:16].count(\"1\")\n",
    "        right = dv[16:].count(\"1\")\n",
    "        if left < right:\n",
    "            break\n",
    "    else:\n",
    "        print(net.netmask)"
   ]
  },
  {
   "cell_type": "markdown",
   "id": "af626eed-dd0f-4684-8b8c-d717fd79d87b",
   "metadata": {
    "panel-layout": {
     "height": 359.3999938964844,
     "visible": true,
     "width": 100
    },
    "slideshow": {
     "slide_type": "subslide"
    }
   },
   "source": [
    "### Пример 5\n",
    "\n",
    "Сеть задана IP-адресом 64.0.A.6, где А - некоторое допустимое для записи IP-адреса число, и маской сети 255.255.248.0, . Определите минимальное значение А, для которого для всех IP-адресов этой сети в двоичной записи IP-адреса суммарное количество единиц в левых двух байтах не более суммарного количества единиц в правых двух байтах."
   ]
  },
  {
   "cell_type": "code",
   "execution_count": 52,
   "id": "68fa5ea4-8847-426e-a1a9-269f2dff41ba",
   "metadata": {},
   "outputs": [
    {
     "name": "stdout",
     "output_type": "stream",
     "text": [
      "8\n"
     ]
    }
   ],
   "source": [
    "from ipaddress import *\n",
    "\n",
    "\n",
    "ans = []\n",
    "for A in range(256):\n",
    "    net = ip_network(\"64.0.\" + str(A) + \".6/255.255.248.0\", 0)\n",
    "    for ad in net:\n",
    "        dv = bin(int(ad))[2:].zfill(32)\n",
    "        if dv[:16].count(\"1\") > dv[16:].count(\"1\"): # если в первых двух байтах единиц меньше, то \n",
    "            break                                   # переходим к следующему A\n",
    "    else:\n",
    "        ans.append(A)  # если не ушли по команде break, то данное A подходит, заносим его в список\n",
    "\n",
    "print(min(ans))"
   ]
  }
 ],
 "metadata": {
  "celltoolbar": "Слайд-шоу",
  "kernelspec": {
   "display_name": "Python [conda env:base] *",
   "language": "python",
   "name": "conda-base-py"
  },
  "language_info": {
   "codemirror_mode": {
    "name": "ipython",
    "version": 3
   },
   "file_extension": ".py",
   "mimetype": "text/x-python",
   "name": "python",
   "nbconvert_exporter": "python",
   "pygments_lexer": "ipython3",
   "version": "3.12.7"
  },
  "panel-cell-order": [
   "c5373b08",
   "7dbc1630",
   "fff577de",
   "8a9574ad",
   "d5370823",
   "eb56de46",
   "15cbe38a"
  ],
  "rise": {
   "enable_chalkboard": true,
   "scroll": true
  }
 },
 "nbformat": 4,
 "nbformat_minor": 5
}
