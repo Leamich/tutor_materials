{
  "cells": [
    {
      "cell_type": "markdown",
      "id": "eea18e93",
      "metadata": {
        "id": "eea18e93"
      },
      "source": [
        "# Задание 8. Комбинаторика\n",
        "\n",
        "*Леонтьев Михаил, 2024*"
      ]
    },
    {
      "cell_type": "markdown",
      "id": "bc9d5636",
      "metadata": {
        "id": "bc9d5636"
      },
      "source": [
        "## Функция product\n",
        "\n",
        "Это встроенная функция, которая позволяет перебирать все возможные сочентания из данного набора."
      ]
    },
    {
      "cell_type": "code",
      "execution_count": 2,
      "id": "ef198034",
      "metadata": {
        "id": "ef198034",
        "outputId": "e77f5968-16a6-4721-b1aa-04b70be61fc1",
        "colab": {
          "base_uri": "https://localhost:8080/"
        }
      },
      "outputs": [
        {
          "output_type": "stream",
          "name": "stdout",
          "text": [
            "(0, 'A')\n",
            "(0, 'B')\n",
            "(1, 'A')\n",
            "(1, 'B')\n"
          ]
        }
      ],
      "source": [
        "from itertools import product\n",
        "\n",
        "# здесь мы выводим все возможные сочетания цифр 0/1 с буквами A/B\n",
        "print(*product([0, 1], [\"A\", \"B\"]), sep=\"\\n\")"
      ]
    },
    {
      "cell_type": "code",
      "execution_count": 3,
      "id": "8418ad3e",
      "metadata": {
        "id": "8418ad3e",
        "outputId": "07df0155-0e10-42fc-ec7a-b6ecd114ff00",
        "colab": {
          "base_uri": "https://localhost:8080/"
        }
      },
      "outputs": [
        {
          "output_type": "stream",
          "name": "stdout",
          "text": [
            "(0, 0, 0)\n",
            "(0, 0, 1)\n",
            "(0, 1, 0)\n",
            "(0, 1, 1)\n",
            "(1, 0, 0)\n",
            "(1, 0, 1)\n",
            "(1, 1, 0)\n",
            "(1, 1, 1)\n"
          ]
        }
      ],
      "source": [
        "# а здесь все возможные трёхзначные двоичные числа (в т.ч. с ведущими нулями)\n",
        "print(*product([0, 1], [0, 1], [0, 1]), sep=\"\\n\")"
      ]
    },
    {
      "cell_type": "code",
      "execution_count": 8,
      "id": "0420efb5",
      "metadata": {
        "id": "0420efb5",
        "outputId": "43159b2d-59fb-41e1-c3fd-b6c8bf4b04e4",
        "colab": {
          "base_uri": "https://localhost:8080/"
        }
      },
      "outputs": [
        {
          "output_type": "stream",
          "name": "stdout",
          "text": [
            "(0, 0)\n",
            "(0, 1)\n",
            "(1, 0)\n",
            "(1, 1)\n"
          ]
        }
      ],
      "source": [
        "# одинаковые элементы можно не повторять, а просто добавить repeat\n",
        "print(*product([0, 1], repeat=2), sep=\"\\n\")"
      ]
    },
    {
      "cell_type": "markdown",
      "id": "003a8435",
      "metadata": {
        "id": "003a8435"
      },
      "source": [
        "## Примеры"
      ]
    },
    {
      "cell_type": "markdown",
      "id": "f59d3c3d",
      "metadata": {
        "id": "f59d3c3d"
      },
      "source": [
        "### Пример 1\n",
        "\n",
        "![](https://ucarecdn.com/6ded63bd-0e54-4052-ae63-0abb71e4421c/)"
      ]
    },
    {
      "cell_type": "code",
      "execution_count": 14,
      "id": "0dc65ade",
      "metadata": {
        "id": "0dc65ade",
        "outputId": "b9c36961-06d4-4133-ee6d-d3c4c7317a13",
        "colab": {
          "base_uri": "https://localhost:8080/"
        }
      },
      "outputs": [
        {
          "output_type": "stream",
          "name": "stdout",
          "text": [
            "РРРОР\n"
          ]
        }
      ],
      "source": [
        "# здесь мы берём все возможные сочетания БОР длиной 5 (параметр repeat)\n",
        "# и сортируем их sorted\n",
        "a = sorted(product(\"БОР\", repeat=5))\n",
        "\n",
        "# так как список нумеруется с 0, берём число на 1 меньше\n",
        "print(\"\".join(a[240 - 1]))"
      ]
    },
    {
      "cell_type": "markdown",
      "id": "6d237a71",
      "metadata": {
        "id": "6d237a71"
      },
      "source": [
        "### Пример 2\n",
        "\n",
        "![](https://ucarecdn.com/f808a9f9-c8dd-40ea-8a23-60f2fa07caa3/)"
      ]
    },
    {
      "cell_type": "code",
      "source": [
        "words = sorted(product(\"ПАРУС\", repeat=3))\n",
        "\n",
        "for idx, w in enumerate(words):\n",
        "    if w[0] == \"С\":\n",
        "        print(\"w =\", w)\n",
        "        print(\"idx =\", idx + 1)\n",
        "        break"
      ],
      "metadata": {
        "id": "hedGTcSOQQ6Y",
        "outputId": "958cc493-2e21-45b3-9265-a5664bcd569a",
        "colab": {
          "base_uri": "https://localhost:8080/"
        }
      },
      "id": "hedGTcSOQQ6Y",
      "execution_count": 27,
      "outputs": [
        {
          "output_type": "stream",
          "name": "stdout",
          "text": [
            "w = ('С', 'А', 'А')\n",
            "idx = 76\n",
            "HELLO\n"
          ]
        }
      ]
    },
    {
      "cell_type": "code",
      "execution_count": null,
      "id": "8c8ba43e",
      "metadata": {
        "id": "8c8ba43e",
        "outputId": "2d21c2da-3952-4113-f105-854a63b03670"
      },
      "outputs": [
        {
          "name": "stdout",
          "output_type": "stream",
          "text": [
            "76\n"
          ]
        }
      ],
      "source": [
        "# здесь мы берём все возможные сочетания длиной 3 (параметр repeat)\n",
        "# и сортируем их sorted\n",
        "a = sorted(product(\"ПАРУС\", repeat=3))\n",
        "\n",
        "# проходим по всем словам\n",
        "for i in range(len(a)):\n",
        "    word = a[i]\n",
        "\n",
        "    # если слово начинается с С\n",
        "    if word[0] == \"С\":\n",
        "        # выводим номер и останавливаем цикл (просто для скорости)\n",
        "        print(i + 1)\n",
        "        break"
      ]
    },
    {
      "cell_type": "markdown",
      "id": "8a19558e",
      "metadata": {
        "id": "8a19558e"
      },
      "source": [
        "### Пример 3\n",
        "\n",
        "![](https://ucarecdn.com/fcdaddf8-f10c-4035-88d7-0c55780b846f/)"
      ]
    },
    {
      "cell_type": "code",
      "source": [
        "words = sorted(product(\"МУХА\", repeat=4))\n",
        "\n",
        "for idx, word in enumerate(words):\n",
        "    if word == ('Х', 'У', 'Х', 'Х'):\n",
        "        print(\"idx =\", idx + 1)\n",
        "        print(\"word =\", word)"
      ],
      "metadata": {
        "id": "rXm7Rqr9SHB1",
        "outputId": "598c609d-b82a-49c3-ddda-cf143c650efc",
        "colab": {
          "base_uri": "https://localhost:8080/"
        }
      },
      "id": "rXm7Rqr9SHB1",
      "execution_count": 31,
      "outputs": [
        {
          "output_type": "stream",
          "name": "stdout",
          "text": [
            "idx = 240\n",
            "word = ('Х', 'У', 'Х', 'Х')\n"
          ]
        }
      ]
    },
    {
      "cell_type": "code",
      "execution_count": null,
      "id": "4ce82401",
      "metadata": {
        "id": "4ce82401",
        "outputId": "5acba9a2-f8bb-4f97-e715-26d653c91cdd"
      },
      "outputs": [
        {
          "name": "stdout",
          "output_type": "stream",
          "text": [
            "240\n"
          ]
        }
      ],
      "source": [
        "# здесь мы берём все возможные сочетания длиной 4 (параметр repeat)\n",
        "# и сортируем их sorted\n",
        "a = sorted(product(\"МУХА\", repeat=4))\n",
        "\n",
        "# проходим по всем словам\n",
        "for i in range(len(a)):\n",
        "    # преобразуем слово из списка (как его выводит product) в строку для простоты\n",
        "    word = \"\".join(a[i])\n",
        "\n",
        "    # если слово ХУХХ\n",
        "    if word == \"ХУХХ\":\n",
        "        # выводим номер и останавливаем цикл (просто для скорости)\n",
        "        print(i + 1)\n",
        "        break"
      ]
    },
    {
      "cell_type": "markdown",
      "id": "3a8ae444",
      "metadata": {
        "id": "3a8ae444"
      },
      "source": [
        "### Пример 4\n",
        "\n",
        "Валерия составляет 3-⁠буквенные коды из букв В, А, Л, Е, Р, И, Я, причём __буква Я должна входить в код ровно один раз__. Все полученные коды Валерия записала в алфавитном порядке и пронумеровала. Начало списка выглядит так:\n",
        "\n",
        "1.  ААВ\n",
        "\n",
        "2.  АВА\n",
        "\n",
        "3.  АВЕ\n",
        "\n",
        "...\n",
        "\n",
        "\n",
        "На каком месте будет записан первый код, не содержащий ни одной буквы А?"
      ]
    },
    {
      "cell_type": "code",
      "execution_count": null,
      "id": "d0c7c8e1",
      "metadata": {
        "id": "d0c7c8e1",
        "outputId": "d5242cd3-992b-4e7c-ee62-5ee1c5eec01d"
      },
      "outputs": [
        {
          "name": "stdout",
          "output_type": "stream",
          "text": [
            "14\n"
          ]
        }
      ],
      "source": [
        "# здесь мы берём все возможные сочетания длиной 3 (параметр repeat)\n",
        "# и сортируем их sorted\n",
        "a = sorted(product(\"ВАЛЕРИЯ\", repeat=3))\n",
        "\n",
        "b = []\n",
        "# проходим по всем словам и сохраняем только нужные\n",
        "for i in range(len(a)):\n",
        "    if a[i].count(\"Я\") == 1:\n",
        "        b.append(a[i])\n",
        "\n",
        "for i in range(len(b)):\n",
        "    if \"А\" not in b[i]:\n",
        "        print(i + 1)\n",
        "        break"
      ]
    },
    {
      "cell_type": "markdown",
      "id": "724eb4bd",
      "metadata": {
        "id": "724eb4bd"
      },
      "source": [
        "### Пример 5\n",
        "\n",
        "Виктор составляет коды из букв, входящих в слово ВИКТОР. Каждая буква должна входить в код ровно один раз. Все возможные коды Виктор записывает в алфавитном порядке и нумерует. Начало списка выглядит так:\n",
        "\n",
        "1.  ВИКОРТ\n",
        "\n",
        "2.  ВИКОТР\n",
        "\n",
        "3.  ВИКРОТ\n",
        "\n",
        "\n",
        "\n",
        "Какой код будет записан под номером 100?"
      ]
    },
    {
      "cell_type": "code",
      "execution_count": null,
      "id": "43dda4b2",
      "metadata": {
        "id": "43dda4b2",
        "outputId": "8b32ce52-e5ea-4b6c-aa91-facc83943110"
      },
      "outputs": [
        {
          "name": "stdout",
          "output_type": "stream",
          "text": [
            "('В', 'Т', 'И', 'О', 'Р', 'К')\n"
          ]
        }
      ],
      "source": [
        "from collections import Counter\n",
        "\n",
        "# здесь мы берём все возможные сочетания длиной 6 (параметр repeat)\n",
        "# и сортируем их sorted\n",
        "a = sorted(product(\"ВИКТОР\", repeat=6))\n",
        "\n",
        "b = []\n",
        "# проходим по всем словам и сохраняем только нужные\n",
        "for i in range(len(a)):\n",
        "    cnt = Counter(a[i])\n",
        "\n",
        "    # если самая частая буква встречается ровно 1 раз,\n",
        "    # то и все остальные встречаются столько же\n",
        "    if cnt.most_common()[0][1] == 1:\n",
        "        b.append(a[i])\n",
        "\n",
        "print(b[99])"
      ]
    },
    {
      "cell_type": "code",
      "execution_count": null,
      "id": "138cc3b3",
      "metadata": {
        "id": "138cc3b3",
        "outputId": "2a304341-79b2-437f-e3bd-24601f44429e"
      },
      "outputs": [
        {
          "name": "stdout",
          "output_type": "stream",
          "text": [
            "ВТИОРК\n"
          ]
        }
      ],
      "source": [
        "from itertools import permutations\n",
        "\n",
        "# перебираем все перестановки\n",
        "a = sorted(permutations(\"ВИКТОР\"))\n",
        "print(\"\".join(a[99]))"
      ]
    }
  ],
  "metadata": {
    "celltoolbar": "Слайд-шоу",
    "kernelspec": {
      "display_name": "Python 3 (ipykernel)",
      "language": "python",
      "name": "python3"
    },
    "language_info": {
      "codemirror_mode": {
        "name": "ipython",
        "version": 3
      },
      "file_extension": ".py",
      "mimetype": "text/x-python",
      "name": "python",
      "nbconvert_exporter": "python",
      "pygments_lexer": "ipython3",
      "version": "3.11.5"
    },
    "rise": {
      "enable_chalkboard": true,
      "scroll": true
    },
    "colab": {
      "provenance": []
    }
  },
  "nbformat": 4,
  "nbformat_minor": 5
}