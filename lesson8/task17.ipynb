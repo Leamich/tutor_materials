{
 "cells": [
  {
   "cell_type": "markdown",
   "id": "1b7405bf",
   "metadata": {
    "slideshow": {
     "slide_type": "slide"
    }
   },
   "source": [
    "# Задание 17. Пары чисел\n",
    "\n",
    "*Леонтьев Михаил, 2024*"
   ]
  },
  {
   "cell_type": "code",
   "execution_count": 16,
   "id": "51b74380",
   "metadata": {
    "slideshow": {
     "slide_type": "skip"
    }
   },
   "outputs": [
    {
     "data": {
      "text/plain": [
       "('17_4.txt', <http.client.HTTPMessage at 0x15897b85f10>)"
      ]
     },
     "execution_count": 16,
     "metadata": {},
     "output_type": "execute_result"
    }
   ],
   "source": [
    "import urllib.request\n",
    "urllib.request.urlretrieve(\"https://inf-ege.sdamgia.ru/get_file?id=91146\", \"17_1.txt\")\n",
    "urllib.request.urlretrieve(\"https://inf-ege.sdamgia.ru/get_file?id=91147\", \"17_2.txt\")\n",
    "urllib.request.urlretrieve(\"https://inf-ege.sdamgia.ru/get_file?id=113796\", \"17_3.txt\")\n",
    "urllib.request.urlretrieve(\"https://inf-ege.sdamgia.ru/get_file?id=122548\", \"17_4.txt\")"
   ]
  },
  {
   "cell_type": "markdown",
   "id": "41d13d53",
   "metadata": {
    "slideshow": {
     "slide_type": "slide"
    }
   },
   "source": [
    "## Примеры"
   ]
  },
  {
   "cell_type": "markdown",
   "id": "7d5e3f0e",
   "metadata": {
    "slideshow": {
     "slide_type": "subslide"
    }
   },
   "source": [
    "### Пример 1 \n",
    "\n",
    "В файле содержится последовательность целых чисел. Элементы последовательности могут принимать целые значения от −10 000 до 10 000 включительно. Определите и запишите в ответе сначала количество пар элементов последовательности, в которых хотя бы одно число делится на 3, затем максимальную из сумм элементов таких пар. В данной задаче под парой подразумевается два идущих подряд элемента последовательности. Например, для последовательности из пяти элементов: 6; 2; 9; –3; 6  — ответ: 4 11."
   ]
  },
  {
   "cell_type": "code",
   "execution_count": 7,
   "id": "32b4b2b7",
   "metadata": {},
   "outputs": [
    {
     "name": "stdout",
     "output_type": "stream",
     "text": [
      "2802 1990\n"
     ]
    }
   ],
   "source": [
    "# открываем файл\n",
    "import sys\n",
    "sys.stdin = open(r\"17_1.txt\")\n",
    "\n",
    "# считываем список чисел\n",
    "a = [int(line) for line in sys.stdin]\n",
    "\n",
    "cnt = 0\n",
    "max_s = float(\"-inf\") # минус бесконечность\n",
    "\n",
    "# переберём пары вида (i, i + 1)\n",
    "for i in range(len(a) - 1):\n",
    "    if (a[i] % 3 == 0) or (a[i + 1] % 3 == 0):\n",
    "        cnt += 1\n",
    "        max_s = max(max_s, a[i] + a[i + 1])\n",
    "\n",
    "print(cnt, max_s)"
   ]
  },
  {
   "cell_type": "markdown",
   "id": "27250510",
   "metadata": {
    "slideshow": {
     "slide_type": "subslide"
    }
   },
   "source": [
    "### Пример 2\n",
    "\n",
    "В файле содержится последовательность из 10 000 натуральных чисел. Каждое число не превышает 10 000. Определите и запишите в ответе сначала количество пар элементов последовательности, у которых различные остатки от деления на d  =  160 и хотя бы одно из чисел делится на p  =  7, затем максимальную из сумм элементов таких пар. В данной задаче под парой подразумевается два различных элемента последовательности. Порядок элементов в паре не важен.\n",
    "\n",
    "Пример входных данных:\n",
    "\n",
    "168\n",
    "\n",
    "7\n",
    "\n",
    "320\n",
    "\n",
    "328\n",
    "\n",
    "Пример выходных данных для приведённого выше примера входных данных:\n",
    "\n",
    "4 488\n",
    "\n",
    "Пояснение: Из 4 чисел можно составить 6 пар. В данном случае условиям удовлетворяют пары: 168 и 320, 168 и 7, 320 и 7, 328 и 7. Максимальную сумму дает пара 168 и 320  — 488."
   ]
  },
  {
   "cell_type": "code",
   "execution_count": 10,
   "id": "44075bd3",
   "metadata": {},
   "outputs": [
    {
     "name": "stdout",
     "output_type": "stream",
     "text": [
      "12749665 19989\n"
     ]
    }
   ],
   "source": [
    "# открываем файл\n",
    "import sys\n",
    "sys.stdin = open(r\"17_2.txt\")\n",
    "\n",
    "# считываем список чисел\n",
    "a = [int(line) for line in sys.stdin]\n",
    "\n",
    "# матрица кол-ва элементов\n",
    "m1 = [[0] * 2 for _ in range(160)]\n",
    "# матрица максимальных значений\n",
    "m2 = [[float(\"-inf\")] * 2 for _ in range(160)]\n",
    "\n",
    "for i in range(len(a)):\n",
    "    # int(a[i] % 7 == 0) равна 1, если число делится на 7, иначе 0\n",
    "    m1[a[i] % 160][int(a[i] % 7 == 0)] += 1\n",
    "    m2[a[i] % 160][int(a[i] % 7 == 0)] = max(m2[a[i] % 160][int(a[i] % 7 == 0)], a[i])\n",
    "\n",
    "cnt = 0\n",
    "res = float(\"-inf\")\n",
    "\n",
    "# учитываем все пары, в которых только 1 число делится на 7\n",
    "for i in range(160):\n",
    "    for j in range(160):\n",
    "        if i != j:\n",
    "            cnt += m1[i][1] * m1[j][0]\n",
    "            res = max(res, m2[i][1] + m2[j][0])\n",
    "\n",
    "# теперь пары, в которых оба числа делятся на 7\n",
    "for i in range(160):\n",
    "    # начинаем только с бОльших остатков, так как раньше мы учли пары с меньшими\n",
    "    for j in range(i + 1, 160):\n",
    "        cnt += m1[i][1] * m1[j][1]\n",
    "        res = max(res, m2[i][1] + m2[j][1])\n",
    "\n",
    "print(cnt, res)"
   ]
  },
  {
   "cell_type": "code",
   "execution_count": 13,
   "id": "985d5666",
   "metadata": {},
   "outputs": [
    {
     "name": "stdout",
     "output_type": "stream",
     "text": [
      "12749665 19989\n"
     ]
    }
   ],
   "source": [
    "# открываем файл\n",
    "import sys\n",
    "sys.stdin = open(r\"17_2.txt\")\n",
    "\n",
    "# считываем список чисел\n",
    "a = [int(line) for line in sys.stdin]\n",
    "\n",
    "cnt = 0\n",
    "res = float(\"-inf\")\n",
    "\n",
    "for i in range(len(a)):\n",
    "    for j in range(i + 1, len(a)):\n",
    "        if a[i] % 7 == 0 or a[j] % 7 == 0:\n",
    "            if a[i] % 160 != a[j] % 160:\n",
    "                cnt += 1\n",
    "                res = max(res, a[i] + a[j])\n",
    "\n",
    "print(cnt, res)"
   ]
  },
  {
   "cell_type": "markdown",
   "id": "5669356c",
   "metadata": {
    "slideshow": {
     "slide_type": "subslide"
    }
   },
   "source": [
    "### Пример 3\n",
    "\n",
    "Файл содержит последовательность неотрицательных целых чисел, не превышающих 10 000. Назовём парой два идущих подряд элемента последовательности. Определите количество пар, в которых один из двух элементов делится на 5, а другой меньше среднего арифметического всех нечётных элементов последовательности. В ответе запишите два числа: сначала количество найденных пар, а затем  — максимальную сумму элементов таких пар.\n",
    "\n",
    "Например, в последовательности (8 10 2 7 5 1) есть две подходящие пары: (10 2) и (5 1), в ответе для этой последовательности надо записать числа 2 и 12."
   ]
  },
  {
   "cell_type": "code",
   "execution_count": 15,
   "id": "86d3a5ba",
   "metadata": {},
   "outputs": [
    {
     "name": "stdout",
     "output_type": "stream",
     "text": [
      "1061 14847\n"
     ]
    }
   ],
   "source": [
    "# открываем файл\n",
    "import sys\n",
    "sys.stdin = open(r\"17_3.txt\")\n",
    "\n",
    "# считываем список чисел\n",
    "a = [int(line) for line in sys.stdin]\n",
    "\n",
    "b = []\n",
    "for i in range(len(a)):\n",
    "    if a[i] % 2 == 1:\n",
    "        b.append(a[i])\n",
    "        \n",
    "X = sum(b) / len(b)\n",
    "\n",
    "cnt = 0\n",
    "res = float(\"-inf\")\n",
    "\n",
    "for i in range(len(a) - 1):\n",
    "    if a[i] % 5 == 0 and a[i + 1] < X:\n",
    "        cnt += 1\n",
    "        res = max(res, a[i] + a[i + 1])\n",
    "    elif a[i + 1] % 5 == 0 and a[i] < X:\n",
    "        cnt += 1\n",
    "        res = max(res, a[i] + a[i + 1])\n",
    "\n",
    "print(cnt, res)"
   ]
  },
  {
   "cell_type": "markdown",
   "id": "dfe9e2c5",
   "metadata": {
    "slideshow": {
     "slide_type": "subslide"
    }
   },
   "source": [
    "### Пример 4\n",
    "\n",
    "Файл содержит последовательность целых чисел, по модулю не превышающих 10 000. Назовём парой два идущих подряд элемента последовательности.\n",
    "\n",
    "Определите количество таких пар, в которых запись меньшего элемента заканчивается цифрой 5, а сумма квадратов элементов пары меньше, чем квадрат наименьшего из элементов последовательности, запись которых заканчивается цифрой 5. В ответе запишите два числа: сначала количество найденных пар, затем максимальную сумму квадратов элементов этих пар."
   ]
  },
  {
   "cell_type": "code",
   "execution_count": 15,
   "id": "a6ff5d1b",
   "metadata": {},
   "outputs": [
    {
     "name": "stdout",
     "output_type": "stream",
     "text": [
      "1061 14847\n"
     ]
    }
   ],
   "source": [
    "# открываем файл\n",
    "import sys\n",
    "sys.stdin = open(r\"17_4.txt\")\n",
    "\n",
    "# считываем список чисел\n",
    "a = [int(line) for line in sys.stdin]\n",
    "\n",
    "b = []\n",
    "for i in range(len(a)):\n",
    "    if a[i] % 2 == 1:\n",
    "        b.append(a[i])\n",
    "        \n",
    "X = sum(b) / len(b)\n",
    "\n",
    "cnt = 0\n",
    "res = float(\"-inf\")\n",
    "\n",
    "for i in range(len(a) - 1):\n",
    "    if a[i] % 5 == 0 and a[i + 1] < X:\n",
    "        cnt += 1\n",
    "        res = max(res, a[i] + a[i + 1])\n",
    "    elif a[i + 1] % 5 == 0 and a[i] < X:\n",
    "        cnt += 1\n",
    "        res = max(res, a[i] + a[i + 1])\n",
    "\n",
    "print(cnt, res)"
   ]
  }
 ],
 "metadata": {
  "celltoolbar": "Слайд-шоу",
  "kernelspec": {
   "display_name": "Python 3 (ipykernel)",
   "language": "python",
   "name": "python3"
  },
  "language_info": {
   "codemirror_mode": {
    "name": "ipython",
    "version": 3
   },
   "file_extension": ".py",
   "mimetype": "text/x-python",
   "name": "python",
   "nbconvert_exporter": "python",
   "pygments_lexer": "ipython3",
   "version": "3.11.5"
  },
  "rise": {
   "enable_chalkboard": true,
   "scroll": true
  }
 },
 "nbformat": 4,
 "nbformat_minor": 5
}
