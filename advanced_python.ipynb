{
 "cells": [
  {
   "cell_type": "markdown",
   "id": "557354ff",
   "metadata": {
    "slideshow": {
     "slide_type": "slide"
    }
   },
   "source": [
    "# Продвинутый Python\n",
    "\n",
    "*Леонтьев Михаил, 2024*"
   ]
  },
  {
   "cell_type": "markdown",
   "id": "8722d9b8",
   "metadata": {
    "slideshow": {
     "slide_type": "slide"
    }
   },
   "source": [
    "## Функции\n",
    "\n",
    "Иногда для работы нашей программы нужны подпрограммы, которые бы мы могли несколько раз использовать в разных местах. Для этого и нужны функции."
   ]
  },
  {
   "cell_type": "code",
   "execution_count": 5,
   "id": "b30bede2",
   "metadata": {},
   "outputs": [
    {
     "name": "stdout",
     "output_type": "stream",
     "text": [
      "Hello, Миша Леонтьев\n",
      "\n",
      "Hello, Misha Leontjev\n"
     ]
    }
   ],
   "source": [
    "# Наша первая функция будет просто выводить наши имя-фамилию\n",
    "\n",
    "# объявляем функцию print_name с двумя параметрами: first_name и surname\n",
    "def print_name(first_name, surname):\n",
    "    print(\"Hello,\", first_name, surname)\n",
    "\n",
    "# вызываем функцию\n",
    "print_name(\"Миша\", \"Леонтьев\")\n",
    "\n",
    "# ...другой код...\n",
    "print()\n",
    "# ...другой код...\n",
    "\n",
    "# Можем ещё раз вызвать её с другими параметрами (но их кол-во должно совпадать)\n",
    "print_name(\"Misha\", \"Leontjev\")"
   ]
  },
  {
   "cell_type": "code",
   "execution_count": 8,
   "id": "01b1f573",
   "metadata": {
    "slideshow": {
     "slide_type": "subslide"
    }
   },
   "outputs": [
    {
     "name": "stdout",
     "output_type": "stream",
     "text": [
      "x\ty\n",
      "-5\t25\n",
      "-4\t16\n",
      "-3\t9\n",
      "-2\t4\n",
      "-1\t1\n",
      "0\t0\n",
      "1\t1\n",
      "2\t4\n",
      "3\t9\n",
      "4\t16\n",
      "5\t25\n"
     ]
    }
   ],
   "source": [
    "# к слову, мы можем задать функцию в привычном, алгебраическом понимании\n",
    "\n",
    "def f(x): # функция, которая представляет собой параболическую кривую на графике\n",
    "    return x ** 2\n",
    "\n",
    "# напечатаем таблицу значений этой функции\n",
    "print(\"x\", \"y\", sep=\"\\t\")\n",
    "for x in range(-5, 6):\n",
    "    print(x, f(x), sep=\"\\t\")\n",
    "    \n",
    "# Примечание: \\t в строке означает символ табуляции (как пробел, но работает чуть сложнее).\n",
    "# А sep=\"\\t\" означает, что вместо пробела в print мы хотим ставить \\t между значениями"
   ]
  },
  {
   "cell_type": "markdown",
   "id": "129e1c81",
   "metadata": {
    "slideshow": {
     "slide_type": "slide"
    }
   },
   "source": [
    "## Отрицательная индексация\n",
    "\n",
    "Кроме прямой индексации (то есть 0, 1, 2..., len(a) - 1) есть также обратная индексация, которая позволяет обращаться к элементам в обратном порядке. Такая индексация начинается с -1 (-1, -2, ..., -len(a))."
   ]
  },
  {
   "cell_type": "code",
   "execution_count": 7,
   "id": "39b550a2",
   "metadata": {},
   "outputs": [
    {
     "name": "stdout",
     "output_type": "stream",
     "text": [
      "a = [1, 2, 3, 4, 5]\n",
      "--------------------------------------------\n",
      "Прямая индексация\n",
      "a[0] = 1\n",
      "a[1] = 2\n",
      "...\n",
      "a[len(a) - 1] = 5\n",
      "--------------------------------------------\n",
      "Обратная индексация\n",
      "a[-1] = 5\n",
      "a[-2] = 4\n",
      "...\n",
      "a[-len(a)] = 1\n"
     ]
    }
   ],
   "source": [
    "a = [1, 2, 3, 4, 5]\n",
    "print(\"a =\", a)\n",
    "print(\"--------------------------------------------\")\n",
    "\n",
    "print(\"Прямая индексация\")\n",
    "print(\"a[0] =\", a[0])\n",
    "print(\"a[1] =\", a[1])\n",
    "print(\"...\")\n",
    "print(\"a[len(a) - 1] =\", a[len(a) - 1])\n",
    "\n",
    "print(\"--------------------------------------------\")\n",
    "\n",
    "print(\"Обратная индексация\")\n",
    "print(\"a[-1] =\", a[-1])\n",
    "print(\"a[-2] =\", a[-2])\n",
    "print(\"...\")\n",
    "print(\"a[-len(a)] =\", a[-len(a)])"
   ]
  },
  {
   "cell_type": "markdown",
   "id": "8c99bdcd",
   "metadata": {
    "slideshow": {
     "slide_type": "slide"
    }
   },
   "source": [
    "## Работа со списками"
   ]
  },
  {
   "cell_type": "code",
   "execution_count": 9,
   "id": "c6eeb06a",
   "metadata": {},
   "outputs": [
    {
     "data": {
      "text/plain": [
       "[2, 3, 4, 5]"
      ]
     },
     "execution_count": 9,
     "metadata": {},
     "output_type": "execute_result"
    }
   ],
   "source": [
    "# удалить элемент по индексу\n",
    "a = [1, 2, 3, 4, 5]\n",
    "a.pop(0)\n",
    "a"
   ]
  },
  {
   "cell_type": "code",
   "execution_count": 10,
   "id": "8bce5efc",
   "metadata": {},
   "outputs": [
    {
     "data": {
      "text/plain": [
       "['1', '2', '3', '4', '5']"
      ]
     },
     "execution_count": 10,
     "metadata": {},
     "output_type": "execute_result"
    }
   ],
   "source": [
    "# перевод из строки в список\n",
    "s = \"12345\"\n",
    "\n",
    "a = list(s)\n",
    "a"
   ]
  },
  {
   "cell_type": "code",
   "execution_count": 11,
   "id": "46d060f5",
   "metadata": {},
   "outputs": [
    {
     "data": {
      "text/plain": [
       "'12345'"
      ]
     },
     "execution_count": 11,
     "metadata": {},
     "output_type": "execute_result"
    }
   ],
   "source": [
    "# перевод из списка в строку\n",
    "\"\".join(a)"
   ]
  }
 ],
 "metadata": {
  "celltoolbar": "Слайд-шоу",
  "kernelspec": {
   "display_name": "Python 3 (ipykernel)",
   "language": "python",
   "name": "python3"
  },
  "language_info": {
   "codemirror_mode": {
    "name": "ipython",
    "version": 3
   },
   "file_extension": ".py",
   "mimetype": "text/x-python",
   "name": "python",
   "nbconvert_exporter": "python",
   "pygments_lexer": "ipython3",
   "version": "3.11.5"
  },
  "rise": {
   "enable_chalkboard": true,
   "scroll": true
  }
 },
 "nbformat": 4,
 "nbformat_minor": 5
}
