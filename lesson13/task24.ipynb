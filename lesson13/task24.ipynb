{
 "cells": [
  {
   "cell_type": "markdown",
   "id": "c5373b08",
   "metadata": {
    "slideshow": {
     "slide_type": "slide"
    }
   },
   "source": [
    "# Задание 24. Простые случаи\n",
    "\n",
    "*Леонтьев Михаил, 2024*"
   ]
  },
  {
   "cell_type": "markdown",
   "id": "8a9574ad",
   "metadata": {
    "slideshow": {
     "slide_type": "slide"
    }
   },
   "source": [
    "## Примеры"
   ]
  },
  {
   "cell_type": "markdown",
   "id": "d5370823",
   "metadata": {
    "slideshow": {
     "slide_type": "subslide"
    }
   },
   "source": [
    "### Пример 1\n",
    "\n",
    "В текстовом файле находится цепочка из малых символов латинского алфавита. Найдите длину самой длинной подцепочки, состоящей из символов a."
   ]
  },
  {
   "cell_type": "code",
   "execution_count": 3,
   "id": "807ef7c0",
   "metadata": {},
   "outputs": [
    {
     "name": "stdout",
     "output_type": "stream",
     "text": [
      "30\n"
     ]
    }
   ],
   "source": [
    "# читаем строку из файла\n",
    "s = open(r\"task1.txt\").readline().strip()\n",
    "\n",
    "# переменная для ответа\n",
    "res = 0\n",
    "# наидлиннейшая последовательность, заканчивающаяся в i\n",
    "cur = 0\n",
    "for i in range(len(s)):\n",
    "    # обновляем cur\n",
    "    if s[i] == \"a\":\n",
    "        cur += 1\n",
    "    else:\n",
    "        cur = 0\n",
    "    \n",
    "    res = max(res, cur)\n",
    "\n",
    "print(res)"
   ]
  },
  {
   "cell_type": "markdown",
   "id": "6767a25c",
   "metadata": {
    "slideshow": {
     "slide_type": "subslide"
    }
   },
   "source": [
    "### Пример 2\n",
    "\n",
    "В текстовом файле находится цепочка из символов, в которую могут входить заглавные буквы латинского алфавита A…Z и десятичные цифры. Найдите длину самой длинной подцепочки, состоящей из одинаковых символов. Если в файле несколько цепочек одинаковой длины, нужно взять первую из них. Выведите сначала символ, из которого строится эта подцепочка, а затем без пробела – длину этой подцепочки."
   ]
  },
  {
   "cell_type": "code",
   "execution_count": 6,
   "id": "2fda18c7",
   "metadata": {},
   "outputs": [
    {
     "name": "stdout",
     "output_type": "stream",
     "text": [
      "W4\n"
     ]
    }
   ],
   "source": [
    "# читаем строку из файла\n",
    "s = open(r\"task2.txt\").readline().strip()\n",
    "\n",
    "# переменная для ответа\n",
    "res = 0\n",
    "res_char = \"A\"\n",
    "# наидлиннейшая последовательность, заканчивающаяся в i\n",
    "cur = 0\n",
    "for i in range(len(s)):\n",
    "    # обновляем cur\n",
    "    if i > 0 and s[i] == s[i - 1]:\n",
    "        cur += 1\n",
    "    else:\n",
    "        cur = 1\n",
    "    \n",
    "    if res < cur:\n",
    "        res = cur\n",
    "        res_char = s[i]\n",
    "\n",
    "print(res_char, res, sep=\"\")"
   ]
  },
  {
   "cell_type": "markdown",
   "id": "af949205",
   "metadata": {
    "slideshow": {
     "slide_type": "subslide"
    }
   },
   "source": [
    "### Пример 3\n",
    "\n",
    "Текстовый файл состоит не более чем из $10^6$ символов. Определите максимальное количество идущих подряд символов, среди которых каждые два соседних различны."
   ]
  },
  {
   "cell_type": "code",
   "execution_count": 9,
   "id": "7b91736a",
   "metadata": {},
   "outputs": [
    {
     "name": "stdout",
     "output_type": "stream",
     "text": [
      "159\n"
     ]
    }
   ],
   "source": [
    "# читаем строку из файла\n",
    "s = open(r\"task3.txt\").readline().strip()\n",
    "\n",
    "# переменная для ответа\n",
    "res = 0\n",
    "# наидлиннейшая последовательность, заканчивающаяся в i\n",
    "cur = 0\n",
    "for i in range(len(s)):\n",
    "    # обновляем cur\n",
    "    if i > 0 and s[i] != s[i - 1]:\n",
    "        cur += 1\n",
    "    else:\n",
    "        cur = 1\n",
    "    \n",
    "    res = max(res, cur)\n",
    "\n",
    "print(res)"
   ]
  },
  {
   "cell_type": "markdown",
   "id": "dc4021c7",
   "metadata": {
    "slideshow": {
     "slide_type": "subslide"
    }
   },
   "source": [
    "### Пример 4\n",
    "\n",
    "Текстовый файл состоит не более чем из 1 200 000 символов X, Y, и Z. Определите максимальное количество идущих подряд символов, среди которых нет подстроки XZZY. Для выполнения этого задания следует написать программу. Ниже приведён файл, который необходимо обработать с помощью данного алгоритма."
   ]
  },
  {
   "cell_type": "code",
   "execution_count": 11,
   "id": "c2757f0c",
   "metadata": {},
   "outputs": [
    {
     "name": "stdout",
     "output_type": "stream",
     "text": [
      "1713\n"
     ]
    }
   ],
   "source": [
    "# читаем строку из файла\n",
    "s = open(r\"task4.txt\").readline().strip()\n",
    "\n",
    "# переменная для ответа\n",
    "res = 0\n",
    "# наидлиннейшая последовательность, заканчивающаяся в i\n",
    "cur = 0\n",
    "for i in range(len(s)):\n",
    "    # обновляем cur\n",
    "    if i < 3 or s[i - 3:i + 1] != \"XZZY\":\n",
    "        cur += 1\n",
    "    else:\n",
    "        cur = 3\n",
    "    \n",
    "    res = max(res, cur)\n",
    "\n",
    "print(res)"
   ]
  },
  {
   "cell_type": "markdown",
   "id": "12532332",
   "metadata": {
    "slideshow": {
     "slide_type": "subslide"
    }
   },
   "source": [
    "### Пример 5\n",
    "\n",
    "Текстовый файл состоит не более чем из $10^6$ символов X, Y и Z. Определите максимальную длину цепочки вида XYZXYZXYZ... (составленной из фрагментов XYZ, последний фрагмент может быть неполным)."
   ]
  },
  {
   "cell_type": "code",
   "execution_count": 13,
   "id": "93c87e74",
   "metadata": {},
   "outputs": [
    {
     "name": "stdout",
     "output_type": "stream",
     "text": [
      "13\n"
     ]
    }
   ],
   "source": [
    "# читаем строку из файла\n",
    "s = open(r\"task5.txt\").readline().strip()\n",
    "\n",
    "# переменная для ответа\n",
    "res = 0\n",
    "# наидлиннейшая последовательность, заканчивающаяся в i\n",
    "cur = 0\n",
    "for i in range(len(s)):\n",
    "    # обновляем cur\n",
    "    if (i > 0) and s[i - 1:i + 1] in (\"XY\", \"YZ\", \"ZX\"):\n",
    "        cur += 1\n",
    "    else:\n",
    "        cur = int(s[i] == \"X\")\n",
    "    \n",
    "    res = max(res, cur)\n",
    "\n",
    "print(res)"
   ]
  }
 ],
 "metadata": {
  "celltoolbar": "Слайд-шоу",
  "kernelspec": {
   "display_name": "Python 3 (ipykernel)",
   "language": "python",
   "name": "python3"
  },
  "language_info": {
   "codemirror_mode": {
    "name": "ipython",
    "version": 3
   },
   "file_extension": ".py",
   "mimetype": "text/x-python",
   "name": "python",
   "nbconvert_exporter": "python",
   "pygments_lexer": "ipython3",
   "version": "3.11.5"
  },
  "rise": {
   "enable_chalkboard": true,
   "scroll": true
  }
 },
 "nbformat": 4,
 "nbformat_minor": 5
}
