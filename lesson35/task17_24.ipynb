{
  "cells": [
    {
      "cell_type": "markdown",
      "metadata": {
        "collapsed": false,
        "jupyter": {
          "outputs_hidden": false
        },
        "id": "MH_l1emZo3r9"
      },
      "source": [
        "# Повторение №17, №24\n",
        "\n",
        "*Леонтьев Михаил, 2025*"
      ]
    },
    {
      "cell_type": "markdown",
      "metadata": {
        "id": "ShGDNGZ3o3sC"
      },
      "source": [
        "# Примеры\n",
        "\n",
        "[Подборка](https://education.yandex.ru/ege/collections/82f68a15-4741-4f33-a7b2-a019e5801f45/task/1?start=1)"
      ]
    },
    {
      "cell_type": "markdown",
      "source": [
        "## Задание 17"
      ],
      "metadata": {
        "id": "T3jbYkfQpC36"
      }
    }
  ],
  "metadata": {
    "kernelspec": {
      "display_name": "Python 3 (ipykernel)",
      "language": "python",
      "name": "python3"
    },
    "language_info": {
      "codemirror_mode": {
        "name": "ipython",
        "version": 3
      },
      "file_extension": ".py",
      "mimetype": "text/x-python",
      "name": "python",
      "nbconvert_exporter": "python",
      "pygments_lexer": "ipython3",
      "version": "3.12.4"
    },
    "colab": {
      "provenance": []
    }
  },
  "nbformat": 4,
  "nbformat_minor": 0
}