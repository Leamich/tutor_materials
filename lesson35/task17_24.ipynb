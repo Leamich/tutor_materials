{
  "cells": [
    {
      "cell_type": "markdown",
      "metadata": {
        "collapsed": false,
        "jupyter": {
          "outputs_hidden": false
        },
        "id": "MH_l1emZo3r9"
      },
      "source": [
        "# Повторение №17, №24\n",
        "\n",
        "*Леонтьев Михаил, 2025*"
      ]
    },
    {
      "cell_type": "markdown",
      "metadata": {
        "id": "ShGDNGZ3o3sC"
      },
      "source": [
        "# Примеры\n",
        "\n",
        "[Подборка](https://education.yandex.ru/ege/collections/82f68a15-4741-4f33-a7b2-a019e5801f45/task/1?start=1)"
      ]
    },
    {
      "cell_type": "markdown",
      "source": [
        "## Задание 17"
      ],
      "metadata": {
        "id": "T3jbYkfQpC36"
      }
    },
    {
      "cell_type": "markdown",
      "source": [
        "## Задание 24"
      ],
      "metadata": {
        "id": "FqaR7a_sNzjd"
      }
    },
    {
      "cell_type": "markdown",
      "source": [
        "В текстовом файле набраны в разных комбинациях заглавные буквы латинского алфавита A, B, C, D, E и F.\n",
        "\n",
        "Определите максимальное количество идущих подряд символов в прилагаемом файле, среди которых пара символов вида\n",
        "\n",
        "гласная + согласная\n",
        "\n",
        "(в указанном порядке) встречается не более 130 раз.\n",
        "\n",
        "Чтобы выполнить это задание, следует написать программу."
      ],
      "metadata": {
        "id": "aLnMOIHkN2db"
      }
    },
    {
      "cell_type": "code",
      "source": [
        "# Доступен файл для чтения: 24.txt\n",
        "import sys\n",
        "sys.stdin = open(\"24.txt\")\n",
        "\n",
        "a = input()\n",
        "a = a.replace(\"C\", \"B\").replace(\"D\", \"B\").replace(\"E\", \"A\").replace(\"F\", \"B\")\n",
        "a = a.replace(\"AB\", \"A#B\")\n",
        "\n",
        "# [l;r)\n",
        "r = 0\n",
        "n = len(a)\n",
        "cnt = 0\n",
        "maxx = 0\n",
        "for l in range(n):\n",
        "  if l > 0 and a[l - 1] == '#':\n",
        "    cnt -= 1\n",
        "  while r < n:\n",
        "    if (a[r] == '#' and cnt < 130) or (a[r] != '#'):\n",
        "      r += 1\n",
        "      cnt += int(a[r - 1] == '#')\n",
        "    else:\n",
        "      break\n",
        "  maxx = max(maxx, r - l)\n",
        "\n",
        "print(maxx - 130)"
      ],
      "metadata": {
        "id": "v9IbilixN1il"
      },
      "execution_count": null,
      "outputs": []
    }
  ],
  "metadata": {
    "kernelspec": {
      "display_name": "Python 3 (ipykernel)",
      "language": "python",
      "name": "python3"
    },
    "language_info": {
      "codemirror_mode": {
        "name": "ipython",
        "version": 3
      },
      "file_extension": ".py",
      "mimetype": "text/x-python",
      "name": "python",
      "nbconvert_exporter": "python",
      "pygments_lexer": "ipython3",
      "version": "3.12.4"
    },
    "colab": {
      "provenance": []
    }
  },
  "nbformat": 4,
  "nbformat_minor": 0
}