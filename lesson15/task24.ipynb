{
 "cells": [
  {
   "cell_type": "markdown",
   "id": "c5373b08",
   "metadata": {
    "slideshow": {
     "slide_type": "slide"
    }
   },
   "source": [
    "# Задание 24. split-replace\n",
    "\n",
    "*Леонтьев Михаил, 2024*"
   ]
  },
  {
   "cell_type": "markdown",
   "id": "8a9574ad",
   "metadata": {
    "slideshow": {
     "slide_type": "slide"
    }
   },
   "source": [
    "## Примеры"
   ]
  },
  {
   "cell_type": "markdown",
   "id": "d5370823",
   "metadata": {
    "slideshow": {
     "slide_type": "subslide"
    }
   },
   "source": [
    "### Пример 1\n",
    "\n",
    "В текстовом файле находится цепочка из символов латинского алфавита A, B, C. Найдите длину самой длинной подцепочки, состоящей из символов B."
   ]
  },
  {
   "cell_type": "code",
   "execution_count": 3,
   "id": "807ef7c0",
   "metadata": {},
   "outputs": [
    {
     "name": "stdout",
     "output_type": "stream",
     "text": [
      "7\n"
     ]
    }
   ],
   "source": [
    "# читаем строку из файла\n",
    "s = open(r\"task1.txt\").readline().strip()\n",
    "\n",
    "# заменяем все символы кроме В на пробелы\n",
    "s = s.replace(\"C\", \" \").replace(\"A\", \" \")\n",
    "\n",
    "# разделяем строку по пробельным символам (причём без пустых строк)\n",
    "s = s.split()\n",
    "\n",
    "# выводим самую длинную строку\n",
    "print(max(map(len, s)))"
   ]
  },
  {
   "cell_type": "markdown",
   "id": "6767a25c",
   "metadata": {
    "slideshow": {
     "slide_type": "subslide"
    }
   },
   "source": [
    "### Пример 2\n",
    "\n",
    "Текстовый файл состоит из символов, обозначающих заглавные буквы латинского алфавита и цифры от 1 до 9 включительно. Определите в прилагаемом файле максимальное количество идущих подряд символов, которые могут представлять запись числа в шестнадцатеричной системе счисления.\n",
    "\n",
    "Для выполнения этого задания следует написать программу.\n",
    "\n",
    "Примечание. Цифры, числовое значение которых превышает 9, обозначены латинскими буквами, начиная с буквы А."
   ]
  },
  {
   "cell_type": "code",
   "execution_count": 9,
   "id": "2fda18c7",
   "metadata": {},
   "outputs": [
    {
     "name": "stdout",
     "output_type": "stream",
     "text": [
      "21\n"
     ]
    }
   ],
   "source": [
    "# читаем строку из файла\n",
    "s = open(r\"task2.txt\").readline().strip()\n",
    "\n",
    "# заменяем все символы кроме 1-9 и A-G на пробелы\n",
    "for c in \"QWRTYUIOPSHJKLZXVNGM\":\n",
    "    s = s.replace(c, \" \")\n",
    "\n",
    "# разделяем строку по пробельным символам (причём без пустых строк)\n",
    "s = s.split()\n",
    "\n",
    "# выводим самую длинную строку\n",
    "print(max(map(len, s)))"
   ]
  },
  {
   "cell_type": "markdown",
   "id": "af949205",
   "metadata": {
    "slideshow": {
     "slide_type": "subslide"
    }
   },
   "source": [
    "### Пример 3\n",
    "\n",
    "Текстовый файл содержит только заглавные буквы латинского алфавита (ABC...Z). Определите максимальное количество идущих подряд символов, среди которых нет сочетания символов PPP."
   ]
  },
  {
   "cell_type": "code",
   "execution_count": 14,
   "id": "7b91736a",
   "metadata": {},
   "outputs": [
    {
     "name": "stdout",
     "output_type": "stream",
     "text": [
      "79989\n"
     ]
    }
   ],
   "source": [
    "## ШАБЛОН (правильный replace)\n",
    "def replaces(s, p, pp):\n",
    "    while p in s:\n",
    "        s = s.replace(p, pp)\n",
    "    return s\n",
    "## КОНЕЦ ШАБЛОНА\n",
    "\n",
    "# читаем строку из файла\n",
    "s = open(r\"task3.txt\").readline().strip()\n",
    "\n",
    "s = replaces(s, \"PPP\", \"PP PP\")\n",
    "\n",
    "# разделяем строку по пробельным символам (причём без пустых строк)\n",
    "s = s.split()\n",
    "\n",
    "# выводим самую длинную строку\n",
    "print(max(map(len, s)))"
   ]
  },
  {
   "cell_type": "markdown",
   "id": "c9345992",
   "metadata": {
    "slideshow": {
     "slide_type": "subslide"
    }
   },
   "source": [
    "### Пример 4\n",
    "\n",
    "Текстовый файл содержит строку из заглавных латинских букв X, Y и Z, всего не более чем из $10^6$ символов. Определите максимальное количество идущих подряд пар символов ZX или ZY."
   ]
  },
  {
   "cell_type": "code",
   "execution_count": 16,
   "id": "52de7fab",
   "metadata": {},
   "outputs": [
    {
     "name": "stdout",
     "output_type": "stream",
     "text": [
      "177\n"
     ]
    }
   ],
   "source": [
    "# читаем строку из файла\n",
    "s = open(r\"task4.txt\").readline().strip()\n",
    "\n",
    "# для удобства заменим нужные нам пары на спец символы (которых нет в оригинальном файле)\n",
    "s = s.replace(\"ZX\", \"*\").replace(\"ZY\", \"*\")\n",
    "\n",
    "# теперь заменяем оставшиеся символы на пробелы\n",
    "s = s.replace(\"X\", \" \").replace(\"Y\", \" \").replace(\"Z\", \" \")\n",
    "\n",
    "# разделяем строку по пробельным символам (причём без пустых строк)\n",
    "s = s.split()\n",
    "\n",
    "# выводим самую длинную строку\n",
    "print(max(map(len, s)))"
   ]
  },
  {
   "cell_type": "markdown",
   "id": "ecaa58e2",
   "metadata": {
    "slideshow": {
     "slide_type": "subslide"
    }
   },
   "source": [
    "### Пример 5\n",
    "\n",
    "Текстовый файл содержит строку из символов A, B, C и цифр 1, 2, 3, всего не более чем $10^6$ символов. Определите максимальное количество идущих подряд троек символов вида «буква + цифра + цифра». "
   ]
  },
  {
   "cell_type": "code",
   "execution_count": 18,
   "id": "5af548b6",
   "metadata": {},
   "outputs": [
    {
     "name": "stdout",
     "output_type": "stream",
     "text": [
      "165\n"
     ]
    }
   ],
   "source": [
    "# читаем строку из файла\n",
    "s = open(r\"task5.txt\").readline().strip()\n",
    "\n",
    "# пусть все буквы будут А\n",
    "s = s.replace(\"B\", \"A\").replace(\"C\", \"A\")\n",
    "# а цифры - 1\n",
    "s = s.replace(\"2\", \"1\").replace(\"3\", \"1\")\n",
    "\n",
    "# для удобства заменим нужные нам тройки на спец символы (которых нет в оригинальном файле)\n",
    "s = s.replace(\"A11\", \"*\")\n",
    "\n",
    "# теперь заменяем оставшиеся символы на пробелы\n",
    "s = s.replace(\"A\", \" \").replace(\"1\", \" \")\n",
    "\n",
    "# разделяем строку по пробельным символам (причём без пустых строк)\n",
    "s = s.split()\n",
    "\n",
    "# выводим самую длинную строку\n",
    "print(max(map(len, s)))"
   ]
  }
 ],
 "metadata": {
  "celltoolbar": "Слайд-шоу",
  "kernelspec": {
   "display_name": "Python 3 (ipykernel)",
   "language": "python",
   "name": "python3"
  },
  "language_info": {
   "codemirror_mode": {
    "name": "ipython",
    "version": 3
   },
   "file_extension": ".py",
   "mimetype": "text/x-python",
   "name": "python",
   "nbconvert_exporter": "python",
   "pygments_lexer": "ipython3",
   "version": "3.11.5"
  },
  "rise": {
   "enable_chalkboard": true,
   "scroll": true
  }
 },
 "nbformat": 4,
 "nbformat_minor": 5
}
